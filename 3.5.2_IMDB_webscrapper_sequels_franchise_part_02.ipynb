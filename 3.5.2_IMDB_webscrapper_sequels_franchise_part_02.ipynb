{
 "cells": [
  {
   "cell_type": "markdown",
   "metadata": {},
   "source": [
    "## Scrape IMDB Movies with Sequels/Franchise/Universe (Part II)"
   ]
  },
  {
   "cell_type": "markdown",
   "metadata": {},
   "source": [
    "A continuation from Part I. \n",
    "\n",
    "Part I scraped the movie data from the sequel list.\n",
    "\n",
    "Part II will use the movie urls scraped from Part I and extract more data such as budgets, release dates and potentially the cast. Other csv files are concatenated which includes movie franchises such as James Bond, Madea and others."
   ]
  },
  {
   "cell_type": "markdown",
   "metadata": {},
   "source": [
    "## Load Libraries"
   ]
  },
  {
   "cell_type": "code",
   "execution_count": 1,
   "metadata": {
    "ExecuteTime": {
     "end_time": "2020-10-01T05:33:28.398620Z",
     "start_time": "2020-10-01T05:33:27.676397Z"
    }
   },
   "outputs": [],
   "source": [
    "from bs4            import BeautifulSoup as soup  # HTML data structure\n",
    "from urllib.request import urlopen       as uReq  # Web client\n",
    "from tqdm import tqdm\n",
    "\n",
    "import pandas as pd\n",
    "import numpy  as np\n",
    "\n",
    "import time"
   ]
  },
  {
   "cell_type": "markdown",
   "metadata": {},
   "source": [
    "## Load Data "
   ]
  },
  {
   "cell_type": "code",
   "execution_count": 2,
   "metadata": {
    "ExecuteTime": {
     "end_time": "2020-10-01T05:33:29.515097Z",
     "start_time": "2020-10-01T05:33:29.490452Z"
    }
   },
   "outputs": [
    {
     "data": {
      "text/plain": [
       "(1150, 8)"
      ]
     },
     "execution_count": 2,
     "metadata": {},
     "output_type": "execute_result"
    }
   ],
   "source": [
    "df_mo = pd.read_csv('./data/movies_with_sequels_imdb_first_pass_part_01_raw.csv')\n",
    "\n",
    "df_mo_bond  = pd.read_csv('./data/movies_with_sequels_imdb_first_pass_james_bond.csv')\n",
    "df_mo_madea = pd.read_csv('./data/movies_with_sequels_imdb_first_pass_madea.csv')\n",
    "\n",
    "# Concatenate\n",
    "df_mo = pd.concat([df_mo,df_mo_bond], ignore_index=True)\n",
    "df_mo = pd.concat([df_mo,df_mo_madea],ignore_index=True)\n",
    "\n",
    "df_mo.shape"
   ]
  },
  {
   "cell_type": "markdown",
   "metadata": {},
   "source": [
    "## Some Cleaning"
   ]
  },
  {
   "cell_type": "markdown",
   "metadata": {},
   "source": [
    "The cleaning portion involves removing movies released on Videos/TV and those that are yet to be released."
   ]
  },
  {
   "cell_type": "code",
   "execution_count": 3,
   "metadata": {
    "ExecuteTime": {
     "end_time": "2020-10-01T05:33:31.291908Z",
     "start_time": "2020-10-01T05:33:31.288587Z"
    }
   },
   "outputs": [],
   "source": [
    "# Convert Year-Rel-Type to String first\n",
    "df_mo['Year-Rel-Type'] = df_mo['Year-Rel-Type'].astype(str)"
   ]
  },
  {
   "cell_type": "code",
   "execution_count": 4,
   "metadata": {
    "ExecuteTime": {
     "end_time": "2020-10-01T05:33:31.922334Z",
     "start_time": "2020-10-01T05:33:31.907713Z"
    }
   },
   "outputs": [
    {
     "name": "stderr",
     "output_type": "stream",
     "text": [
      "/Users/phoitack/anaconda3/lib/python3.7/site-packages/ipykernel_launcher.py:11: SettingWithCopyWarning: \n",
      "A value is trying to be set on a copy of a slice from a DataFrame.\n",
      "Try using .loc[row_indexer,col_indexer] = value instead\n",
      "\n",
      "See the caveats in the documentation: https://pandas.pydata.org/pandas-docs/stable/user_guide/indexing.html#returning-a-view-versus-a-copy\n",
      "  # This is added back by InteractiveShellApp.init_path()\n"
     ]
    }
   ],
   "source": [
    "# Remove unwanted movies that were released on Videos and TV\n",
    "df_no_videos = df_mo[~df_mo['Year-Rel-Type'].str.contains('Video')]\n",
    "\n",
    "#df_no_videos\n",
    "df_no_tv_videos = df_no_videos[~df_no_videos['Year-Rel-Type'].str.contains('TV')]\n",
    "\n",
    "# Remove any movies that have not been released yet\n",
    "df_mo_clean_1 = df_no_tv_videos[df_no_tv_videos['Year-Rel-Type'] != 'None']\n",
    "\n",
    "# Now convert the column back to integer\n",
    "df_mo_clean_1['Year-Rel-Type'] = pd.to_numeric(df_mo_clean_1['Year-Rel-Type'], downcast='integer')\n",
    "\n",
    "# Remove again those that have not been released\n",
    "df_mo_clean_1 = df_mo_clean_1[df_mo_clean_1['Year-Rel-Type'] < 2021]\n",
    "df_mo_clean_2 = df_mo_clean_1[df_mo_clean_1['Runtime'] != 'None']"
   ]
  },
  {
   "cell_type": "code",
   "execution_count": 5,
   "metadata": {
    "ExecuteTime": {
     "end_time": "2020-10-01T05:33:32.054511Z",
     "start_time": "2020-10-01T05:33:32.051469Z"
    }
   },
   "outputs": [
    {
     "data": {
      "text/plain": [
       "(976, 8)"
      ]
     },
     "execution_count": 5,
     "metadata": {},
     "output_type": "execute_result"
    }
   ],
   "source": [
    "df_mo_clean_2.reset_index;\n",
    "\n",
    "df_mo_clean_2.shape"
   ]
  },
  {
   "cell_type": "code",
   "execution_count": 6,
   "metadata": {
    "ExecuteTime": {
     "end_time": "2020-10-01T05:33:33.413107Z",
     "start_time": "2020-10-01T05:33:33.224290Z"
    }
   },
   "outputs": [],
   "source": [
    "df_mo_clean_2.to_csv('./data/movies_with_sequels_imdb_clean.csv',index=False)"
   ]
  },
  {
   "cell_type": "code",
   "execution_count": 7,
   "metadata": {
    "ExecuteTime": {
     "end_time": "2020-10-01T05:33:33.563276Z",
     "start_time": "2020-10-01T05:33:33.559390Z"
    }
   },
   "outputs": [
    {
     "name": "stdout",
     "output_type": "stream",
     "text": [
      "Missing Metacritic Scores: 112\n"
     ]
    }
   ],
   "source": [
    "# Those that are missing Metacritic scores\n",
    "print('Missing Metacritic Scores:', len(df_mo_clean_2[df_mo_clean_2['Metacritic Score'] == 'None']))\n"
   ]
  },
  {
   "cell_type": "code",
   "execution_count": 8,
   "metadata": {
    "ExecuteTime": {
     "end_time": "2020-10-01T05:33:33.735160Z",
     "start_time": "2020-10-01T05:33:33.730948Z"
    }
   },
   "outputs": [
    {
     "name": "stdout",
     "output_type": "stream",
     "text": [
      "Missing IMDB Scores:  0\n"
     ]
    }
   ],
   "source": [
    "print('Missing IMDB Scores: ', len(df_mo_clean_2[df_mo_clean_2['IMDB Score'] == 'None']))"
   ]
  },
  {
   "cell_type": "code",
   "execution_count": 9,
   "metadata": {
    "ExecuteTime": {
     "end_time": "2020-10-01T05:33:33.879502Z",
     "start_time": "2020-10-01T05:33:33.875135Z"
    }
   },
   "outputs": [
    {
     "name": "stderr",
     "output_type": "stream",
     "text": [
      "/Users/phoitack/anaconda3/lib/python3.7/site-packages/ipykernel_launcher.py:2: SettingWithCopyWarning: \n",
      "A value is trying to be set on a copy of a slice from a DataFrame.\n",
      "Try using .loc[row_indexer,col_indexer] = value instead\n",
      "\n",
      "See the caveats in the documentation: https://pandas.pydata.org/pandas-docs/stable/user_guide/indexing.html#returning-a-view-versus-a-copy\n",
      "  \n"
     ]
    }
   ],
   "source": [
    "# Lets check average and std of IMDB scores\n",
    "df_mo_clean_2['IMDB Score'] = df_mo_clean_2['IMDB Score'].astype(float)\n",
    "#df_mo_clean_2['Metacritic Score'] = df_mo_clean_2['Metacritic Score'].apply(pd.to_numeric, errors='ignore')\n",
    "#print( df_mo_clean_2['IMDB Score'].sum() )"
   ]
  },
  {
   "cell_type": "code",
   "execution_count": 10,
   "metadata": {
    "ExecuteTime": {
     "end_time": "2020-10-01T05:33:34.938076Z",
     "start_time": "2020-10-01T05:33:34.934160Z"
    }
   },
   "outputs": [
    {
     "name": "stdout",
     "output_type": "stream",
     "text": [
      "Mean  IMDB Score: 6.4\n",
      "Stdev IMDB Score: 1.13\n"
     ]
    }
   ],
   "source": [
    "# Hold on to these values for now\n",
    "print('Mean  IMDB Score: {:.1f}'.format(df_mo_clean_2['IMDB Score'].mean()))\n",
    "print('Stdev IMDB Score: {:.2f}'.format(df_mo_clean_2['IMDB Score'].std() ))"
   ]
  },
  {
   "cell_type": "code",
   "execution_count": 11,
   "metadata": {
    "ExecuteTime": {
     "end_time": "2020-10-01T05:33:35.864000Z",
     "start_time": "2020-10-01T05:33:35.857778Z"
    }
   },
   "outputs": [
    {
     "name": "stdout",
     "output_type": "stream",
     "text": [
      "Mean  Meta Score: 54\n",
      "Stdev Meta Score: 17.42\n"
     ]
    }
   ],
   "source": [
    "# Extract Metacritic Scores\n",
    "df_meta = df_mo_clean_2[df_mo_clean_2['Metacritic Score'] != 'None']\n",
    "\n",
    "df_meta = df_meta['Metacritic Score'].astype(float)\n",
    "\n",
    "print('Mean  Meta Score: {:.0f}'.format(df_meta.mean() ))\n",
    "print('Stdev Meta Score: {:.2f}'.format(df_meta.std()  ))"
   ]
  },
  {
   "cell_type": "markdown",
   "metadata": {},
   "source": [
    "## Load Supplementary Data"
   ]
  },
  {
   "cell_type": "markdown",
   "metadata": {},
   "source": [
    "This spreadsheet contains extra movies that were manually searched and curated. CSV file contains a rudimentary title and link. "
   ]
  },
  {
   "cell_type": "code",
   "execution_count": 12,
   "metadata": {
    "ExecuteTime": {
     "end_time": "2020-10-01T05:33:37.376954Z",
     "start_time": "2020-10-01T05:33:37.362655Z"
    }
   },
   "outputs": [
    {
     "name": "stdout",
     "output_type": "stream",
     "text": [
      "Number of Rows:  1089\n"
     ]
    }
   ],
   "source": [
    "df_mo_extra = pd.read_csv('./data/movies_sequels_extra_manual_input.csv')\n",
    "\n",
    "#df_mo_clean_title_url = df_mo_clean_2[['Title','url']]\n",
    "\n",
    "# Now concatenate\n",
    "df_mo_clean = pd.concat([df_mo_clean_2,df_mo_extra], ignore_index=True)\n",
    "\n",
    "df_mo_clean = df_mo_clean[['Title','url']]\n",
    "\n",
    "df_mo_clean.to_csv('./data/movies_sequels_clean_extra_title_url.csv',index=False)\n",
    "\n",
    "print('Number of Rows: ', len(df_mo_clean))"
   ]
  },
  {
   "cell_type": "markdown",
   "metadata": {},
   "source": [
    "## Start Webscrapping"
   ]
  },
  {
   "cell_type": "markdown",
   "metadata": {},
   "source": [
    "The function below goes through each movie webpage and extracts the following items:\n",
    "\n",
    "- Title\n",
    "- IMDB Score\n",
    "- Metacritic Score\n",
    "- Genres\n",
    "- Runtime\n",
    "- MPAA rating\n",
    "- Budget\n",
    "- The opening weekend income\n",
    "- Gross in the USA\n",
    "- World Wide Gross\n",
    "- Exact Release Date\n",
    "- Country of Origin\n",
    "\n",
    "In the future, need to extract cast, director, producer, studio, writers"
   ]
  },
  {
   "cell_type": "code",
   "execution_count": 15,
   "metadata": {
    "ExecuteTime": {
     "end_time": "2020-10-01T05:34:38.529941Z",
     "start_time": "2020-10-01T05:34:38.511263Z"
    }
   },
   "outputs": [],
   "source": [
    "def get_movie_details(movie_urls):\n",
    "    \n",
    "    # This determines the size of 'None' array to be later used \n",
    "    # in extending the empty list. If more information is needed, this \n",
    "    # number will change\n",
    "    list_size_temp = 7\n",
    "    \n",
    "    # Add a sleep time (seconds) to not overload site\n",
    "    sleep_time = 5\n",
    "    \n",
    "    count = 0    # Initialize Counter\n",
    "    step  = 100  # Sleep every 100 items\n",
    "    \n",
    "    # Initialize arrays\n",
    "    movie_title     = []\n",
    "    imdb_score      = []\n",
    "    meta_score      = []\n",
    "    mpaa_rating     = []\n",
    "    genres          = []\n",
    "    \n",
    "    budget          = []\n",
    "    opening_weekend = []\n",
    "    gross_usa       = []\n",
    "    gross_world     = []\n",
    "    rel_date        = []\n",
    "    country         = []\n",
    "    runtime         = []    \n",
    "    \n",
    "    # Now go through each movie's URL page and extract financial\n",
    "    # and other information\n",
    "    for i_url in tqdm(range(0,len(movie_urls))):\n",
    "    #for i_url in tqdm(range(0,5)):\n",
    "    \n",
    "        count += 1\n",
    "                \n",
    "        url = movie_urls[i_url]\n",
    "        \n",
    "        # Opens the connection and downloads html page from url\n",
    "        uClient = uReq(url)\n",
    "        \n",
    "        # Parses html into a soup data structure to traverse html\n",
    "        # as if it were a json data type.\n",
    "        page_soup = soup(uClient.read(), \"html.parser\")\n",
    "        uClient.close()\n",
    "        \n",
    "        # Get Title\n",
    "        try:\n",
    "            m_title = page_soup.find('div', class_ = 'title_wrapper').h1.text.strip()\n",
    "            movie_title.append(m_title)\n",
    "        except Exception as e:\n",
    "            movie_title.append('None')\n",
    "        \n",
    "        \n",
    "        # Get IMDB Score\n",
    "        try:\n",
    "            im_score = page_soup.find('div', class_ = 'ratingValue').text.split('/')[0].strip()\n",
    "            #print('Score: ', im_score)\n",
    "            imdb_score.append(im_score)\n",
    "        except Exception as e:\n",
    "            imdb_score.append('None')\n",
    "        \n",
    "        \n",
    "        # Get MPAA Rating\n",
    "        try:\n",
    "            rating = page_soup.find('div', class_ = 'subtext').text.split('|')[0].strip()\n",
    "            mpaa_rating.append(rating)\n",
    "            #print('Rated: ',rating)\n",
    "        except Exception as e:\n",
    "            mpaa_rating.append('None')\n",
    "        \n",
    "        # Get Genre\n",
    "        try:\n",
    "            genre = []\n",
    "            gen = page_soup.find('div', class_ = 'subtext').text.split('|')[2]\n",
    "            \n",
    "            for i_gen in gen.split(','):\n",
    "                genre.append(i_gen.strip())\n",
    "            \n",
    "            genres.append(' '.join(genre))\n",
    "                        \n",
    "        except Exception as e:\n",
    "            genres.append('None')\n",
    "        \n",
    "        \n",
    "        # Get Metacritic Score\n",
    "        try:\n",
    "            meta = page_soup.find('div', class_ = 'titleReviewBarItem').a.text.strip()\n",
    "            meta_score.append(int(meta))\n",
    "        except Exception as e:\n",
    "            meta_score.append('None')\n",
    "            \n",
    "        \n",
    "        # Further information is stored in h4 tags\n",
    "        h4s = page_soup.findAll('h4')\n",
    "        \n",
    "        # Initialize None array \n",
    "        detail = list_size_temp*['None']\n",
    "        \n",
    "        for h4 in h4s:\n",
    "            if 'Budget:' in h4:\n",
    "                # Some movies are quoted in Euros, Francs, GBP, HKD, etc. Best is to just\n",
    "                # parse the entire string and remove the commas. \n",
    "                # Deal with the conversion rate later\n",
    "                #budg = int(''.join(h4.next_sibling.strip().replace('EUR','').replace('GBP','').replace('FRF','').replace('$','').split(',')))\n",
    "                budg = ''.join(h4.next_sibling.strip().split(','))\n",
    "                detail[0] = budg\n",
    "\n",
    "            if 'Opening Weekend USA:' in h4:\n",
    "                # To be safe, do not replace $, some may be in foreign currency\n",
    "                # Removed replace('$','')\n",
    "                op_wknd = ''.join(h4.next_sibling.strip().split(','))\n",
    "                detail[1] = op_wknd\n",
    "\n",
    "            if 'Gross USA:' in h4:\n",
    "                # To be safe, do not replace $, some may be in foreign currency\n",
    "                grs_usa = ''.join(h4.next_sibling.strip().split(','))\n",
    "                detail[2] = grs_usa\n",
    "\n",
    "            if 'Cumulative Worldwide Gross:' in h4:\n",
    "                # To be safe, do not replace $, some may be in foreign currency\n",
    "                grs_ww = ''.join(h4.next_sibling.strip().split(','))\n",
    "                #print('WorldWide: ',int(''.join(h4.next_sibling.strip().replace('$','').split(','))))\n",
    "                detail[3] = grs_ww\n",
    "\n",
    "            # Get the release date\n",
    "            if 'Release Date:' in h4:\n",
    "                r_date = ' '.join(h4.next_sibling.strip().split()[:-1])\n",
    "                detail[4] = r_date\n",
    "                #print(temp5)\n",
    "\n",
    "            # Get Country\n",
    "            if 'Country:' in h4:\n",
    "                cntry = h4.next_sibling.next_sibling.text\n",
    "                detail[5] = cntry\n",
    "                \n",
    "            # Runtime\n",
    "            if 'Runtime:' in h4:\n",
    "                runt = h4.next_sibling.next_sibling.text.strip().split(' ')[0]\n",
    "                detail[6] = runt\n",
    "    \n",
    "                \n",
    "        budget.append(detail[0])\n",
    "        opening_weekend.append(detail[1])\n",
    "        gross_usa.append(detail[2])\n",
    "        gross_world.append(detail[3])\n",
    "        rel_date.append(detail[4])\n",
    "        country.append(detail[5])\n",
    "        runtime.append(detail[6])\n",
    "        \n",
    "        # Reprieve\n",
    "        if (count%step == 0):\n",
    "            time.sleep(sleep_time)\n",
    "        \n",
    "    movie_dict = {'Title'           : movie_title,\n",
    "                  'url'             : movie_urls,\n",
    "                  'IMDB Score'      : imdb_score,\n",
    "                  'Metacritic'      : meta_score,\n",
    "                  'Runtime (mins)'  : runtime,\n",
    "                  'Budget'          : budget,\n",
    "                  'Opening Weekend' : opening_weekend,\n",
    "                  'Gross USA'       : gross_usa,\n",
    "                  'Gross World'     : gross_world,\n",
    "                  'Release Date'    : rel_date,\n",
    "                  'Rating'          : mpaa_rating,\n",
    "                  'Genres'          : genres,\n",
    "                  'Country'         : country}\n",
    "    \n",
    "    dfm = pd.DataFrame(movie_dict)\n",
    "    \n",
    "    return(dfm)"
   ]
  },
  {
   "cell_type": "code",
   "execution_count": 16,
   "metadata": {
    "ExecuteTime": {
     "end_time": "2020-10-01T05:52:34.001919Z",
     "start_time": "2020-10-01T05:34:39.737629Z"
    }
   },
   "outputs": [
    {
     "name": "stderr",
     "output_type": "stream",
     "text": [
      "100%|██████████| 1089/1089 [17:54<00:00,  1.01it/s]"
     ]
    },
    {
     "name": "stdout",
     "output_type": "stream",
     "text": [
      "1089\n"
     ]
    },
    {
     "name": "stderr",
     "output_type": "stream",
     "text": [
      "\n"
     ]
    }
   ],
   "source": [
    "# Extract urls only as input\n",
    "m_urls = df_mo_clean['url']\n",
    "\n",
    "# If the function below is commented out \n",
    "df_movie_details = get_movie_details(m_urls)\n",
    "\n",
    "df_movie_details.head()\n",
    "\n",
    "print(len(df_movie_details))"
   ]
  },
  {
   "cell_type": "code",
   "execution_count": 17,
   "metadata": {
    "ExecuteTime": {
     "end_time": "2020-10-01T05:53:16.631966Z",
     "start_time": "2020-10-01T05:53:16.619008Z"
    }
   },
   "outputs": [],
   "source": [
    "df_movie_details.to_csv('./data/movies_with_sequels_imdb_details_raw.csv',index=False)"
   ]
  },
  {
   "cell_type": "markdown",
   "metadata": {},
   "source": [
    "### Get More Movies (7/9/2020)"
   ]
  },
  {
   "cell_type": "code",
   "execution_count": 19,
   "metadata": {
    "ExecuteTime": {
     "end_time": "2020-10-01T05:55:17.196055Z",
     "start_time": "2020-10-01T05:55:17.180580Z"
    }
   },
   "outputs": [
    {
     "data": {
      "text/html": [
       "<div>\n",
       "<style scoped>\n",
       "    .dataframe tbody tr th:only-of-type {\n",
       "        vertical-align: middle;\n",
       "    }\n",
       "\n",
       "    .dataframe tbody tr th {\n",
       "        vertical-align: top;\n",
       "    }\n",
       "\n",
       "    .dataframe thead th {\n",
       "        text-align: right;\n",
       "    }\n",
       "</style>\n",
       "<table border=\"1\" class=\"dataframe\">\n",
       "  <thead>\n",
       "    <tr style=\"text-align: right;\">\n",
       "      <th></th>\n",
       "      <th>Title</th>\n",
       "      <th>url</th>\n",
       "      <th>Year-Rel-Type</th>\n",
       "      <th>IMDB Score</th>\n",
       "      <th>Metacritic Score</th>\n",
       "      <th>Rating</th>\n",
       "      <th>Genre</th>\n",
       "      <th>Runtime</th>\n",
       "    </tr>\n",
       "  </thead>\n",
       "  <tbody>\n",
       "    <tr>\n",
       "      <th>0</th>\n",
       "      <td>Mary Poppins</td>\n",
       "      <td>https://www.imdb.com/title/tt0058331/</td>\n",
       "      <td>NaN</td>\n",
       "      <td>NaN</td>\n",
       "      <td>NaN</td>\n",
       "      <td>NaN</td>\n",
       "      <td>NaN</td>\n",
       "      <td>NaN</td>\n",
       "    </tr>\n",
       "    <tr>\n",
       "      <th>1</th>\n",
       "      <td>Mary Poppins Returns</td>\n",
       "      <td>https://www.imdb.com/title/tt5028340/</td>\n",
       "      <td>NaN</td>\n",
       "      <td>NaN</td>\n",
       "      <td>NaN</td>\n",
       "      <td>NaN</td>\n",
       "      <td>NaN</td>\n",
       "      <td>NaN</td>\n",
       "    </tr>\n",
       "    <tr>\n",
       "      <th>2</th>\n",
       "      <td>Airplane</td>\n",
       "      <td>https://www.imdb.com/title/tt0080339/</td>\n",
       "      <td>NaN</td>\n",
       "      <td>NaN</td>\n",
       "      <td>NaN</td>\n",
       "      <td>NaN</td>\n",
       "      <td>NaN</td>\n",
       "      <td>NaN</td>\n",
       "    </tr>\n",
       "    <tr>\n",
       "      <th>3</th>\n",
       "      <td>Airplane II</td>\n",
       "      <td>https://www.imdb.com/title/tt0083530/</td>\n",
       "      <td>NaN</td>\n",
       "      <td>NaN</td>\n",
       "      <td>NaN</td>\n",
       "      <td>NaN</td>\n",
       "      <td>NaN</td>\n",
       "      <td>NaN</td>\n",
       "    </tr>\n",
       "    <tr>\n",
       "      <th>4</th>\n",
       "      <td>Human Centipede</td>\n",
       "      <td>https://www.imdb.com/title/tt1467304/</td>\n",
       "      <td>NaN</td>\n",
       "      <td>NaN</td>\n",
       "      <td>NaN</td>\n",
       "      <td>NaN</td>\n",
       "      <td>NaN</td>\n",
       "      <td>NaN</td>\n",
       "    </tr>\n",
       "  </tbody>\n",
       "</table>\n",
       "</div>"
      ],
      "text/plain": [
       "                  Title                                    url  Year-Rel-Type  \\\n",
       "0          Mary Poppins  https://www.imdb.com/title/tt0058331/            NaN   \n",
       "1  Mary Poppins Returns  https://www.imdb.com/title/tt5028340/            NaN   \n",
       "2              Airplane  https://www.imdb.com/title/tt0080339/            NaN   \n",
       "3           Airplane II  https://www.imdb.com/title/tt0083530/            NaN   \n",
       "4       Human Centipede  https://www.imdb.com/title/tt1467304/            NaN   \n",
       "\n",
       "   IMDB Score  Metacritic Score  Rating  Genre  Runtime  \n",
       "0         NaN               NaN     NaN    NaN      NaN  \n",
       "1         NaN               NaN     NaN    NaN      NaN  \n",
       "2         NaN               NaN     NaN    NaN      NaN  \n",
       "3         NaN               NaN     NaN    NaN      NaN  \n",
       "4         NaN               NaN     NaN    NaN      NaN  "
      ]
     },
     "execution_count": 19,
     "metadata": {},
     "output_type": "execute_result"
    }
   ],
   "source": [
    "# Load new csv file\n",
    "df_extra_movies = pd.read_csv('./data/movies_sequels_extra_manual_input_2.csv')\n",
    "\n",
    "df_extra_movies.head()"
   ]
  },
  {
   "cell_type": "code",
   "execution_count": 20,
   "metadata": {
    "ExecuteTime": {
     "end_time": "2020-10-01T05:55:20.456508Z",
     "start_time": "2020-10-01T05:55:20.453795Z"
    }
   },
   "outputs": [],
   "source": [
    "m_urls_extra = df_extra_movies['url']"
   ]
  },
  {
   "cell_type": "code",
   "execution_count": 21,
   "metadata": {
    "ExecuteTime": {
     "end_time": "2020-10-01T05:58:14.622449Z",
     "start_time": "2020-10-01T05:55:23.781277Z"
    }
   },
   "outputs": [
    {
     "name": "stderr",
     "output_type": "stream",
     "text": [
      "100%|██████████| 180/180 [02:50<00:00,  1.05it/s]\n"
     ]
    }
   ],
   "source": [
    "# Scrape extra movies\n",
    "df_movie_extra_details = get_movie_details(m_urls_extra)"
   ]
  },
  {
   "cell_type": "code",
   "execution_count": 22,
   "metadata": {
    "ExecuteTime": {
     "end_time": "2020-10-01T06:02:11.625431Z",
     "start_time": "2020-10-01T06:02:11.610434Z"
    }
   },
   "outputs": [
    {
     "data": {
      "text/html": [
       "<div>\n",
       "<style scoped>\n",
       "    .dataframe tbody tr th:only-of-type {\n",
       "        vertical-align: middle;\n",
       "    }\n",
       "\n",
       "    .dataframe tbody tr th {\n",
       "        vertical-align: top;\n",
       "    }\n",
       "\n",
       "    .dataframe thead th {\n",
       "        text-align: right;\n",
       "    }\n",
       "</style>\n",
       "<table border=\"1\" class=\"dataframe\">\n",
       "  <thead>\n",
       "    <tr style=\"text-align: right;\">\n",
       "      <th></th>\n",
       "      <th>Title</th>\n",
       "      <th>url</th>\n",
       "      <th>IMDB Score</th>\n",
       "      <th>Metacritic</th>\n",
       "      <th>Runtime (mins)</th>\n",
       "      <th>Budget</th>\n",
       "      <th>Opening Weekend</th>\n",
       "      <th>Gross USA</th>\n",
       "      <th>Gross World</th>\n",
       "      <th>Release Date</th>\n",
       "      <th>Rating</th>\n",
       "      <th>Genres</th>\n",
       "      <th>Country</th>\n",
       "    </tr>\n",
       "  </thead>\n",
       "  <tbody>\n",
       "    <tr>\n",
       "      <th>0</th>\n",
       "      <td>Mary Poppins (1964)</td>\n",
       "      <td>https://www.imdb.com/title/tt0058331/</td>\n",
       "      <td>7.8</td>\n",
       "      <td>88</td>\n",
       "      <td>139</td>\n",
       "      <td>$6000000</td>\n",
       "      <td>None</td>\n",
       "      <td>$102272727</td>\n",
       "      <td>$103082283</td>\n",
       "      <td>18 June 1965</td>\n",
       "      <td>G</td>\n",
       "      <td>Comedy Family Fantasy</td>\n",
       "      <td>USA</td>\n",
       "    </tr>\n",
       "    <tr>\n",
       "      <th>1</th>\n",
       "      <td>Mary Poppins Returns (2018)</td>\n",
       "      <td>https://www.imdb.com/title/tt5028340/</td>\n",
       "      <td>6.7</td>\n",
       "      <td>66</td>\n",
       "      <td>130</td>\n",
       "      <td>$130000000</td>\n",
       "      <td>$23523121</td>\n",
       "      <td>$171958438</td>\n",
       "      <td>$349545966</td>\n",
       "      <td>19 December 2018</td>\n",
       "      <td>PG</td>\n",
       "      <td>Comedy Family Fantasy</td>\n",
       "      <td>USA</td>\n",
       "    </tr>\n",
       "    <tr>\n",
       "      <th>2</th>\n",
       "      <td>Airplane! (1980)</td>\n",
       "      <td>https://www.imdb.com/title/tt0080339/</td>\n",
       "      <td>7.7</td>\n",
       "      <td>78</td>\n",
       "      <td>88</td>\n",
       "      <td>$3500000</td>\n",
       "      <td>None</td>\n",
       "      <td>$83453539</td>\n",
       "      <td>$83453539</td>\n",
       "      <td>2 July 1980</td>\n",
       "      <td>PG</td>\n",
       "      <td>Comedy</td>\n",
       "      <td>USA</td>\n",
       "    </tr>\n",
       "    <tr>\n",
       "      <th>3</th>\n",
       "      <td>Airplane II: The Sequel (1982)</td>\n",
       "      <td>https://www.imdb.com/title/tt0083530/</td>\n",
       "      <td>6.2</td>\n",
       "      <td>48</td>\n",
       "      <td>85</td>\n",
       "      <td>$15000000</td>\n",
       "      <td>$5329208</td>\n",
       "      <td>$27150534</td>\n",
       "      <td>$27150534</td>\n",
       "      <td>10 December 1982</td>\n",
       "      <td>PG</td>\n",
       "      <td>Comedy Sci-Fi</td>\n",
       "      <td>USA</td>\n",
       "    </tr>\n",
       "    <tr>\n",
       "      <th>4</th>\n",
       "      <td>The Human Centipede (First Sequence) (2009)</td>\n",
       "      <td>https://www.imdb.com/title/tt1467304/</td>\n",
       "      <td>4.4</td>\n",
       "      <td>33</td>\n",
       "      <td>92</td>\n",
       "      <td>EUR1500000</td>\n",
       "      <td>$12424</td>\n",
       "      <td>$181467</td>\n",
       "      <td>$325113</td>\n",
       "      <td>28 April 2010</td>\n",
       "      <td>R</td>\n",
       "      <td>Horror</td>\n",
       "      <td>Netherlands</td>\n",
       "    </tr>\n",
       "  </tbody>\n",
       "</table>\n",
       "</div>"
      ],
      "text/plain": [
       "                                         Title  \\\n",
       "0                          Mary Poppins (1964)   \n",
       "1                  Mary Poppins Returns (2018)   \n",
       "2                             Airplane! (1980)   \n",
       "3               Airplane II: The Sequel (1982)   \n",
       "4  The Human Centipede (First Sequence) (2009)   \n",
       "\n",
       "                                     url IMDB Score Metacritic Runtime (mins)  \\\n",
       "0  https://www.imdb.com/title/tt0058331/        7.8         88            139   \n",
       "1  https://www.imdb.com/title/tt5028340/        6.7         66            130   \n",
       "2  https://www.imdb.com/title/tt0080339/        7.7         78             88   \n",
       "3  https://www.imdb.com/title/tt0083530/        6.2         48             85   \n",
       "4  https://www.imdb.com/title/tt1467304/        4.4         33             92   \n",
       "\n",
       "       Budget Opening Weekend   Gross USA Gross World      Release Date  \\\n",
       "0    $6000000            None  $102272727  $103082283      18 June 1965   \n",
       "1  $130000000       $23523121  $171958438  $349545966  19 December 2018   \n",
       "2    $3500000            None   $83453539   $83453539       2 July 1980   \n",
       "3   $15000000        $5329208   $27150534   $27150534  10 December 1982   \n",
       "4  EUR1500000          $12424     $181467     $325113     28 April 2010   \n",
       "\n",
       "  Rating                 Genres      Country  \n",
       "0      G  Comedy Family Fantasy          USA  \n",
       "1     PG  Comedy Family Fantasy          USA  \n",
       "2     PG                 Comedy          USA  \n",
       "3     PG          Comedy Sci-Fi          USA  \n",
       "4      R                 Horror  Netherlands  "
      ]
     },
     "execution_count": 22,
     "metadata": {},
     "output_type": "execute_result"
    }
   ],
   "source": [
    "df_movie_extra_details.head()"
   ]
  },
  {
   "cell_type": "code",
   "execution_count": 23,
   "metadata": {
    "ExecuteTime": {
     "end_time": "2020-10-01T06:02:15.036078Z",
     "start_time": "2020-10-01T06:02:15.029843Z"
    }
   },
   "outputs": [],
   "source": [
    "df_movie_extra_details.to_csv('./data/movies_with_sequels_imdb_details_raw_2.csv',index=False)"
   ]
  },
  {
   "cell_type": "markdown",
   "metadata": {},
   "source": [
    "## Next Steps"
   ]
  },
  {
   "cell_type": "markdown",
   "metadata": {},
   "source": [
    "After going through the last generated csv file, several cleaning process steps were taken:\n",
    "\n",
    "- Removed movie series that had an odd number to it. Example: The Iron Man series were numbered 1 through 3. I removed the 3rd installment since I only need the target variable of which is Iron Man 2. However, if there are 5 movies in a series, I will remove the 5th movie. This was painful manual process that could have been eased using nested dictionaries in JSON format.\n",
    "- In addition, I also removed movies that were missing budget information. These will be added later with a prediction using Regression.\n",
    "\n",
    "Next Steps:\n",
    "\n",
    "- The budget information contains several different currencies. These need to be converted to USD.\n",
    "- Convert MPAA Rating to numerical if needed, testing needs to be done on how close an ML model will match the box office returns. This also goes for perhaps the Genre. \n",
    "- Models in the pipeline are Linear Regression, Random Forest Regressor, XGBoost Regressor and LightGBM\n",
    "- More data: Add some Hong Kong movies and Bollywood movies"
   ]
  },
  {
   "cell_type": "code",
   "execution_count": 25,
   "metadata": {
    "ExecuteTime": {
     "end_time": "2020-10-02T04:44:04.825026Z",
     "start_time": "2020-10-02T04:44:04.801400Z"
    }
   },
   "outputs": [
    {
     "ename": "FileNotFoundError",
     "evalue": "[Errno 2] File ./data/movies_with_sequels_imdb_first_pass_part_02_budgets_n_extra_raw.csv does not exist: './data/movies_with_sequels_imdb_first_pass_part_02_budgets_n_extra_raw.csv'",
     "output_type": "error",
     "traceback": [
      "\u001b[0;31m---------------------------------------------------------------------------\u001b[0m",
      "\u001b[0;31mFileNotFoundError\u001b[0m                         Traceback (most recent call last)",
      "\u001b[0;32m<ipython-input-25-5e79cd4d5ab4>\u001b[0m in \u001b[0;36m<module>\u001b[0;34m\u001b[0m\n\u001b[0;32m----> 1\u001b[0;31m \u001b[0mdf_mo_finances\u001b[0m \u001b[0;34m=\u001b[0m \u001b[0mpd\u001b[0m\u001b[0;34m.\u001b[0m\u001b[0mread_csv\u001b[0m\u001b[0;34m(\u001b[0m\u001b[0;34m'./data/movies_with_sequels_imdb_first_pass_part_02_budgets_n_extra_raw.csv'\u001b[0m\u001b[0;34m)\u001b[0m\u001b[0;34m\u001b[0m\u001b[0;34m\u001b[0m\u001b[0m\n\u001b[0m",
      "\u001b[0;32m~/anaconda3/lib/python3.7/site-packages/pandas/io/parsers.py\u001b[0m in \u001b[0;36mparser_f\u001b[0;34m(filepath_or_buffer, sep, delimiter, header, names, index_col, usecols, squeeze, prefix, mangle_dupe_cols, dtype, engine, converters, true_values, false_values, skipinitialspace, skiprows, skipfooter, nrows, na_values, keep_default_na, na_filter, verbose, skip_blank_lines, parse_dates, infer_datetime_format, keep_date_col, date_parser, dayfirst, cache_dates, iterator, chunksize, compression, thousands, decimal, lineterminator, quotechar, quoting, doublequote, escapechar, comment, encoding, dialect, error_bad_lines, warn_bad_lines, delim_whitespace, low_memory, memory_map, float_precision)\u001b[0m\n\u001b[1;32m    674\u001b[0m         )\n\u001b[1;32m    675\u001b[0m \u001b[0;34m\u001b[0m\u001b[0m\n\u001b[0;32m--> 676\u001b[0;31m         \u001b[0;32mreturn\u001b[0m \u001b[0m_read\u001b[0m\u001b[0;34m(\u001b[0m\u001b[0mfilepath_or_buffer\u001b[0m\u001b[0;34m,\u001b[0m \u001b[0mkwds\u001b[0m\u001b[0;34m)\u001b[0m\u001b[0;34m\u001b[0m\u001b[0;34m\u001b[0m\u001b[0m\n\u001b[0m\u001b[1;32m    677\u001b[0m \u001b[0;34m\u001b[0m\u001b[0m\n\u001b[1;32m    678\u001b[0m     \u001b[0mparser_f\u001b[0m\u001b[0;34m.\u001b[0m\u001b[0m__name__\u001b[0m \u001b[0;34m=\u001b[0m \u001b[0mname\u001b[0m\u001b[0;34m\u001b[0m\u001b[0;34m\u001b[0m\u001b[0m\n",
      "\u001b[0;32m~/anaconda3/lib/python3.7/site-packages/pandas/io/parsers.py\u001b[0m in \u001b[0;36m_read\u001b[0;34m(filepath_or_buffer, kwds)\u001b[0m\n\u001b[1;32m    446\u001b[0m \u001b[0;34m\u001b[0m\u001b[0m\n\u001b[1;32m    447\u001b[0m     \u001b[0;31m# Create the parser.\u001b[0m\u001b[0;34m\u001b[0m\u001b[0;34m\u001b[0m\u001b[0;34m\u001b[0m\u001b[0m\n\u001b[0;32m--> 448\u001b[0;31m     \u001b[0mparser\u001b[0m \u001b[0;34m=\u001b[0m \u001b[0mTextFileReader\u001b[0m\u001b[0;34m(\u001b[0m\u001b[0mfp_or_buf\u001b[0m\u001b[0;34m,\u001b[0m \u001b[0;34m**\u001b[0m\u001b[0mkwds\u001b[0m\u001b[0;34m)\u001b[0m\u001b[0;34m\u001b[0m\u001b[0;34m\u001b[0m\u001b[0m\n\u001b[0m\u001b[1;32m    449\u001b[0m \u001b[0;34m\u001b[0m\u001b[0m\n\u001b[1;32m    450\u001b[0m     \u001b[0;32mif\u001b[0m \u001b[0mchunksize\u001b[0m \u001b[0;32mor\u001b[0m \u001b[0miterator\u001b[0m\u001b[0;34m:\u001b[0m\u001b[0;34m\u001b[0m\u001b[0;34m\u001b[0m\u001b[0m\n",
      "\u001b[0;32m~/anaconda3/lib/python3.7/site-packages/pandas/io/parsers.py\u001b[0m in \u001b[0;36m__init__\u001b[0;34m(self, f, engine, **kwds)\u001b[0m\n\u001b[1;32m    878\u001b[0m             \u001b[0mself\u001b[0m\u001b[0;34m.\u001b[0m\u001b[0moptions\u001b[0m\u001b[0;34m[\u001b[0m\u001b[0;34m\"has_index_names\"\u001b[0m\u001b[0;34m]\u001b[0m \u001b[0;34m=\u001b[0m \u001b[0mkwds\u001b[0m\u001b[0;34m[\u001b[0m\u001b[0;34m\"has_index_names\"\u001b[0m\u001b[0;34m]\u001b[0m\u001b[0;34m\u001b[0m\u001b[0;34m\u001b[0m\u001b[0m\n\u001b[1;32m    879\u001b[0m \u001b[0;34m\u001b[0m\u001b[0m\n\u001b[0;32m--> 880\u001b[0;31m         \u001b[0mself\u001b[0m\u001b[0;34m.\u001b[0m\u001b[0m_make_engine\u001b[0m\u001b[0;34m(\u001b[0m\u001b[0mself\u001b[0m\u001b[0;34m.\u001b[0m\u001b[0mengine\u001b[0m\u001b[0;34m)\u001b[0m\u001b[0;34m\u001b[0m\u001b[0;34m\u001b[0m\u001b[0m\n\u001b[0m\u001b[1;32m    881\u001b[0m \u001b[0;34m\u001b[0m\u001b[0m\n\u001b[1;32m    882\u001b[0m     \u001b[0;32mdef\u001b[0m \u001b[0mclose\u001b[0m\u001b[0;34m(\u001b[0m\u001b[0mself\u001b[0m\u001b[0;34m)\u001b[0m\u001b[0;34m:\u001b[0m\u001b[0;34m\u001b[0m\u001b[0;34m\u001b[0m\u001b[0m\n",
      "\u001b[0;32m~/anaconda3/lib/python3.7/site-packages/pandas/io/parsers.py\u001b[0m in \u001b[0;36m_make_engine\u001b[0;34m(self, engine)\u001b[0m\n\u001b[1;32m   1112\u001b[0m     \u001b[0;32mdef\u001b[0m \u001b[0m_make_engine\u001b[0m\u001b[0;34m(\u001b[0m\u001b[0mself\u001b[0m\u001b[0;34m,\u001b[0m \u001b[0mengine\u001b[0m\u001b[0;34m=\u001b[0m\u001b[0;34m\"c\"\u001b[0m\u001b[0;34m)\u001b[0m\u001b[0;34m:\u001b[0m\u001b[0;34m\u001b[0m\u001b[0;34m\u001b[0m\u001b[0m\n\u001b[1;32m   1113\u001b[0m         \u001b[0;32mif\u001b[0m \u001b[0mengine\u001b[0m \u001b[0;34m==\u001b[0m \u001b[0;34m\"c\"\u001b[0m\u001b[0;34m:\u001b[0m\u001b[0;34m\u001b[0m\u001b[0;34m\u001b[0m\u001b[0m\n\u001b[0;32m-> 1114\u001b[0;31m             \u001b[0mself\u001b[0m\u001b[0;34m.\u001b[0m\u001b[0m_engine\u001b[0m \u001b[0;34m=\u001b[0m \u001b[0mCParserWrapper\u001b[0m\u001b[0;34m(\u001b[0m\u001b[0mself\u001b[0m\u001b[0;34m.\u001b[0m\u001b[0mf\u001b[0m\u001b[0;34m,\u001b[0m \u001b[0;34m**\u001b[0m\u001b[0mself\u001b[0m\u001b[0;34m.\u001b[0m\u001b[0moptions\u001b[0m\u001b[0;34m)\u001b[0m\u001b[0;34m\u001b[0m\u001b[0;34m\u001b[0m\u001b[0m\n\u001b[0m\u001b[1;32m   1115\u001b[0m         \u001b[0;32melse\u001b[0m\u001b[0;34m:\u001b[0m\u001b[0;34m\u001b[0m\u001b[0;34m\u001b[0m\u001b[0m\n\u001b[1;32m   1116\u001b[0m             \u001b[0;32mif\u001b[0m \u001b[0mengine\u001b[0m \u001b[0;34m==\u001b[0m \u001b[0;34m\"python\"\u001b[0m\u001b[0;34m:\u001b[0m\u001b[0;34m\u001b[0m\u001b[0;34m\u001b[0m\u001b[0m\n",
      "\u001b[0;32m~/anaconda3/lib/python3.7/site-packages/pandas/io/parsers.py\u001b[0m in \u001b[0;36m__init__\u001b[0;34m(self, src, **kwds)\u001b[0m\n\u001b[1;32m   1889\u001b[0m         \u001b[0mkwds\u001b[0m\u001b[0;34m[\u001b[0m\u001b[0;34m\"usecols\"\u001b[0m\u001b[0;34m]\u001b[0m \u001b[0;34m=\u001b[0m \u001b[0mself\u001b[0m\u001b[0;34m.\u001b[0m\u001b[0musecols\u001b[0m\u001b[0;34m\u001b[0m\u001b[0;34m\u001b[0m\u001b[0m\n\u001b[1;32m   1890\u001b[0m \u001b[0;34m\u001b[0m\u001b[0m\n\u001b[0;32m-> 1891\u001b[0;31m         \u001b[0mself\u001b[0m\u001b[0;34m.\u001b[0m\u001b[0m_reader\u001b[0m \u001b[0;34m=\u001b[0m \u001b[0mparsers\u001b[0m\u001b[0;34m.\u001b[0m\u001b[0mTextReader\u001b[0m\u001b[0;34m(\u001b[0m\u001b[0msrc\u001b[0m\u001b[0;34m,\u001b[0m \u001b[0;34m**\u001b[0m\u001b[0mkwds\u001b[0m\u001b[0;34m)\u001b[0m\u001b[0;34m\u001b[0m\u001b[0;34m\u001b[0m\u001b[0m\n\u001b[0m\u001b[1;32m   1892\u001b[0m         \u001b[0mself\u001b[0m\u001b[0;34m.\u001b[0m\u001b[0munnamed_cols\u001b[0m \u001b[0;34m=\u001b[0m \u001b[0mself\u001b[0m\u001b[0;34m.\u001b[0m\u001b[0m_reader\u001b[0m\u001b[0;34m.\u001b[0m\u001b[0munnamed_cols\u001b[0m\u001b[0;34m\u001b[0m\u001b[0;34m\u001b[0m\u001b[0m\n\u001b[1;32m   1893\u001b[0m \u001b[0;34m\u001b[0m\u001b[0m\n",
      "\u001b[0;32mpandas/_libs/parsers.pyx\u001b[0m in \u001b[0;36mpandas._libs.parsers.TextReader.__cinit__\u001b[0;34m()\u001b[0m\n",
      "\u001b[0;32mpandas/_libs/parsers.pyx\u001b[0m in \u001b[0;36mpandas._libs.parsers.TextReader._setup_parser_source\u001b[0;34m()\u001b[0m\n",
      "\u001b[0;31mFileNotFoundError\u001b[0m: [Errno 2] File ./data/movies_with_sequels_imdb_first_pass_part_02_budgets_n_extra_raw.csv does not exist: './data/movies_with_sequels_imdb_first_pass_part_02_budgets_n_extra_raw.csv'"
     ]
    }
   ],
   "source": [
    "df_mo_finances = pd.read_csv('./data/movies_with_sequels_imdb_first_pass_part_02_budgets_n_extra_raw.csv')"
   ]
  },
  {
   "cell_type": "code",
   "execution_count": 24,
   "metadata": {
    "ExecuteTime": {
     "end_time": "2020-10-02T04:43:57.272401Z",
     "start_time": "2020-10-02T04:43:57.198492Z"
    }
   },
   "outputs": [
    {
     "ename": "NameError",
     "evalue": "name 'df_mo_finances' is not defined",
     "output_type": "error",
     "traceback": [
      "\u001b[0;31m---------------------------------------------------------------------------\u001b[0m",
      "\u001b[0;31mNameError\u001b[0m                                 Traceback (most recent call last)",
      "\u001b[0;32m<ipython-input-24-179cbef3f328>\u001b[0m in \u001b[0;36m<module>\u001b[0;34m\u001b[0m\n\u001b[1;32m      1\u001b[0m \u001b[0;31m# Extract budgets that are not in USD\u001b[0m\u001b[0;34m\u001b[0m\u001b[0;34m\u001b[0m\u001b[0;34m\u001b[0m\u001b[0m\n\u001b[0;32m----> 2\u001b[0;31m \u001b[0mdf_non_usd_temp\u001b[0m \u001b[0;34m=\u001b[0m \u001b[0mdf_mo_finances\u001b[0m\u001b[0;34m[\u001b[0m\u001b[0;34m~\u001b[0m\u001b[0mdf_mo_finances\u001b[0m\u001b[0;34m[\u001b[0m\u001b[0;34m'Budget'\u001b[0m\u001b[0;34m]\u001b[0m\u001b[0;34m.\u001b[0m\u001b[0mstr\u001b[0m\u001b[0;34m.\u001b[0m\u001b[0mstartswith\u001b[0m\u001b[0;34m(\u001b[0m\u001b[0;34m'$'\u001b[0m\u001b[0;34m)\u001b[0m\u001b[0;34m]\u001b[0m\u001b[0;34m\u001b[0m\u001b[0;34m\u001b[0m\u001b[0m\n\u001b[0m\u001b[1;32m      3\u001b[0m \u001b[0mdf_non_usd\u001b[0m      \u001b[0;34m=\u001b[0m \u001b[0mdf_non_usd_temp\u001b[0m\u001b[0;34m[\u001b[0m\u001b[0;34m~\u001b[0m\u001b[0mdf_mo_finances\u001b[0m\u001b[0;34m[\u001b[0m\u001b[0;34m'Budget'\u001b[0m\u001b[0;34m]\u001b[0m\u001b[0;34m.\u001b[0m\u001b[0mstr\u001b[0m\u001b[0;34m.\u001b[0m\u001b[0mmatch\u001b[0m\u001b[0;34m(\u001b[0m\u001b[0;34m'None'\u001b[0m\u001b[0;34m)\u001b[0m\u001b[0;34m]\u001b[0m\u001b[0;34m\u001b[0m\u001b[0;34m\u001b[0m\u001b[0m\n\u001b[1;32m      4\u001b[0m \u001b[0;34m\u001b[0m\u001b[0m\n\u001b[1;32m      5\u001b[0m \u001b[0mdf_non_usd\u001b[0m\u001b[0;34m.\u001b[0m\u001b[0mhead\u001b[0m\u001b[0;34m(\u001b[0m\u001b[0;34m)\u001b[0m\u001b[0;34m\u001b[0m\u001b[0;34m\u001b[0m\u001b[0m\n",
      "\u001b[0;31mNameError\u001b[0m: name 'df_mo_finances' is not defined"
     ]
    }
   ],
   "source": [
    "# Extract budgets that are not in USD\n",
    "df_non_usd_temp = df_mo_finances[~df_mo_finances['Budget'].str.startswith('$')]\n",
    "df_non_usd      = df_non_usd_temp[~df_mo_finances['Budget'].str.match('None')]\n",
    "\n",
    "df_non_usd.head()"
   ]
  },
  {
   "cell_type": "code",
   "execution_count": null,
   "metadata": {
    "ExecuteTime": {
     "end_time": "2020-06-19T00:17:22.227970Z",
     "start_time": "2020-06-19T00:17:22.225181Z"
    }
   },
   "outputs": [],
   "source": [
    "df_non_usd.shape"
   ]
  },
  {
   "cell_type": "code",
   "execution_count": null,
   "metadata": {
    "ExecuteTime": {
     "end_time": "2020-06-21T05:28:11.818795Z",
     "start_time": "2020-06-21T05:28:11.815580Z"
    }
   },
   "outputs": [],
   "source": [
    "'''\n",
    "# Let's test selenium\n",
    "from selenium import webdriver\n",
    "driver = webdriver.Chrome()\n",
    "driver.get(\"https://www.bitbar.com/enterprise/\")\n",
    "line = driver.find_elements_by_css_selector(\".b-cta__content > h2:nth-child(1)\")\n",
    "\n",
    "for line in line:\n",
    "    print(line.text.strip())\n",
    "\n",
    "driver.quit()\n",
    "''';"
   ]
  }
 ],
 "metadata": {
  "kernelspec": {
   "display_name": "Python 3",
   "language": "python",
   "name": "python3"
  },
  "language_info": {
   "codemirror_mode": {
    "name": "ipython",
    "version": 3
   },
   "file_extension": ".py",
   "mimetype": "text/x-python",
   "name": "python",
   "nbconvert_exporter": "python",
   "pygments_lexer": "ipython3",
   "version": "3.7.3"
  },
  "latex_envs": {
   "LaTeX_envs_menu_present": true,
   "autoclose": false,
   "autocomplete": true,
   "bibliofile": "biblio.bib",
   "cite_by": "apalike",
   "current_citInitial": 1,
   "eqLabelWithNumbers": true,
   "eqNumInitial": 1,
   "hotkeys": {
    "equation": "Ctrl-E",
    "itemize": "Ctrl-I"
   },
   "labels_anchors": false,
   "latex_user_defs": false,
   "report_style_numbering": false,
   "user_envs_cfg": false
  },
  "toc": {
   "base_numbering": 1,
   "nav_menu": {},
   "number_sections": true,
   "sideBar": true,
   "skip_h1_title": false,
   "title_cell": "Table of Contents",
   "title_sidebar": "Contents",
   "toc_cell": false,
   "toc_position": {},
   "toc_section_display": true,
   "toc_window_display": true
  }
 },
 "nbformat": 4,
 "nbformat_minor": 2
}

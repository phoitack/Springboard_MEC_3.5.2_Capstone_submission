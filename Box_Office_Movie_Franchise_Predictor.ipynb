{
 "cells": [
  {
   "cell_type": "markdown",
   "metadata": {},
   "source": [
    "# Box Office Movie Franchise Predictor"
   ]
  },
  {
   "cell_type": "markdown",
   "metadata": {},
   "source": [
    "## Import Libraries"
   ]
  },
  {
   "cell_type": "code",
   "execution_count": 1,
   "metadata": {
    "ExecuteTime": {
     "end_time": "2020-10-22T06:06:01.988510Z",
     "start_time": "2020-10-22T06:06:00.696016Z"
    }
   },
   "outputs": [],
   "source": [
    "import numpy as np\n",
    "import pandas as pd\n",
    "import matplotlib.pyplot as plt\n",
    "import seaborn as sns"
   ]
  },
  {
   "cell_type": "markdown",
   "metadata": {},
   "source": [
    "## Load Data File(s)"
   ]
  },
  {
   "cell_type": "code",
   "execution_count": 2,
   "metadata": {
    "ExecuteTime": {
     "end_time": "2020-10-22T06:06:02.000183Z",
     "start_time": "2020-10-22T06:06:01.990538Z"
    }
   },
   "outputs": [],
   "source": [
    "data_path = './data/'\n",
    "file_name = 'movies_with_sequels_final.csv'\n",
    "\n",
    "df = pd.read_csv(data_path + file_name)"
   ]
  },
  {
   "cell_type": "markdown",
   "metadata": {},
   "source": [
    "## Data Wrangling and Cleaning"
   ]
  },
  {
   "cell_type": "code",
   "execution_count": 3,
   "metadata": {
    "ExecuteTime": {
     "end_time": "2020-10-22T06:06:02.614494Z",
     "start_time": "2020-10-22T06:06:02.596101Z"
    }
   },
   "outputs": [
    {
     "data": {
      "text/html": [
       "<div>\n",
       "<style scoped>\n",
       "    .dataframe tbody tr th:only-of-type {\n",
       "        vertical-align: middle;\n",
       "    }\n",
       "\n",
       "    .dataframe tbody tr th {\n",
       "        vertical-align: top;\n",
       "    }\n",
       "\n",
       "    .dataframe thead th {\n",
       "        text-align: right;\n",
       "    }\n",
       "</style>\n",
       "<table border=\"1\" class=\"dataframe\">\n",
       "  <thead>\n",
       "    <tr style=\"text-align: right;\">\n",
       "      <th></th>\n",
       "      <th>Title</th>\n",
       "      <th>url</th>\n",
       "      <th>IMDB Score</th>\n",
       "      <th>Metacritic</th>\n",
       "      <th>Runtime (mins)</th>\n",
       "      <th>Budget</th>\n",
       "      <th>Opening Weekend</th>\n",
       "      <th>Gross USA</th>\n",
       "      <th>Gross World</th>\n",
       "      <th>Release Date</th>\n",
       "      <th>Rating</th>\n",
       "      <th>Genres</th>\n",
       "      <th>Country</th>\n",
       "    </tr>\n",
       "  </thead>\n",
       "  <tbody>\n",
       "    <tr>\n",
       "      <th>0</th>\n",
       "      <td>Spider-Man (2002)</td>\n",
       "      <td>http://www.imdb.com/title/tt0145487/</td>\n",
       "      <td>7.3</td>\n",
       "      <td>73</td>\n",
       "      <td>121</td>\n",
       "      <td>$139,000,000</td>\n",
       "      <td>114844116</td>\n",
       "      <td>407022860</td>\n",
       "      <td>825025036</td>\n",
       "      <td>3-May-02</td>\n",
       "      <td>PG-13</td>\n",
       "      <td>Action Adventure Sci-Fi</td>\n",
       "      <td>USA</td>\n",
       "    </tr>\n",
       "    <tr>\n",
       "      <th>1</th>\n",
       "      <td>Spider-Man 2 (2004)</td>\n",
       "      <td>http://www.imdb.com/title/tt0316654/</td>\n",
       "      <td>7.3</td>\n",
       "      <td>83</td>\n",
       "      <td>127</td>\n",
       "      <td>$200,000,000</td>\n",
       "      <td>88156227</td>\n",
       "      <td>373585825</td>\n",
       "      <td>788976453</td>\n",
       "      <td>30-Jun-04</td>\n",
       "      <td>PG-13</td>\n",
       "      <td>Action Adventure Sci-Fi</td>\n",
       "      <td>USA</td>\n",
       "    </tr>\n",
       "    <tr>\n",
       "      <th>2</th>\n",
       "      <td>The Matrix (1999)</td>\n",
       "      <td>http://www.imdb.com/title/tt0133093/</td>\n",
       "      <td>8.7</td>\n",
       "      <td>73</td>\n",
       "      <td>136</td>\n",
       "      <td>$63,000,000</td>\n",
       "      <td>27788331</td>\n",
       "      <td>171479930</td>\n",
       "      <td>465343787</td>\n",
       "      <td>31-Mar-99</td>\n",
       "      <td>R</td>\n",
       "      <td>Action Sci-Fi</td>\n",
       "      <td>USA</td>\n",
       "    </tr>\n",
       "    <tr>\n",
       "      <th>3</th>\n",
       "      <td>The Matrix Reloaded (2003)</td>\n",
       "      <td>http://www.imdb.com/title/tt0234215/</td>\n",
       "      <td>7.2</td>\n",
       "      <td>62</td>\n",
       "      <td>138</td>\n",
       "      <td>$150,000,000</td>\n",
       "      <td>91774413</td>\n",
       "      <td>281576461</td>\n",
       "      <td>741846459</td>\n",
       "      <td>15-May-03</td>\n",
       "      <td>R</td>\n",
       "      <td>Action Sci-Fi</td>\n",
       "      <td>USA</td>\n",
       "    </tr>\n",
       "    <tr>\n",
       "      <th>4</th>\n",
       "      <td>The Lord of the Rings: The Fellowship of the R...</td>\n",
       "      <td>http://www.imdb.com/title/tt0120737/</td>\n",
       "      <td>8.8</td>\n",
       "      <td>92</td>\n",
       "      <td>178</td>\n",
       "      <td>$93,000,000</td>\n",
       "      <td>47211490</td>\n",
       "      <td>315544750</td>\n",
       "      <td>887832826</td>\n",
       "      <td>19-Dec-01</td>\n",
       "      <td>PG-13</td>\n",
       "      <td>Action Adventure Drama</td>\n",
       "      <td>New Zealand</td>\n",
       "    </tr>\n",
       "  </tbody>\n",
       "</table>\n",
       "</div>"
      ],
      "text/plain": [
       "                                               Title  \\\n",
       "0                                  Spider-Man (2002)   \n",
       "1                                Spider-Man 2 (2004)   \n",
       "2                                  The Matrix (1999)   \n",
       "3                         The Matrix Reloaded (2003)   \n",
       "4  The Lord of the Rings: The Fellowship of the R...   \n",
       "\n",
       "                                    url  IMDB Score Metacritic Runtime (mins)  \\\n",
       "0  http://www.imdb.com/title/tt0145487/         7.3         73            121   \n",
       "1  http://www.imdb.com/title/tt0316654/         7.3         83            127   \n",
       "2  http://www.imdb.com/title/tt0133093/         8.7         73            136   \n",
       "3  http://www.imdb.com/title/tt0234215/         7.2         62            138   \n",
       "4  http://www.imdb.com/title/tt0120737/         8.8         92            178   \n",
       "\n",
       "          Budget Opening Weekend  Gross USA Gross World Release Date Rating  \\\n",
       "0  $139,000,000        114844116  407022860   825025036     3-May-02  PG-13   \n",
       "1  $200,000,000         88156227  373585825   788976453    30-Jun-04  PG-13   \n",
       "2   $63,000,000         27788331  171479930   465343787    31-Mar-99      R   \n",
       "3  $150,000,000         91774413  281576461   741846459    15-May-03      R   \n",
       "4   $93,000,000         47211490  315544750   887832826    19-Dec-01  PG-13   \n",
       "\n",
       "                    Genres      Country  \n",
       "0  Action Adventure Sci-Fi          USA  \n",
       "1  Action Adventure Sci-Fi          USA  \n",
       "2            Action Sci-Fi          USA  \n",
       "3            Action Sci-Fi          USA  \n",
       "4   Action Adventure Drama  New Zealand  "
      ]
     },
     "execution_count": 3,
     "metadata": {},
     "output_type": "execute_result"
    }
   ],
   "source": [
    "df.head()"
   ]
  },
  {
   "cell_type": "code",
   "execution_count": 4,
   "metadata": {
    "ExecuteTime": {
     "end_time": "2020-10-22T06:06:03.135651Z",
     "start_time": "2020-10-22T06:06:03.126354Z"
    }
   },
   "outputs": [
    {
     "name": "stdout",
     "output_type": "stream",
     "text": [
      "<class 'pandas.core.frame.DataFrame'>\n",
      "RangeIndex: 1080 entries, 0 to 1079\n",
      "Data columns (total 13 columns):\n",
      " #   Column           Non-Null Count  Dtype  \n",
      "---  ------           --------------  -----  \n",
      " 0   Title            1080 non-null   object \n",
      " 1   url              1080 non-null   object \n",
      " 2   IMDB Score       1080 non-null   float64\n",
      " 3   Metacritic       1080 non-null   object \n",
      " 4   Runtime (mins)   1080 non-null   object \n",
      " 5   Budget           1080 non-null   object \n",
      " 6   Opening Weekend  1080 non-null   object \n",
      " 7   Gross USA        1080 non-null   object \n",
      " 8   Gross World      1080 non-null   object \n",
      " 9   Release Date     1080 non-null   object \n",
      " 10  Rating           1080 non-null   object \n",
      " 11  Genres           1080 non-null   object \n",
      " 12  Country          1080 non-null   object \n",
      "dtypes: float64(1), object(12)\n",
      "memory usage: 109.8+ KB\n"
     ]
    }
   ],
   "source": [
    "df.info()"
   ]
  },
  {
   "cell_type": "markdown",
   "metadata": {},
   "source": [
    "From the info table above, there are no missing values. This is incorrect. There are missing values but are stated as 'None' in their respective columns and that is why an entire column gets converted to an object. This was done initially in the webscrapping portion of the work. It has been corrected to be replaced with np.nan. Nonetheless, the change will be made here."
   ]
  },
  {
   "cell_type": "code",
   "execution_count": 5,
   "metadata": {
    "ExecuteTime": {
     "end_time": "2020-10-22T06:06:04.084916Z",
     "start_time": "2020-10-22T06:06:04.081338Z"
    }
   },
   "outputs": [],
   "source": [
    "def replace_none_w_nan(data):\n",
    "    \n",
    "    column_names = list(data.columns)\n",
    "    \n",
    "    for col in column_names:\n",
    "        data[col].replace('None',np.nan, inplace=True)\n",
    "        \n",
    "    return data\n"
   ]
  },
  {
   "cell_type": "code",
   "execution_count": 6,
   "metadata": {
    "ExecuteTime": {
     "end_time": "2020-10-22T06:06:04.895476Z",
     "start_time": "2020-10-22T06:06:04.881059Z"
    }
   },
   "outputs": [
    {
     "name": "stdout",
     "output_type": "stream",
     "text": [
      "<class 'pandas.core.frame.DataFrame'>\n",
      "RangeIndex: 1080 entries, 0 to 1079\n",
      "Data columns (total 13 columns):\n",
      " #   Column           Non-Null Count  Dtype  \n",
      "---  ------           --------------  -----  \n",
      " 0   Title            1080 non-null   object \n",
      " 1   url              1080 non-null   object \n",
      " 2   IMDB Score       1080 non-null   float64\n",
      " 3   Metacritic       975 non-null    object \n",
      " 4   Runtime (mins)   1077 non-null   object \n",
      " 5   Budget           1078 non-null   object \n",
      " 6   Opening Weekend  953 non-null    object \n",
      " 7   Gross USA        1006 non-null   object \n",
      " 8   Gross World      1079 non-null   object \n",
      " 9   Release Date     1080 non-null   object \n",
      " 10  Rating           1080 non-null   object \n",
      " 11  Genres           1080 non-null   object \n",
      " 12  Country          1080 non-null   object \n",
      "dtypes: float64(1), object(12)\n",
      "memory usage: 109.8+ KB\n"
     ]
    }
   ],
   "source": [
    "df = replace_none_w_nan(df)\n",
    "\n",
    "df.info()"
   ]
  },
  {
   "cell_type": "code",
   "execution_count": null,
   "metadata": {},
   "outputs": [],
   "source": []
  }
 ],
 "metadata": {
  "kernelspec": {
   "display_name": "Python 3",
   "language": "python",
   "name": "python3"
  },
  "language_info": {
   "codemirror_mode": {
    "name": "ipython",
    "version": 3
   },
   "file_extension": ".py",
   "mimetype": "text/x-python",
   "name": "python",
   "nbconvert_exporter": "python",
   "pygments_lexer": "ipython3",
   "version": "3.7.3"
  },
  "latex_envs": {
   "LaTeX_envs_menu_present": true,
   "autoclose": false,
   "autocomplete": true,
   "bibliofile": "biblio.bib",
   "cite_by": "apalike",
   "current_citInitial": 1,
   "eqLabelWithNumbers": true,
   "eqNumInitial": 1,
   "hotkeys": {
    "equation": "Ctrl-E",
    "itemize": "Ctrl-I"
   },
   "labels_anchors": false,
   "latex_user_defs": false,
   "report_style_numbering": false,
   "user_envs_cfg": false
  },
  "toc": {
   "base_numbering": 1,
   "nav_menu": {},
   "number_sections": true,
   "sideBar": true,
   "skip_h1_title": false,
   "title_cell": "Table of Contents",
   "title_sidebar": "Contents",
   "toc_cell": false,
   "toc_position": {},
   "toc_section_display": true,
   "toc_window_display": true
  }
 },
 "nbformat": 4,
 "nbformat_minor": 2
}

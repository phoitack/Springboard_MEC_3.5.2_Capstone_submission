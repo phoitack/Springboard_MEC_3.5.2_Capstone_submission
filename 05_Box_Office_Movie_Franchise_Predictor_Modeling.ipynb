{
 "cells": [
  {
   "cell_type": "markdown",
   "metadata": {},
   "source": [
    "# Box Office Movie Franchise Predictor - Modeling"
   ]
  },
  {
   "cell_type": "markdown",
   "metadata": {},
   "source": [
    "## Introduction"
   ]
  },
  {
   "cell_type": "markdown",
   "metadata": {},
   "source": [
    "The original goal of the project is to predict box office returns of a movie sequel given data of its original or its precursor."
   ]
  },
  {
   "cell_type": "markdown",
   "metadata": {
    "ExecuteTime": {
     "end_time": "2020-10-28T04:52:07.923196Z",
     "start_time": "2020-10-28T04:52:07.921025Z"
    }
   },
   "source": [
    "## Import Libraries"
   ]
  },
  {
   "cell_type": "code",
   "execution_count": 1,
   "metadata": {
    "ExecuteTime": {
     "end_time": "2020-10-29T04:39:30.591975Z",
     "start_time": "2020-10-29T04:39:27.895962Z"
    }
   },
   "outputs": [],
   "source": [
    "import numpy as np\n",
    "import pandas as pd\n",
    "import matplotlib.pyplot as plt\n",
    "import seaborn as sns\n",
    "import datetime\n",
    "from pprint import pprint\n",
    "\n",
    "from sklearn.linear_model import LinearRegression,Ridge,Lasso\n",
    "from sklearn.linear_model import ElasticNet,BayesianRidge,HuberRegressor\n",
    "from sklearn.linear_model import ARDRegression,SGDRegressor\n",
    "from sklearn.model_selection import KFold,train_test_split\n",
    "from sklearn.model_selection import cross_val_score\n",
    "from sklearn.model_selection import RandomizedSearchCV\n",
    "\n",
    "from sklearn.preprocessing import StandardScaler\n",
    "\n",
    "from sklearn.ensemble import RandomForestRegressor,AdaBoostRegressor\n",
    "from sklearn.svm import SVR\n",
    "\n",
    "import lightgbm as lgbm\n",
    "import xgboost as xgb\n",
    "\n",
    "from sklearn.metrics import mean_squared_error,make_scorer,r2_score\n",
    "\n",
    "import plotly.express as px\n",
    "import plotly.graph_objects as go\n",
    "\n",
    "import warnings\n",
    "warnings.filterwarnings('ignore')\n",
    "\n",
    "%matplotlib inline\n",
    "\n",
    "%config InlineBackend.figure_format='retina'"
   ]
  },
  {
   "cell_type": "markdown",
   "metadata": {},
   "source": [
    "## Load Data File(s)"
   ]
  },
  {
   "cell_type": "code",
   "execution_count": 2,
   "metadata": {
    "ExecuteTime": {
     "end_time": "2020-10-29T04:39:30.611173Z",
     "start_time": "2020-10-29T04:39:30.593933Z"
    }
   },
   "outputs": [],
   "source": [
    "data_path = './data/'\n",
    "\n",
    "file_all = 'movies_with_sequels_final_cleaned.csv'\n",
    "file_org = 'movies_with_originals_only_final_cleaned.csv'\n",
    "file_seq = 'movies_with_sequels_only_final_cleaned.csv'\n",
    "\n",
    "df_all = pd.read_csv(data_path + file_all)\n",
    "df_org = pd.read_csv(data_path + file_org)\n",
    "df_seq = pd.read_csv(data_path + file_seq)"
   ]
  },
  {
   "cell_type": "code",
   "execution_count": 3,
   "metadata": {
    "ExecuteTime": {
     "end_time": "2020-10-29T04:39:30.619727Z",
     "start_time": "2020-10-29T04:39:30.613428Z"
    }
   },
   "outputs": [],
   "source": [
    "df_all['Release Date'] = pd.to_datetime(df_all['Release Date'])\n",
    "df_org['Release Date'] = pd.to_datetime(df_org['Release Date'])\n",
    "df_seq['Release Date'] = pd.to_datetime(df_seq['Release Date'])"
   ]
  },
  {
   "cell_type": "code",
   "execution_count": 4,
   "metadata": {
    "ExecuteTime": {
     "end_time": "2020-10-29T04:39:30.625407Z",
     "start_time": "2020-10-29T04:39:30.622011Z"
    }
   },
   "outputs": [],
   "source": [
    "# Get \n",
    "def diff_rel_dates(data_org,data_seq,delta_type):\n",
    "    \n",
    "    delta_time = (data_seq['Release Date'] - data_org['Release Date'])/np.timedelta64(1, delta_type)\n",
    "    \n",
    "    neg_delta = delta_time[delta_time < 0]\n",
    "    \n",
    "    if neg_delta is not None:\n",
    "        print('No negative difference')\n",
    "    else:\n",
    "        print('There are negative time(s) between sequel and original. Please check!')\n",
    "\n",
    "    return delta_time"
   ]
  },
  {
   "cell_type": "code",
   "execution_count": 5,
   "metadata": {
    "ExecuteTime": {
     "end_time": "2020-10-29T04:39:30.631807Z",
     "start_time": "2020-10-29T04:39:30.627095Z"
    }
   },
   "outputs": [
    {
     "name": "stdout",
     "output_type": "stream",
     "text": [
      "No negative difference\n"
     ]
    }
   ],
   "source": [
    "# Set years as the difference between sequel and original\n",
    "diff_type = 'Y'\n",
    "\n",
    "diff_time = diff_rel_dates(df_org,df_seq,diff_type)"
   ]
  },
  {
   "cell_type": "code",
   "execution_count": 6,
   "metadata": {
    "ExecuteTime": {
     "end_time": "2020-10-29T04:39:30.649152Z",
     "start_time": "2020-10-29T04:39:30.633314Z"
    }
   },
   "outputs": [
    {
     "data": {
      "text/html": [
       "<div>\n",
       "<style scoped>\n",
       "    .dataframe tbody tr th:only-of-type {\n",
       "        vertical-align: middle;\n",
       "    }\n",
       "\n",
       "    .dataframe tbody tr th {\n",
       "        vertical-align: top;\n",
       "    }\n",
       "\n",
       "    .dataframe thead th {\n",
       "        text-align: right;\n",
       "    }\n",
       "</style>\n",
       "<table border=\"1\" class=\"dataframe\">\n",
       "  <thead>\n",
       "    <tr style=\"text-align: right;\">\n",
       "      <th></th>\n",
       "      <th>Title</th>\n",
       "      <th>url</th>\n",
       "      <th>IMDB Score</th>\n",
       "      <th>Metacritic</th>\n",
       "      <th>Runtime (mins)</th>\n",
       "      <th>Budget</th>\n",
       "      <th>Opening Weekend</th>\n",
       "      <th>Gross USA</th>\n",
       "      <th>Gross World</th>\n",
       "      <th>Release Date</th>\n",
       "      <th>Rating</th>\n",
       "      <th>Genres</th>\n",
       "      <th>Country</th>\n",
       "    </tr>\n",
       "  </thead>\n",
       "  <tbody>\n",
       "    <tr>\n",
       "      <th>0</th>\n",
       "      <td>Spider-Man (2002)</td>\n",
       "      <td>http://www.imdb.com/title/tt0145487/</td>\n",
       "      <td>7.3</td>\n",
       "      <td>73.0</td>\n",
       "      <td>121</td>\n",
       "      <td>139000000.0</td>\n",
       "      <td>114844116.0</td>\n",
       "      <td>407022860.0</td>\n",
       "      <td>8.250250e+08</td>\n",
       "      <td>2002-05-03</td>\n",
       "      <td>PG-13</td>\n",
       "      <td>Action Adventure Sci-Fi</td>\n",
       "      <td>USA</td>\n",
       "    </tr>\n",
       "    <tr>\n",
       "      <th>1</th>\n",
       "      <td>The Matrix (1999)</td>\n",
       "      <td>http://www.imdb.com/title/tt0133093/</td>\n",
       "      <td>8.7</td>\n",
       "      <td>73.0</td>\n",
       "      <td>136</td>\n",
       "      <td>63000000.0</td>\n",
       "      <td>27788331.0</td>\n",
       "      <td>171479930.0</td>\n",
       "      <td>4.653438e+08</td>\n",
       "      <td>1999-03-31</td>\n",
       "      <td>R</td>\n",
       "      <td>Action Sci-Fi</td>\n",
       "      <td>USA</td>\n",
       "    </tr>\n",
       "    <tr>\n",
       "      <th>2</th>\n",
       "      <td>The Lord of the Rings: The Fellowship of the R...</td>\n",
       "      <td>http://www.imdb.com/title/tt0120737/</td>\n",
       "      <td>8.8</td>\n",
       "      <td>92.0</td>\n",
       "      <td>178</td>\n",
       "      <td>93000000.0</td>\n",
       "      <td>47211490.0</td>\n",
       "      <td>315544750.0</td>\n",
       "      <td>8.878328e+08</td>\n",
       "      <td>2001-12-19</td>\n",
       "      <td>PG-13</td>\n",
       "      <td>Action Adventure Drama</td>\n",
       "      <td>New Zealand</td>\n",
       "    </tr>\n",
       "    <tr>\n",
       "      <th>3</th>\n",
       "      <td>The Lord of the Rings: The Return of the King ...</td>\n",
       "      <td>http://www.imdb.com/title/tt0167260/</td>\n",
       "      <td>8.9</td>\n",
       "      <td>94.0</td>\n",
       "      <td>201</td>\n",
       "      <td>94000000.0</td>\n",
       "      <td>72629713.0</td>\n",
       "      <td>377845905.0</td>\n",
       "      <td>1.142219e+09</td>\n",
       "      <td>2003-12-17</td>\n",
       "      <td>PG-13</td>\n",
       "      <td>Adventure Drama Fantasy</td>\n",
       "      <td>New Zealand</td>\n",
       "    </tr>\n",
       "    <tr>\n",
       "      <th>4</th>\n",
       "      <td>The Hobbit: The Desolation of Smaug (2013)</td>\n",
       "      <td>http://www.imdb.com/title/tt1170358/</td>\n",
       "      <td>7.8</td>\n",
       "      <td>66.0</td>\n",
       "      <td>161</td>\n",
       "      <td>225000000.0</td>\n",
       "      <td>73645197.0</td>\n",
       "      <td>258366855.0</td>\n",
       "      <td>9.583669e+08</td>\n",
       "      <td>2013-12-13</td>\n",
       "      <td>PG-13</td>\n",
       "      <td>Adventure Fantasy</td>\n",
       "      <td>New Zealand</td>\n",
       "    </tr>\n",
       "  </tbody>\n",
       "</table>\n",
       "</div>"
      ],
      "text/plain": [
       "                                               Title  \\\n",
       "0                                  Spider-Man (2002)   \n",
       "1                                  The Matrix (1999)   \n",
       "2  The Lord of the Rings: The Fellowship of the R...   \n",
       "3  The Lord of the Rings: The Return of the King ...   \n",
       "4         The Hobbit: The Desolation of Smaug (2013)   \n",
       "\n",
       "                                    url  IMDB Score  Metacritic  \\\n",
       "0  http://www.imdb.com/title/tt0145487/         7.3        73.0   \n",
       "1  http://www.imdb.com/title/tt0133093/         8.7        73.0   \n",
       "2  http://www.imdb.com/title/tt0120737/         8.8        92.0   \n",
       "3  http://www.imdb.com/title/tt0167260/         8.9        94.0   \n",
       "4  http://www.imdb.com/title/tt1170358/         7.8        66.0   \n",
       "\n",
       "   Runtime (mins)       Budget  Opening Weekend    Gross USA   Gross World  \\\n",
       "0             121  139000000.0      114844116.0  407022860.0  8.250250e+08   \n",
       "1             136   63000000.0       27788331.0  171479930.0  4.653438e+08   \n",
       "2             178   93000000.0       47211490.0  315544750.0  8.878328e+08   \n",
       "3             201   94000000.0       72629713.0  377845905.0  1.142219e+09   \n",
       "4             161  225000000.0       73645197.0  258366855.0  9.583669e+08   \n",
       "\n",
       "  Release Date Rating                   Genres      Country  \n",
       "0   2002-05-03  PG-13  Action Adventure Sci-Fi          USA  \n",
       "1   1999-03-31      R            Action Sci-Fi          USA  \n",
       "2   2001-12-19  PG-13   Action Adventure Drama  New Zealand  \n",
       "3   2003-12-17  PG-13  Adventure Drama Fantasy  New Zealand  \n",
       "4   2013-12-13  PG-13        Adventure Fantasy  New Zealand  "
      ]
     },
     "execution_count": 6,
     "metadata": {},
     "output_type": "execute_result"
    }
   ],
   "source": [
    "df_org.head()"
   ]
  },
  {
   "cell_type": "code",
   "execution_count": 7,
   "metadata": {
    "ExecuteTime": {
     "end_time": "2020-10-29T04:39:30.658658Z",
     "start_time": "2020-10-29T04:39:30.650827Z"
    }
   },
   "outputs": [
    {
     "name": "stdout",
     "output_type": "stream",
     "text": [
      "<class 'pandas.core.frame.DataFrame'>\n",
      "RangeIndex: 539 entries, 0 to 538\n",
      "Data columns (total 13 columns):\n",
      " #   Column           Non-Null Count  Dtype         \n",
      "---  ------           --------------  -----         \n",
      " 0   Title            539 non-null    object        \n",
      " 1   url              539 non-null    object        \n",
      " 2   IMDB Score       539 non-null    float64       \n",
      " 3   Metacritic       505 non-null    float64       \n",
      " 4   Runtime (mins)   539 non-null    int64         \n",
      " 5   Budget           539 non-null    float64       \n",
      " 6   Opening Weekend  475 non-null    float64       \n",
      " 7   Gross USA        508 non-null    float64       \n",
      " 8   Gross World      539 non-null    float64       \n",
      " 9   Release Date     539 non-null    datetime64[ns]\n",
      " 10  Rating           539 non-null    object        \n",
      " 11  Genres           539 non-null    object        \n",
      " 12  Country          539 non-null    object        \n",
      "dtypes: datetime64[ns](1), float64(6), int64(1), object(5)\n",
      "memory usage: 54.9+ KB\n"
     ]
    }
   ],
   "source": [
    "df_org.info()"
   ]
  },
  {
   "cell_type": "markdown",
   "metadata": {},
   "source": [
    "## Feature Engineering"
   ]
  },
  {
   "cell_type": "markdown",
   "metadata": {},
   "source": [
    "### Select Target"
   ]
  },
  {
   "cell_type": "markdown",
   "metadata": {},
   "source": [
    "The target variable is the box office return of its sequel or subsequent film"
   ]
  },
  {
   "cell_type": "code",
   "execution_count": 8,
   "metadata": {
    "ExecuteTime": {
     "end_time": "2020-10-29T04:39:30.664973Z",
     "start_time": "2020-10-29T04:39:30.661919Z"
    }
   },
   "outputs": [],
   "source": [
    "# Attach the target variable (Gross Returns from the Suquel) to df_org dataframe and rescale\n",
    "df_org['target'] = np.log(df_seq['Gross World'])\n",
    "\n",
    "#df_org.head()"
   ]
  },
  {
   "cell_type": "markdown",
   "metadata": {},
   "source": [
    "### Removing Outliers"
   ]
  },
  {
   "cell_type": "markdown",
   "metadata": {},
   "source": [
    "Based on the data cleaning portion, I noticed that Gross Sequel vs. Gross Original contained several outliers. They were notably:\n",
    "\n",
    "1. The Boondock Saints 1 & 2\n",
    "2. Dominion || The Last Exorcism\n",
    "3. Night of the Living Dead || Dawn of the Dead\n",
    "4. Enthiran || 2.0\n",
    "5. Mesrine 1 and 2\n",
    "\n",
    "Let us remove the first 3 and see if the score can be improved"
   ]
  },
  {
   "cell_type": "code",
   "execution_count": 9,
   "metadata": {
    "ExecuteTime": {
     "end_time": "2020-10-29T04:39:30.684664Z",
     "start_time": "2020-10-29T04:39:30.667644Z"
    }
   },
   "outputs": [
    {
     "name": "stdout",
     "output_type": "stream",
     "text": [
      "<class 'pandas.core.frame.DataFrame'>\n",
      "RangeIndex: 533 entries, 0 to 532\n",
      "Data columns (total 14 columns):\n",
      " #   Column           Non-Null Count  Dtype         \n",
      "---  ------           --------------  -----         \n",
      " 0   Title            533 non-null    object        \n",
      " 1   url              533 non-null    object        \n",
      " 2   IMDB Score       533 non-null    float64       \n",
      " 3   Metacritic       500 non-null    float64       \n",
      " 4   Runtime (mins)   533 non-null    int64         \n",
      " 5   Budget           533 non-null    float64       \n",
      " 6   Opening Weekend  470 non-null    float64       \n",
      " 7   Gross USA        503 non-null    float64       \n",
      " 8   Gross World      533 non-null    float64       \n",
      " 9   Release Date     533 non-null    datetime64[ns]\n",
      " 10  Rating           533 non-null    object        \n",
      " 11  Genres           533 non-null    object        \n",
      " 12  Country          533 non-null    object        \n",
      " 13  target           533 non-null    float64       \n",
      "dtypes: datetime64[ns](1), float64(7), int64(1), object(5)\n",
      "memory usage: 58.4+ KB\n"
     ]
    }
   ],
   "source": [
    "# In this case we only need to remove the rows of the original and that will remove the sequel \n",
    "# values as well\n",
    "# List of Strings containing the movies we want to remove\n",
    "rm_list_org = ['Boondock', 'Dominion', 'Night of the Living Dead','Enthiran','Mesrine','Skyline']\n",
    "\n",
    "def remove_outlier_movies(data,remove_list):\n",
    "    # Remove severe outlier movies\n",
    "    for item in remove_list:\n",
    "        data = data[~data['Title'].str.contains(item)]\n",
    "        \n",
    "    return data\n",
    "\n",
    "# Call the function\n",
    "df_org = remove_outlier_movies(df_org,rm_list_org)\n",
    "\n",
    "df_org = df_org.reset_index(drop=True)\n",
    "\n",
    "# Assign the target variable\n",
    "y = df_org['target']\n",
    "\n",
    "df_org.info()"
   ]
  },
  {
   "cell_type": "markdown",
   "metadata": {
    "ExecuteTime": {
     "end_time": "2020-10-28T05:05:59.143771Z",
     "start_time": "2020-10-28T05:05:59.141565Z"
    }
   },
   "source": [
    "### Drop Features"
   ]
  },
  {
   "cell_type": "markdown",
   "metadata": {},
   "source": [
    "We will drop a number of features here:\n",
    "\n",
    "1. Title and url\n",
    "\n",
    "2. Metacritic Score. Too many missing values here and imputing these is perhaps not a good idea as it could skew the results as the dataset is not large enough. This will be removed for now. We could test imputation later.\n",
    "\n",
    "3. Gross USA and Opening Weekend numbers. Again, a lot missing here and imputing can be dangerous."
   ]
  },
  {
   "cell_type": "code",
   "execution_count": 10,
   "metadata": {
    "ExecuteTime": {
     "end_time": "2020-10-29T04:39:30.692059Z",
     "start_time": "2020-10-29T04:39:30.688180Z"
    }
   },
   "outputs": [],
   "source": [
    "cols_to_drop = ['Title','url','Metacritic','Opening Weekend', 'Gross USA','Country','target']\n",
    "\n",
    "df_org.drop(cols_to_drop,axis=1,inplace=True)"
   ]
  },
  {
   "cell_type": "code",
   "execution_count": 11,
   "metadata": {
    "ExecuteTime": {
     "end_time": "2020-10-29T04:39:30.703937Z",
     "start_time": "2020-10-29T04:39:30.694154Z"
    }
   },
   "outputs": [
    {
     "data": {
      "text/html": [
       "<div>\n",
       "<style scoped>\n",
       "    .dataframe tbody tr th:only-of-type {\n",
       "        vertical-align: middle;\n",
       "    }\n",
       "\n",
       "    .dataframe tbody tr th {\n",
       "        vertical-align: top;\n",
       "    }\n",
       "\n",
       "    .dataframe thead th {\n",
       "        text-align: right;\n",
       "    }\n",
       "</style>\n",
       "<table border=\"1\" class=\"dataframe\">\n",
       "  <thead>\n",
       "    <tr style=\"text-align: right;\">\n",
       "      <th></th>\n",
       "      <th>IMDB Score</th>\n",
       "      <th>Runtime (mins)</th>\n",
       "      <th>Budget</th>\n",
       "      <th>Gross World</th>\n",
       "      <th>Release Date</th>\n",
       "      <th>Rating</th>\n",
       "      <th>Genres</th>\n",
       "    </tr>\n",
       "  </thead>\n",
       "  <tbody>\n",
       "    <tr>\n",
       "      <th>0</th>\n",
       "      <td>7.3</td>\n",
       "      <td>121</td>\n",
       "      <td>139000000.0</td>\n",
       "      <td>8.250250e+08</td>\n",
       "      <td>2002-05-03</td>\n",
       "      <td>PG-13</td>\n",
       "      <td>Action Adventure Sci-Fi</td>\n",
       "    </tr>\n",
       "    <tr>\n",
       "      <th>1</th>\n",
       "      <td>8.7</td>\n",
       "      <td>136</td>\n",
       "      <td>63000000.0</td>\n",
       "      <td>4.653438e+08</td>\n",
       "      <td>1999-03-31</td>\n",
       "      <td>R</td>\n",
       "      <td>Action Sci-Fi</td>\n",
       "    </tr>\n",
       "    <tr>\n",
       "      <th>2</th>\n",
       "      <td>8.8</td>\n",
       "      <td>178</td>\n",
       "      <td>93000000.0</td>\n",
       "      <td>8.878328e+08</td>\n",
       "      <td>2001-12-19</td>\n",
       "      <td>PG-13</td>\n",
       "      <td>Action Adventure Drama</td>\n",
       "    </tr>\n",
       "    <tr>\n",
       "      <th>3</th>\n",
       "      <td>8.9</td>\n",
       "      <td>201</td>\n",
       "      <td>94000000.0</td>\n",
       "      <td>1.142219e+09</td>\n",
       "      <td>2003-12-17</td>\n",
       "      <td>PG-13</td>\n",
       "      <td>Adventure Drama Fantasy</td>\n",
       "    </tr>\n",
       "    <tr>\n",
       "      <th>4</th>\n",
       "      <td>7.8</td>\n",
       "      <td>161</td>\n",
       "      <td>225000000.0</td>\n",
       "      <td>9.583669e+08</td>\n",
       "      <td>2013-12-13</td>\n",
       "      <td>PG-13</td>\n",
       "      <td>Adventure Fantasy</td>\n",
       "    </tr>\n",
       "  </tbody>\n",
       "</table>\n",
       "</div>"
      ],
      "text/plain": [
       "   IMDB Score  Runtime (mins)       Budget   Gross World Release Date Rating  \\\n",
       "0         7.3             121  139000000.0  8.250250e+08   2002-05-03  PG-13   \n",
       "1         8.7             136   63000000.0  4.653438e+08   1999-03-31      R   \n",
       "2         8.8             178   93000000.0  8.878328e+08   2001-12-19  PG-13   \n",
       "3         8.9             201   94000000.0  1.142219e+09   2003-12-17  PG-13   \n",
       "4         7.8             161  225000000.0  9.583669e+08   2013-12-13  PG-13   \n",
       "\n",
       "                    Genres  \n",
       "0  Action Adventure Sci-Fi  \n",
       "1            Action Sci-Fi  \n",
       "2   Action Adventure Drama  \n",
       "3  Adventure Drama Fantasy  \n",
       "4        Adventure Fantasy  "
      ]
     },
     "execution_count": 11,
     "metadata": {},
     "output_type": "execute_result"
    }
   ],
   "source": [
    "df_org.head()"
   ]
  },
  {
   "cell_type": "code",
   "execution_count": 12,
   "metadata": {
    "ExecuteTime": {
     "end_time": "2020-10-29T04:39:30.712208Z",
     "start_time": "2020-10-29T04:39:30.705747Z"
    }
   },
   "outputs": [
    {
     "name": "stdout",
     "output_type": "stream",
     "text": [
      "<class 'pandas.core.frame.DataFrame'>\n",
      "RangeIndex: 533 entries, 0 to 532\n",
      "Data columns (total 7 columns):\n",
      " #   Column          Non-Null Count  Dtype         \n",
      "---  ------          --------------  -----         \n",
      " 0   IMDB Score      533 non-null    float64       \n",
      " 1   Runtime (mins)  533 non-null    int64         \n",
      " 2   Budget          533 non-null    float64       \n",
      " 3   Gross World     533 non-null    float64       \n",
      " 4   Release Date    533 non-null    datetime64[ns]\n",
      " 5   Rating          533 non-null    object        \n",
      " 6   Genres          533 non-null    object        \n",
      "dtypes: datetime64[ns](1), float64(3), int64(1), object(2)\n",
      "memory usage: 29.3+ KB\n"
     ]
    }
   ],
   "source": [
    "df_org.info()"
   ]
  },
  {
   "cell_type": "markdown",
   "metadata": {
    "ExecuteTime": {
     "end_time": "2020-10-28T05:53:23.349845Z",
     "start_time": "2020-10-28T05:53:23.347929Z"
    }
   },
   "source": [
    "### One-Hot-Encoding"
   ]
  },
  {
   "cell_type": "markdown",
   "metadata": {},
   "source": [
    "#### Rating"
   ]
  },
  {
   "cell_type": "code",
   "execution_count": 13,
   "metadata": {
    "ExecuteTime": {
     "end_time": "2020-10-29T04:39:30.721796Z",
     "start_time": "2020-10-29T04:39:30.713669Z"
    }
   },
   "outputs": [
    {
     "data": {
      "text/html": [
       "<div>\n",
       "<style scoped>\n",
       "    .dataframe tbody tr th:only-of-type {\n",
       "        vertical-align: middle;\n",
       "    }\n",
       "\n",
       "    .dataframe tbody tr th {\n",
       "        vertical-align: top;\n",
       "    }\n",
       "\n",
       "    .dataframe thead th {\n",
       "        text-align: right;\n",
       "    }\n",
       "</style>\n",
       "<table border=\"1\" class=\"dataframe\">\n",
       "  <thead>\n",
       "    <tr style=\"text-align: right;\">\n",
       "      <th></th>\n",
       "      <th>r_G</th>\n",
       "      <th>r_PG</th>\n",
       "      <th>r_PG-13</th>\n",
       "      <th>r_R</th>\n",
       "    </tr>\n",
       "  </thead>\n",
       "  <tbody>\n",
       "    <tr>\n",
       "      <th>0</th>\n",
       "      <td>0</td>\n",
       "      <td>0</td>\n",
       "      <td>1</td>\n",
       "      <td>0</td>\n",
       "    </tr>\n",
       "    <tr>\n",
       "      <th>1</th>\n",
       "      <td>0</td>\n",
       "      <td>0</td>\n",
       "      <td>0</td>\n",
       "      <td>1</td>\n",
       "    </tr>\n",
       "    <tr>\n",
       "      <th>2</th>\n",
       "      <td>0</td>\n",
       "      <td>0</td>\n",
       "      <td>1</td>\n",
       "      <td>0</td>\n",
       "    </tr>\n",
       "    <tr>\n",
       "      <th>3</th>\n",
       "      <td>0</td>\n",
       "      <td>0</td>\n",
       "      <td>1</td>\n",
       "      <td>0</td>\n",
       "    </tr>\n",
       "    <tr>\n",
       "      <th>4</th>\n",
       "      <td>0</td>\n",
       "      <td>0</td>\n",
       "      <td>1</td>\n",
       "      <td>0</td>\n",
       "    </tr>\n",
       "  </tbody>\n",
       "</table>\n",
       "</div>"
      ],
      "text/plain": [
       "   r_G  r_PG  r_PG-13  r_R\n",
       "0    0     0        1    0\n",
       "1    0     0        0    1\n",
       "2    0     0        1    0\n",
       "3    0     0        1    0\n",
       "4    0     0        1    0"
      ]
     },
     "execution_count": 13,
     "metadata": {},
     "output_type": "execute_result"
    }
   ],
   "source": [
    "df_rating = pd.get_dummies(df_org['Rating'],prefix = 'r', drop_first=False)\n",
    "\n",
    "df_rating.head()"
   ]
  },
  {
   "cell_type": "markdown",
   "metadata": {},
   "source": [
    "#### Genres"
   ]
  },
  {
   "cell_type": "code",
   "execution_count": 14,
   "metadata": {
    "ExecuteTime": {
     "end_time": "2020-10-29T04:39:30.743601Z",
     "start_time": "2020-10-29T04:39:30.723468Z"
    }
   },
   "outputs": [
    {
     "data": {
      "text/html": [
       "<div>\n",
       "<style scoped>\n",
       "    .dataframe tbody tr th:only-of-type {\n",
       "        vertical-align: middle;\n",
       "    }\n",
       "\n",
       "    .dataframe tbody tr th {\n",
       "        vertical-align: top;\n",
       "    }\n",
       "\n",
       "    .dataframe thead th {\n",
       "        text-align: right;\n",
       "    }\n",
       "</style>\n",
       "<table border=\"1\" class=\"dataframe\">\n",
       "  <thead>\n",
       "    <tr style=\"text-align: right;\">\n",
       "      <th></th>\n",
       "      <th>g_Action</th>\n",
       "      <th>g_Adventure</th>\n",
       "      <th>g_Animation</th>\n",
       "      <th>g_Biography</th>\n",
       "      <th>g_Comedy</th>\n",
       "      <th>g_Crime</th>\n",
       "      <th>g_Documentary</th>\n",
       "      <th>g_Drama</th>\n",
       "      <th>g_Family</th>\n",
       "      <th>g_Fantasy</th>\n",
       "      <th>...</th>\n",
       "      <th>g_Horror</th>\n",
       "      <th>g_Music</th>\n",
       "      <th>g_Musical</th>\n",
       "      <th>g_Mystery</th>\n",
       "      <th>g_Romance</th>\n",
       "      <th>g_Sci-Fi</th>\n",
       "      <th>g_Sport</th>\n",
       "      <th>g_Thriller</th>\n",
       "      <th>g_War</th>\n",
       "      <th>g_Western</th>\n",
       "    </tr>\n",
       "  </thead>\n",
       "  <tbody>\n",
       "    <tr>\n",
       "      <th>0</th>\n",
       "      <td>1</td>\n",
       "      <td>1</td>\n",
       "      <td>0</td>\n",
       "      <td>0</td>\n",
       "      <td>0</td>\n",
       "      <td>0</td>\n",
       "      <td>0</td>\n",
       "      <td>0</td>\n",
       "      <td>0</td>\n",
       "      <td>0</td>\n",
       "      <td>...</td>\n",
       "      <td>0</td>\n",
       "      <td>0</td>\n",
       "      <td>0</td>\n",
       "      <td>0</td>\n",
       "      <td>0</td>\n",
       "      <td>1</td>\n",
       "      <td>0</td>\n",
       "      <td>0</td>\n",
       "      <td>0</td>\n",
       "      <td>0</td>\n",
       "    </tr>\n",
       "    <tr>\n",
       "      <th>1</th>\n",
       "      <td>1</td>\n",
       "      <td>0</td>\n",
       "      <td>0</td>\n",
       "      <td>0</td>\n",
       "      <td>0</td>\n",
       "      <td>0</td>\n",
       "      <td>0</td>\n",
       "      <td>0</td>\n",
       "      <td>0</td>\n",
       "      <td>0</td>\n",
       "      <td>...</td>\n",
       "      <td>0</td>\n",
       "      <td>0</td>\n",
       "      <td>0</td>\n",
       "      <td>0</td>\n",
       "      <td>0</td>\n",
       "      <td>1</td>\n",
       "      <td>0</td>\n",
       "      <td>0</td>\n",
       "      <td>0</td>\n",
       "      <td>0</td>\n",
       "    </tr>\n",
       "    <tr>\n",
       "      <th>2</th>\n",
       "      <td>1</td>\n",
       "      <td>1</td>\n",
       "      <td>0</td>\n",
       "      <td>0</td>\n",
       "      <td>0</td>\n",
       "      <td>0</td>\n",
       "      <td>0</td>\n",
       "      <td>1</td>\n",
       "      <td>0</td>\n",
       "      <td>0</td>\n",
       "      <td>...</td>\n",
       "      <td>0</td>\n",
       "      <td>0</td>\n",
       "      <td>0</td>\n",
       "      <td>0</td>\n",
       "      <td>0</td>\n",
       "      <td>0</td>\n",
       "      <td>0</td>\n",
       "      <td>0</td>\n",
       "      <td>0</td>\n",
       "      <td>0</td>\n",
       "    </tr>\n",
       "    <tr>\n",
       "      <th>3</th>\n",
       "      <td>0</td>\n",
       "      <td>1</td>\n",
       "      <td>0</td>\n",
       "      <td>0</td>\n",
       "      <td>0</td>\n",
       "      <td>0</td>\n",
       "      <td>0</td>\n",
       "      <td>1</td>\n",
       "      <td>0</td>\n",
       "      <td>1</td>\n",
       "      <td>...</td>\n",
       "      <td>0</td>\n",
       "      <td>0</td>\n",
       "      <td>0</td>\n",
       "      <td>0</td>\n",
       "      <td>0</td>\n",
       "      <td>0</td>\n",
       "      <td>0</td>\n",
       "      <td>0</td>\n",
       "      <td>0</td>\n",
       "      <td>0</td>\n",
       "    </tr>\n",
       "    <tr>\n",
       "      <th>4</th>\n",
       "      <td>0</td>\n",
       "      <td>1</td>\n",
       "      <td>0</td>\n",
       "      <td>0</td>\n",
       "      <td>0</td>\n",
       "      <td>0</td>\n",
       "      <td>0</td>\n",
       "      <td>0</td>\n",
       "      <td>0</td>\n",
       "      <td>1</td>\n",
       "      <td>...</td>\n",
       "      <td>0</td>\n",
       "      <td>0</td>\n",
       "      <td>0</td>\n",
       "      <td>0</td>\n",
       "      <td>0</td>\n",
       "      <td>0</td>\n",
       "      <td>0</td>\n",
       "      <td>0</td>\n",
       "      <td>0</td>\n",
       "      <td>0</td>\n",
       "    </tr>\n",
       "  </tbody>\n",
       "</table>\n",
       "<p>5 rows × 21 columns</p>\n",
       "</div>"
      ],
      "text/plain": [
       "   g_Action  g_Adventure  g_Animation  g_Biography  g_Comedy  g_Crime  \\\n",
       "0         1            1            0            0         0        0   \n",
       "1         1            0            0            0         0        0   \n",
       "2         1            1            0            0         0        0   \n",
       "3         0            1            0            0         0        0   \n",
       "4         0            1            0            0         0        0   \n",
       "\n",
       "   g_Documentary  g_Drama  g_Family  g_Fantasy  ...  g_Horror  g_Music  \\\n",
       "0              0        0         0          0  ...         0        0   \n",
       "1              0        0         0          0  ...         0        0   \n",
       "2              0        1         0          0  ...         0        0   \n",
       "3              0        1         0          1  ...         0        0   \n",
       "4              0        0         0          1  ...         0        0   \n",
       "\n",
       "   g_Musical  g_Mystery  g_Romance  g_Sci-Fi  g_Sport  g_Thriller  g_War  \\\n",
       "0          0          0          0         1        0           0      0   \n",
       "1          0          0          0         1        0           0      0   \n",
       "2          0          0          0         0        0           0      0   \n",
       "3          0          0          0         0        0           0      0   \n",
       "4          0          0          0         0        0           0      0   \n",
       "\n",
       "   g_Western  \n",
       "0          0  \n",
       "1          0  \n",
       "2          0  \n",
       "3          0  \n",
       "4          0  \n",
       "\n",
       "[5 rows x 21 columns]"
      ]
     },
     "execution_count": 14,
     "metadata": {},
     "output_type": "execute_result"
    }
   ],
   "source": [
    "# Nice tip from Jeremy Cunningham\n",
    "df_genres_temp = df_org.Genres.str.split(' ', expand=True).stack()\n",
    "\n",
    "df_genres = pd.get_dummies(df_genres_temp, prefix='g').groupby(level=0).max()\n",
    "\n",
    "df_genres = df_genres.reset_index()\n",
    "\n",
    "df_genres.drop(['index'],axis=1,inplace=True)\n",
    "\n",
    "df_genres.head()"
   ]
  },
  {
   "cell_type": "code",
   "execution_count": 15,
   "metadata": {
    "ExecuteTime": {
     "end_time": "2020-10-29T04:39:30.753130Z",
     "start_time": "2020-10-29T04:39:30.745208Z"
    }
   },
   "outputs": [
    {
     "name": "stdout",
     "output_type": "stream",
     "text": [
      "<class 'pandas.core.frame.DataFrame'>\n",
      "RangeIndex: 533 entries, 0 to 532\n",
      "Data columns (total 21 columns):\n",
      " #   Column         Non-Null Count  Dtype\n",
      "---  ------         --------------  -----\n",
      " 0   g_Action       533 non-null    uint8\n",
      " 1   g_Adventure    533 non-null    uint8\n",
      " 2   g_Animation    533 non-null    uint8\n",
      " 3   g_Biography    533 non-null    uint8\n",
      " 4   g_Comedy       533 non-null    uint8\n",
      " 5   g_Crime        533 non-null    uint8\n",
      " 6   g_Documentary  533 non-null    uint8\n",
      " 7   g_Drama        533 non-null    uint8\n",
      " 8   g_Family       533 non-null    uint8\n",
      " 9   g_Fantasy      533 non-null    uint8\n",
      " 10  g_History      533 non-null    uint8\n",
      " 11  g_Horror       533 non-null    uint8\n",
      " 12  g_Music        533 non-null    uint8\n",
      " 13  g_Musical      533 non-null    uint8\n",
      " 14  g_Mystery      533 non-null    uint8\n",
      " 15  g_Romance      533 non-null    uint8\n",
      " 16  g_Sci-Fi       533 non-null    uint8\n",
      " 17  g_Sport        533 non-null    uint8\n",
      " 18  g_Thriller     533 non-null    uint8\n",
      " 19  g_War          533 non-null    uint8\n",
      " 20  g_Western      533 non-null    uint8\n",
      "dtypes: uint8(21)\n",
      "memory usage: 11.1 KB\n"
     ]
    }
   ],
   "source": [
    "df_genres.info()"
   ]
  },
  {
   "cell_type": "code",
   "execution_count": 16,
   "metadata": {
    "ExecuteTime": {
     "end_time": "2020-10-29T04:39:30.767756Z",
     "start_time": "2020-10-29T04:39:30.754582Z"
    }
   },
   "outputs": [
    {
     "data": {
      "text/html": [
       "<div>\n",
       "<style scoped>\n",
       "    .dataframe tbody tr th:only-of-type {\n",
       "        vertical-align: middle;\n",
       "    }\n",
       "\n",
       "    .dataframe tbody tr th {\n",
       "        vertical-align: top;\n",
       "    }\n",
       "\n",
       "    .dataframe thead th {\n",
       "        text-align: right;\n",
       "    }\n",
       "</style>\n",
       "<table border=\"1\" class=\"dataframe\">\n",
       "  <thead>\n",
       "    <tr style=\"text-align: right;\">\n",
       "      <th></th>\n",
       "      <th>r_G</th>\n",
       "      <th>r_PG</th>\n",
       "      <th>r_PG-13</th>\n",
       "      <th>r_R</th>\n",
       "      <th>g_Action</th>\n",
       "      <th>g_Adventure</th>\n",
       "      <th>g_Animation</th>\n",
       "      <th>g_Biography</th>\n",
       "      <th>g_Comedy</th>\n",
       "      <th>g_Crime</th>\n",
       "      <th>...</th>\n",
       "      <th>g_Horror</th>\n",
       "      <th>g_Music</th>\n",
       "      <th>g_Musical</th>\n",
       "      <th>g_Mystery</th>\n",
       "      <th>g_Romance</th>\n",
       "      <th>g_Sci-Fi</th>\n",
       "      <th>g_Sport</th>\n",
       "      <th>g_Thriller</th>\n",
       "      <th>g_War</th>\n",
       "      <th>g_Western</th>\n",
       "    </tr>\n",
       "  </thead>\n",
       "  <tbody>\n",
       "    <tr>\n",
       "      <th>0</th>\n",
       "      <td>0</td>\n",
       "      <td>0</td>\n",
       "      <td>1</td>\n",
       "      <td>0</td>\n",
       "      <td>1</td>\n",
       "      <td>1</td>\n",
       "      <td>0</td>\n",
       "      <td>0</td>\n",
       "      <td>0</td>\n",
       "      <td>0</td>\n",
       "      <td>...</td>\n",
       "      <td>0</td>\n",
       "      <td>0</td>\n",
       "      <td>0</td>\n",
       "      <td>0</td>\n",
       "      <td>0</td>\n",
       "      <td>1</td>\n",
       "      <td>0</td>\n",
       "      <td>0</td>\n",
       "      <td>0</td>\n",
       "      <td>0</td>\n",
       "    </tr>\n",
       "    <tr>\n",
       "      <th>1</th>\n",
       "      <td>0</td>\n",
       "      <td>0</td>\n",
       "      <td>0</td>\n",
       "      <td>1</td>\n",
       "      <td>1</td>\n",
       "      <td>0</td>\n",
       "      <td>0</td>\n",
       "      <td>0</td>\n",
       "      <td>0</td>\n",
       "      <td>0</td>\n",
       "      <td>...</td>\n",
       "      <td>0</td>\n",
       "      <td>0</td>\n",
       "      <td>0</td>\n",
       "      <td>0</td>\n",
       "      <td>0</td>\n",
       "      <td>1</td>\n",
       "      <td>0</td>\n",
       "      <td>0</td>\n",
       "      <td>0</td>\n",
       "      <td>0</td>\n",
       "    </tr>\n",
       "    <tr>\n",
       "      <th>2</th>\n",
       "      <td>0</td>\n",
       "      <td>0</td>\n",
       "      <td>1</td>\n",
       "      <td>0</td>\n",
       "      <td>1</td>\n",
       "      <td>1</td>\n",
       "      <td>0</td>\n",
       "      <td>0</td>\n",
       "      <td>0</td>\n",
       "      <td>0</td>\n",
       "      <td>...</td>\n",
       "      <td>0</td>\n",
       "      <td>0</td>\n",
       "      <td>0</td>\n",
       "      <td>0</td>\n",
       "      <td>0</td>\n",
       "      <td>0</td>\n",
       "      <td>0</td>\n",
       "      <td>0</td>\n",
       "      <td>0</td>\n",
       "      <td>0</td>\n",
       "    </tr>\n",
       "    <tr>\n",
       "      <th>3</th>\n",
       "      <td>0</td>\n",
       "      <td>0</td>\n",
       "      <td>1</td>\n",
       "      <td>0</td>\n",
       "      <td>0</td>\n",
       "      <td>1</td>\n",
       "      <td>0</td>\n",
       "      <td>0</td>\n",
       "      <td>0</td>\n",
       "      <td>0</td>\n",
       "      <td>...</td>\n",
       "      <td>0</td>\n",
       "      <td>0</td>\n",
       "      <td>0</td>\n",
       "      <td>0</td>\n",
       "      <td>0</td>\n",
       "      <td>0</td>\n",
       "      <td>0</td>\n",
       "      <td>0</td>\n",
       "      <td>0</td>\n",
       "      <td>0</td>\n",
       "    </tr>\n",
       "    <tr>\n",
       "      <th>4</th>\n",
       "      <td>0</td>\n",
       "      <td>0</td>\n",
       "      <td>1</td>\n",
       "      <td>0</td>\n",
       "      <td>0</td>\n",
       "      <td>1</td>\n",
       "      <td>0</td>\n",
       "      <td>0</td>\n",
       "      <td>0</td>\n",
       "      <td>0</td>\n",
       "      <td>...</td>\n",
       "      <td>0</td>\n",
       "      <td>0</td>\n",
       "      <td>0</td>\n",
       "      <td>0</td>\n",
       "      <td>0</td>\n",
       "      <td>0</td>\n",
       "      <td>0</td>\n",
       "      <td>0</td>\n",
       "      <td>0</td>\n",
       "      <td>0</td>\n",
       "    </tr>\n",
       "  </tbody>\n",
       "</table>\n",
       "<p>5 rows × 25 columns</p>\n",
       "</div>"
      ],
      "text/plain": [
       "   r_G  r_PG  r_PG-13  r_R  g_Action  g_Adventure  g_Animation  g_Biography  \\\n",
       "0    0     0        1    0         1            1            0            0   \n",
       "1    0     0        0    1         1            0            0            0   \n",
       "2    0     0        1    0         1            1            0            0   \n",
       "3    0     0        1    0         0            1            0            0   \n",
       "4    0     0        1    0         0            1            0            0   \n",
       "\n",
       "   g_Comedy  g_Crime  ...  g_Horror  g_Music  g_Musical  g_Mystery  g_Romance  \\\n",
       "0         0        0  ...         0        0          0          0          0   \n",
       "1         0        0  ...         0        0          0          0          0   \n",
       "2         0        0  ...         0        0          0          0          0   \n",
       "3         0        0  ...         0        0          0          0          0   \n",
       "4         0        0  ...         0        0          0          0          0   \n",
       "\n",
       "   g_Sci-Fi  g_Sport  g_Thriller  g_War  g_Western  \n",
       "0         1        0           0      0          0  \n",
       "1         1        0           0      0          0  \n",
       "2         0        0           0      0          0  \n",
       "3         0        0           0      0          0  \n",
       "4         0        0           0      0          0  \n",
       "\n",
       "[5 rows x 25 columns]"
      ]
     },
     "execution_count": 16,
     "metadata": {},
     "output_type": "execute_result"
    }
   ],
   "source": [
    "# Combine the two\n",
    "df_ratings_genres = pd.concat([df_rating, df_genres], axis=1)\n",
    "\n",
    "df_ratings_genres.head()"
   ]
  },
  {
   "cell_type": "code",
   "execution_count": 17,
   "metadata": {
    "ExecuteTime": {
     "end_time": "2020-10-29T04:39:30.770836Z",
     "start_time": "2020-10-29T04:39:30.769244Z"
    }
   },
   "outputs": [],
   "source": [
    "# Concatenate Genres and Ratings to main dataframe\n",
    "\n",
    "#df_org = pd.concat([df_org,df_ratings_genres], axis=1)\n",
    "\n",
    "#del df_ratings_genres"
   ]
  },
  {
   "cell_type": "markdown",
   "metadata": {},
   "source": [
    "### Dates"
   ]
  },
  {
   "cell_type": "code",
   "execution_count": 18,
   "metadata": {
    "ExecuteTime": {
     "end_time": "2020-10-29T04:39:30.779071Z",
     "start_time": "2020-10-29T04:39:30.772415Z"
    }
   },
   "outputs": [],
   "source": [
    "df_org['deltaYears'] = diff_time\n",
    "\n",
    "df_org['rel_YearOrg']  = df_org['Release Date'].dt.year\n",
    "df_org['rel_MonthOrg'] = df_org['Release Date'].dt.month\n",
    "df_org['rel_DOWOrg']   = df_org['Release Date'].dt.dayofweek\n",
    "df_org['rel_DayOrg']   = df_org['Release Date'].dt.day"
   ]
  },
  {
   "cell_type": "code",
   "execution_count": 19,
   "metadata": {
    "ExecuteTime": {
     "end_time": "2020-10-29T04:39:30.792371Z",
     "start_time": "2020-10-29T04:39:30.780535Z"
    }
   },
   "outputs": [
    {
     "data": {
      "text/html": [
       "<div>\n",
       "<style scoped>\n",
       "    .dataframe tbody tr th:only-of-type {\n",
       "        vertical-align: middle;\n",
       "    }\n",
       "\n",
       "    .dataframe tbody tr th {\n",
       "        vertical-align: top;\n",
       "    }\n",
       "\n",
       "    .dataframe thead th {\n",
       "        text-align: right;\n",
       "    }\n",
       "</style>\n",
       "<table border=\"1\" class=\"dataframe\">\n",
       "  <thead>\n",
       "    <tr style=\"text-align: right;\">\n",
       "      <th></th>\n",
       "      <th>IMDB Score</th>\n",
       "      <th>Runtime (mins)</th>\n",
       "      <th>Budget</th>\n",
       "      <th>Gross World</th>\n",
       "      <th>Release Date</th>\n",
       "      <th>Rating</th>\n",
       "      <th>Genres</th>\n",
       "      <th>deltaYears</th>\n",
       "      <th>rel_YearOrg</th>\n",
       "      <th>rel_MonthOrg</th>\n",
       "      <th>rel_DOWOrg</th>\n",
       "      <th>rel_DayOrg</th>\n",
       "    </tr>\n",
       "  </thead>\n",
       "  <tbody>\n",
       "    <tr>\n",
       "      <th>0</th>\n",
       "      <td>7.3</td>\n",
       "      <td>121</td>\n",
       "      <td>139000000.0</td>\n",
       "      <td>8.250250e+08</td>\n",
       "      <td>2002-05-03</td>\n",
       "      <td>PG-13</td>\n",
       "      <td>Action Adventure Sci-Fi</td>\n",
       "      <td>2.160209</td>\n",
       "      <td>2002</td>\n",
       "      <td>5</td>\n",
       "      <td>4</td>\n",
       "      <td>3</td>\n",
       "    </tr>\n",
       "    <tr>\n",
       "      <th>1</th>\n",
       "      <td>8.7</td>\n",
       "      <td>136</td>\n",
       "      <td>63000000.0</td>\n",
       "      <td>4.653438e+08</td>\n",
       "      <td>1999-03-31</td>\n",
       "      <td>R</td>\n",
       "      <td>Action Sci-Fi</td>\n",
       "      <td>4.123288</td>\n",
       "      <td>1999</td>\n",
       "      <td>3</td>\n",
       "      <td>2</td>\n",
       "      <td>31</td>\n",
       "    </tr>\n",
       "    <tr>\n",
       "      <th>2</th>\n",
       "      <td>8.8</td>\n",
       "      <td>178</td>\n",
       "      <td>93000000.0</td>\n",
       "      <td>8.878328e+08</td>\n",
       "      <td>2001-12-19</td>\n",
       "      <td>PG-13</td>\n",
       "      <td>Action Adventure Drama</td>\n",
       "      <td>0.996598</td>\n",
       "      <td>2001</td>\n",
       "      <td>12</td>\n",
       "      <td>2</td>\n",
       "      <td>19</td>\n",
       "    </tr>\n",
       "    <tr>\n",
       "      <th>3</th>\n",
       "      <td>8.9</td>\n",
       "      <td>201</td>\n",
       "      <td>94000000.0</td>\n",
       "      <td>1.142219e+09</td>\n",
       "      <td>2003-12-17</td>\n",
       "      <td>PG-13</td>\n",
       "      <td>Adventure Drama Fantasy</td>\n",
       "      <td>8.994025</td>\n",
       "      <td>2003</td>\n",
       "      <td>12</td>\n",
       "      <td>2</td>\n",
       "      <td>17</td>\n",
       "    </tr>\n",
       "    <tr>\n",
       "      <th>4</th>\n",
       "      <td>7.8</td>\n",
       "      <td>161</td>\n",
       "      <td>225000000.0</td>\n",
       "      <td>9.583669e+08</td>\n",
       "      <td>2013-12-13</td>\n",
       "      <td>PG-13</td>\n",
       "      <td>Adventure Fantasy</td>\n",
       "      <td>1.010288</td>\n",
       "      <td>2013</td>\n",
       "      <td>12</td>\n",
       "      <td>4</td>\n",
       "      <td>13</td>\n",
       "    </tr>\n",
       "  </tbody>\n",
       "</table>\n",
       "</div>"
      ],
      "text/plain": [
       "   IMDB Score  Runtime (mins)       Budget   Gross World Release Date Rating  \\\n",
       "0         7.3             121  139000000.0  8.250250e+08   2002-05-03  PG-13   \n",
       "1         8.7             136   63000000.0  4.653438e+08   1999-03-31      R   \n",
       "2         8.8             178   93000000.0  8.878328e+08   2001-12-19  PG-13   \n",
       "3         8.9             201   94000000.0  1.142219e+09   2003-12-17  PG-13   \n",
       "4         7.8             161  225000000.0  9.583669e+08   2013-12-13  PG-13   \n",
       "\n",
       "                    Genres  deltaYears  rel_YearOrg  rel_MonthOrg  rel_DOWOrg  \\\n",
       "0  Action Adventure Sci-Fi    2.160209         2002             5           4   \n",
       "1            Action Sci-Fi    4.123288         1999             3           2   \n",
       "2   Action Adventure Drama    0.996598         2001            12           2   \n",
       "3  Adventure Drama Fantasy    8.994025         2003            12           2   \n",
       "4        Adventure Fantasy    1.010288         2013            12           4   \n",
       "\n",
       "   rel_DayOrg  \n",
       "0           3  \n",
       "1          31  \n",
       "2          19  \n",
       "3          17  \n",
       "4          13  "
      ]
     },
     "execution_count": 19,
     "metadata": {},
     "output_type": "execute_result"
    }
   ],
   "source": [
    "df_org.head()"
   ]
  },
  {
   "cell_type": "code",
   "execution_count": 20,
   "metadata": {
    "ExecuteTime": {
     "end_time": "2020-10-29T04:39:30.805985Z",
     "start_time": "2020-10-29T04:39:30.793989Z"
    }
   },
   "outputs": [
    {
     "data": {
      "text/html": [
       "<div>\n",
       "<style scoped>\n",
       "    .dataframe tbody tr th:only-of-type {\n",
       "        vertical-align: middle;\n",
       "    }\n",
       "\n",
       "    .dataframe tbody tr th {\n",
       "        vertical-align: top;\n",
       "    }\n",
       "\n",
       "    .dataframe thead th {\n",
       "        text-align: right;\n",
       "    }\n",
       "</style>\n",
       "<table border=\"1\" class=\"dataframe\">\n",
       "  <thead>\n",
       "    <tr style=\"text-align: right;\">\n",
       "      <th></th>\n",
       "      <th>IMDB Score</th>\n",
       "      <th>Runtime (mins)</th>\n",
       "      <th>Budget</th>\n",
       "      <th>Gross World</th>\n",
       "      <th>deltaYears</th>\n",
       "      <th>rel_YearOrg</th>\n",
       "      <th>rel_MonthOrg</th>\n",
       "      <th>rel_DOWOrg</th>\n",
       "      <th>rel_DayOrg</th>\n",
       "    </tr>\n",
       "  </thead>\n",
       "  <tbody>\n",
       "    <tr>\n",
       "      <th>0</th>\n",
       "      <td>7.3</td>\n",
       "      <td>121</td>\n",
       "      <td>139000000.0</td>\n",
       "      <td>8.250250e+08</td>\n",
       "      <td>2.160209</td>\n",
       "      <td>2002</td>\n",
       "      <td>5</td>\n",
       "      <td>4</td>\n",
       "      <td>3</td>\n",
       "    </tr>\n",
       "    <tr>\n",
       "      <th>1</th>\n",
       "      <td>8.7</td>\n",
       "      <td>136</td>\n",
       "      <td>63000000.0</td>\n",
       "      <td>4.653438e+08</td>\n",
       "      <td>4.123288</td>\n",
       "      <td>1999</td>\n",
       "      <td>3</td>\n",
       "      <td>2</td>\n",
       "      <td>31</td>\n",
       "    </tr>\n",
       "    <tr>\n",
       "      <th>2</th>\n",
       "      <td>8.8</td>\n",
       "      <td>178</td>\n",
       "      <td>93000000.0</td>\n",
       "      <td>8.878328e+08</td>\n",
       "      <td>0.996598</td>\n",
       "      <td>2001</td>\n",
       "      <td>12</td>\n",
       "      <td>2</td>\n",
       "      <td>19</td>\n",
       "    </tr>\n",
       "    <tr>\n",
       "      <th>3</th>\n",
       "      <td>8.9</td>\n",
       "      <td>201</td>\n",
       "      <td>94000000.0</td>\n",
       "      <td>1.142219e+09</td>\n",
       "      <td>8.994025</td>\n",
       "      <td>2003</td>\n",
       "      <td>12</td>\n",
       "      <td>2</td>\n",
       "      <td>17</td>\n",
       "    </tr>\n",
       "    <tr>\n",
       "      <th>4</th>\n",
       "      <td>7.8</td>\n",
       "      <td>161</td>\n",
       "      <td>225000000.0</td>\n",
       "      <td>9.583669e+08</td>\n",
       "      <td>1.010288</td>\n",
       "      <td>2013</td>\n",
       "      <td>12</td>\n",
       "      <td>4</td>\n",
       "      <td>13</td>\n",
       "    </tr>\n",
       "  </tbody>\n",
       "</table>\n",
       "</div>"
      ],
      "text/plain": [
       "   IMDB Score  Runtime (mins)       Budget   Gross World  deltaYears  \\\n",
       "0         7.3             121  139000000.0  8.250250e+08    2.160209   \n",
       "1         8.7             136   63000000.0  4.653438e+08    4.123288   \n",
       "2         8.8             178   93000000.0  8.878328e+08    0.996598   \n",
       "3         8.9             201   94000000.0  1.142219e+09    8.994025   \n",
       "4         7.8             161  225000000.0  9.583669e+08    1.010288   \n",
       "\n",
       "   rel_YearOrg  rel_MonthOrg  rel_DOWOrg  rel_DayOrg  \n",
       "0         2002             5           4           3  \n",
       "1         1999             3           2          31  \n",
       "2         2001            12           2          19  \n",
       "3         2003            12           2          17  \n",
       "4         2013            12           4          13  "
      ]
     },
     "execution_count": 20,
     "metadata": {},
     "output_type": "execute_result"
    }
   ],
   "source": [
    "#df_org = pd.concat([df_org,df_ratings_genres], axis=1)\n",
    "\n",
    "df_rel_time = df_org[['rel_YearOrg','rel_MonthOrg','rel_DOWOrg','rel_DayOrg']]\n",
    "\n",
    "df_org.drop(['Rating','Genres', 'Release Date'], axis=1, inplace=True)\n",
    "\n",
    "df_org.head()"
   ]
  },
  {
   "cell_type": "code",
   "execution_count": 21,
   "metadata": {
    "ExecuteTime": {
     "end_time": "2020-10-29T04:39:30.812861Z",
     "start_time": "2020-10-29T04:39:30.807624Z"
    }
   },
   "outputs": [
    {
     "name": "stdout",
     "output_type": "stream",
     "text": [
      "<class 'pandas.core.frame.DataFrame'>\n",
      "RangeIndex: 533 entries, 0 to 532\n",
      "Data columns (total 4 columns):\n",
      " #   Column        Non-Null Count  Dtype\n",
      "---  ------        --------------  -----\n",
      " 0   rel_YearOrg   533 non-null    int64\n",
      " 1   rel_MonthOrg  533 non-null    int64\n",
      " 2   rel_DOWOrg    533 non-null    int64\n",
      " 3   rel_DayOrg    533 non-null    int64\n",
      "dtypes: int64(4)\n",
      "memory usage: 16.8 KB\n"
     ]
    }
   ],
   "source": [
    "df_rel_time = df_rel_time.reset_index(drop=True)\n",
    "df_rel_time.info()"
   ]
  },
  {
   "cell_type": "markdown",
   "metadata": {},
   "source": [
    "### Numeric Columns"
   ]
  },
  {
   "cell_type": "code",
   "execution_count": 22,
   "metadata": {
    "ExecuteTime": {
     "end_time": "2020-10-29T04:39:30.820557Z",
     "start_time": "2020-10-29T04:39:30.814546Z"
    }
   },
   "outputs": [],
   "source": [
    "# Transform Budget and Gross into Log numbers\n",
    "df_org['LogBudget'] = np.log(df_org['Budget'])\n",
    "df_org['LogGross']  = np.log(df_org['Gross World'])\n",
    "\n",
    "df_org.drop(['Budget','Gross World'], axis=1, inplace=True)\n",
    "\n",
    "df_org.rename(columns = {'Runtime (mins)':'Runtime'}, inplace = True)"
   ]
  },
  {
   "cell_type": "code",
   "execution_count": 23,
   "metadata": {
    "ExecuteTime": {
     "end_time": "2020-10-29T04:39:30.834827Z",
     "start_time": "2020-10-29T04:39:30.826040Z"
    }
   },
   "outputs": [
    {
     "data": {
      "text/html": [
       "<div>\n",
       "<style scoped>\n",
       "    .dataframe tbody tr th:only-of-type {\n",
       "        vertical-align: middle;\n",
       "    }\n",
       "\n",
       "    .dataframe tbody tr th {\n",
       "        vertical-align: top;\n",
       "    }\n",
       "\n",
       "    .dataframe thead th {\n",
       "        text-align: right;\n",
       "    }\n",
       "</style>\n",
       "<table border=\"1\" class=\"dataframe\">\n",
       "  <thead>\n",
       "    <tr style=\"text-align: right;\">\n",
       "      <th></th>\n",
       "      <th>IMDB Score</th>\n",
       "      <th>Runtime</th>\n",
       "      <th>deltaYears</th>\n",
       "      <th>rel_YearOrg</th>\n",
       "      <th>rel_MonthOrg</th>\n",
       "      <th>rel_DOWOrg</th>\n",
       "      <th>rel_DayOrg</th>\n",
       "      <th>LogBudget</th>\n",
       "      <th>LogGross</th>\n",
       "    </tr>\n",
       "  </thead>\n",
       "  <tbody>\n",
       "    <tr>\n",
       "      <th>0</th>\n",
       "      <td>7.3</td>\n",
       "      <td>121</td>\n",
       "      <td>2.160209</td>\n",
       "      <td>2002</td>\n",
       "      <td>5</td>\n",
       "      <td>4</td>\n",
       "      <td>3</td>\n",
       "      <td>18.749984</td>\n",
       "      <td>20.530924</td>\n",
       "    </tr>\n",
       "    <tr>\n",
       "      <th>1</th>\n",
       "      <td>8.7</td>\n",
       "      <td>136</td>\n",
       "      <td>4.123288</td>\n",
       "      <td>1999</td>\n",
       "      <td>3</td>\n",
       "      <td>2</td>\n",
       "      <td>31</td>\n",
       "      <td>17.958645</td>\n",
       "      <td>19.958287</td>\n",
       "    </tr>\n",
       "    <tr>\n",
       "      <th>2</th>\n",
       "      <td>8.8</td>\n",
       "      <td>178</td>\n",
       "      <td>0.996598</td>\n",
       "      <td>2001</td>\n",
       "      <td>12</td>\n",
       "      <td>2</td>\n",
       "      <td>19</td>\n",
       "      <td>18.348110</td>\n",
       "      <td>20.604294</td>\n",
       "    </tr>\n",
       "    <tr>\n",
       "      <th>3</th>\n",
       "      <td>8.9</td>\n",
       "      <td>201</td>\n",
       "      <td>8.994025</td>\n",
       "      <td>2003</td>\n",
       "      <td>12</td>\n",
       "      <td>2</td>\n",
       "      <td>17</td>\n",
       "      <td>18.358805</td>\n",
       "      <td>20.856239</td>\n",
       "    </tr>\n",
       "    <tr>\n",
       "      <th>4</th>\n",
       "      <td>7.8</td>\n",
       "      <td>161</td>\n",
       "      <td>1.010288</td>\n",
       "      <td>2013</td>\n",
       "      <td>12</td>\n",
       "      <td>4</td>\n",
       "      <td>13</td>\n",
       "      <td>19.231611</td>\n",
       "      <td>20.680741</td>\n",
       "    </tr>\n",
       "  </tbody>\n",
       "</table>\n",
       "</div>"
      ],
      "text/plain": [
       "   IMDB Score  Runtime  deltaYears  rel_YearOrg  rel_MonthOrg  rel_DOWOrg  \\\n",
       "0         7.3      121    2.160209         2002             5           4   \n",
       "1         8.7      136    4.123288         1999             3           2   \n",
       "2         8.8      178    0.996598         2001            12           2   \n",
       "3         8.9      201    8.994025         2003            12           2   \n",
       "4         7.8      161    1.010288         2013            12           4   \n",
       "\n",
       "   rel_DayOrg  LogBudget   LogGross  \n",
       "0           3  18.749984  20.530924  \n",
       "1          31  17.958645  19.958287  \n",
       "2          19  18.348110  20.604294  \n",
       "3          17  18.358805  20.856239  \n",
       "4          13  19.231611  20.680741  "
      ]
     },
     "execution_count": 23,
     "metadata": {},
     "output_type": "execute_result"
    }
   ],
   "source": [
    "df_org.head()"
   ]
  },
  {
   "cell_type": "code",
   "execution_count": 24,
   "metadata": {
    "ExecuteTime": {
     "end_time": "2020-10-29T04:39:30.844252Z",
     "start_time": "2020-10-29T04:39:30.838149Z"
    }
   },
   "outputs": [
    {
     "name": "stdout",
     "output_type": "stream",
     "text": [
      "<class 'pandas.core.frame.DataFrame'>\n",
      "RangeIndex: 533 entries, 0 to 532\n",
      "Data columns (total 9 columns):\n",
      " #   Column        Non-Null Count  Dtype  \n",
      "---  ------        --------------  -----  \n",
      " 0   IMDB Score    533 non-null    float64\n",
      " 1   Runtime       533 non-null    int64  \n",
      " 2   deltaYears    533 non-null    float64\n",
      " 3   rel_YearOrg   533 non-null    int64  \n",
      " 4   rel_MonthOrg  533 non-null    int64  \n",
      " 5   rel_DOWOrg    533 non-null    int64  \n",
      " 6   rel_DayOrg    533 non-null    int64  \n",
      " 7   LogBudget     533 non-null    float64\n",
      " 8   LogGross      533 non-null    float64\n",
      "dtypes: float64(4), int64(5)\n",
      "memory usage: 37.6 KB\n"
     ]
    }
   ],
   "source": [
    "df_org.info()"
   ]
  },
  {
   "cell_type": "markdown",
   "metadata": {},
   "source": [
    "## Design Matrix & Modeling"
   ]
  },
  {
   "cell_type": "markdown",
   "metadata": {},
   "source": [
    "I will test several options here to see which generates the best R^2 Score\n",
    "\n",
    "1. IMDB Score, Runtime, deltaYears, LogBudget and LogGross\n",
    "\n",
    "2. Number 1 with rel_YearOrg, rel_MonthOrg,...\n",
    "\n",
    "3. Number 2 with Ratings\n",
    "\n",
    "4. Number 3 with Genres"
   ]
  },
  {
   "cell_type": "markdown",
   "metadata": {
    "ExecuteTime": {
     "end_time": "2020-10-29T03:11:36.634780Z",
     "start_time": "2020-10-29T03:11:36.632612Z"
    }
   },
   "source": [
    "### Helper Functions"
   ]
  },
  {
   "cell_type": "code",
   "execution_count": 25,
   "metadata": {
    "ExecuteTime": {
     "end_time": "2020-10-29T04:39:30.857187Z",
     "start_time": "2020-10-29T04:39:30.845931Z"
    }
   },
   "outputs": [],
   "source": [
    "def model_training(train,target,option):\n",
    "    \n",
    "    results = {}\n",
    "    \n",
    "    def test_model(clf):\n",
    "        \n",
    "        cv = KFold(n_splits=5,shuffle=True,random_state=2021)\n",
    "        r2 = make_scorer(r2_score)\n",
    "        r2_val_score = cross_val_score(clf, train, target, cv=cv,scoring=r2)\n",
    "        scores = [r2_val_score.mean()]\n",
    "        \n",
    "        return scores\n",
    "    \n",
    "    # Alpha parameter for Ridge, Lasso and ElasticNet\n",
    "    alpha = 0.001\n",
    "\n",
    "    model = LinearRegression()\n",
    "    results[\"Linear\"] = test_model(model)\n",
    "\n",
    "    model = Ridge(alpha=alpha)\n",
    "    results[\"Ridge\"]=test_model(model)\n",
    "\n",
    "    model = BayesianRidge()\n",
    "    results[\"Bayesian Ridge\"]=test_model(model)\n",
    "    \n",
    "    model = ARDRegression()\n",
    "    results[\"ARD Regressor\"]=test_model(model)\n",
    "    \n",
    "    model = SGDRegressor()\n",
    "    results[\"SGD Regressor\"]=test_model(model)   \n",
    "\n",
    "    model = HuberRegressor()\n",
    "    results[\"Hubber\"]=test_model(model)\n",
    "\n",
    "    model = Lasso(alpha=alpha)\n",
    "    results[\"Lasso\"]=test_model(model)\n",
    "    \n",
    "    model = ElasticNet(alpha=alpha)\n",
    "    results[\"ElasticNet\"]=test_model(model)\n",
    "    \n",
    "    model = SVR(kernel='linear')\n",
    "    results[\"SVR-Linear\"]=test_model(model)\n",
    "    \n",
    "    model = RandomForestRegressor(n_estimators=500, n_jobs=4, max_depth=5)\n",
    "    results[\"RandomForest\"] = test_model(model)\n",
    "\n",
    "    model = AdaBoostRegressor(n_estimators=500,learning_rate=0.001,)\n",
    "    results[\"AdaBoost\"] = test_model(model)\n",
    "    \n",
    "    model = lgbm.LGBMRegressor(n_estimators=500,n_jobs=4, max_depth=5, num_leaves=30)\n",
    "    results[\"LightGBM\"] = test_model(model)\n",
    "    \n",
    "    model = xgb.XGBRegressor(n_estimators=500,n_jobs=4, max_depth=5)\n",
    "    results[\"XGBoost\"] = test_model(model)\n",
    "    \n",
    "    df_results = pd.DataFrame.from_dict(results,orient='index')\n",
    "    df_results.columns = [\"R-Squared Score\"] \n",
    "    df_results = df_results.sort_values(by='R-Squared Score',ascending=False)\n",
    "    \n",
    "    ax = df_results.plot(kind=\"bar\",title=\"Model Scores, Option {}\".format(option),figsize=(12,5))\n",
    "    ax.set_ylabel('R-Squared Values')\n",
    "    #ax.xticks(rotation=45)\n",
    "    \n",
    "    plt.gca()\n",
    "    plt.ylim(0.5, 0.8)\n",
    "    plt.xticks(rotation=40)\n",
    "    plt.savefig('./images/model_r2_scores_option'+ str(option) +'.svg')\n",
    "    plt.savefig('./images/model_r2_scores_option'+ str(option) +'.png')\n",
    "    \n",
    "    return df_results"
   ]
  },
  {
   "cell_type": "code",
   "execution_count": 26,
   "metadata": {
    "ExecuteTime": {
     "end_time": "2020-10-29T04:39:30.861857Z",
     "start_time": "2020-10-29T04:39:30.858869Z"
    }
   },
   "outputs": [],
   "source": [
    "def opt_best_model(model,params,X_train,y_train):\n",
    "\n",
    "    model = RandomizedSearchCV(estimator = model_select, \n",
    "                               param_distributions = params, \n",
    "                               cv = 5, scoring = 'r2')\n",
    "\n",
    "    model_best = model.fit(X_train, y_train)\n",
    "\n",
    "    pprint(model_best.best_estimator_.get_params())\n",
    "\n",
    "    pprint(model_best.best_estimator_)\n",
    "    \n",
    "    return model_best"
   ]
  },
  {
   "cell_type": "code",
   "execution_count": 27,
   "metadata": {
    "ExecuteTime": {
     "end_time": "2020-10-29T04:39:30.867989Z",
     "start_time": "2020-10-29T04:39:30.863370Z"
    }
   },
   "outputs": [],
   "source": [
    "def model_best_predict(opt_model,X_train,X_test,y_train,y_test):\n",
    "    \n",
    "    # Make an estimation based on the best model\n",
    "    opt_model.best_estimator_.fit(X_train,y_train)\n",
    "\n",
    "    r2_score = model_best.best_estimator_.score(X_train,y_train)\n",
    "\n",
    "    print('R2-Score   : {:.6f}'.format(r2_score))\n",
    "\n",
    "    y_pred_train = np.exp(opt_model.best_estimator_.predict(X_train))\n",
    "    y_pred_test  = np.exp(opt_model.best_estimator_.predict(X_test))\n",
    "\n",
    "    rmse_train = np.sqrt(mean_squared_error(np.exp(y_train),y_pred_train))\n",
    "    rmse_test  = np.sqrt(mean_squared_error(np.exp(y_test),y_pred_test))\n",
    "\n",
    "    print('RMSE-Train : ${:,.2f}'.format(rmse_train))\n",
    "    print('RMSE-Test  : ${:,.2f}'.format(rmse_test))\n",
    "\n",
    "    coeffs = opt_model.best_estimator_.coef_.ravel()\n",
    "    \n",
    "    return coeffs"
   ]
  },
  {
   "cell_type": "code",
   "execution_count": 28,
   "metadata": {
    "ExecuteTime": {
     "end_time": "2020-10-29T04:39:30.875367Z",
     "start_time": "2020-10-29T04:39:30.869469Z"
    }
   },
   "outputs": [],
   "source": [
    "def plot_coefficients(X,coeffs,option):\n",
    "\n",
    "    variables = list(X.columns)\n",
    "\n",
    "    # Name change...I know this can be improved\n",
    "    for i in range(len(variables)):\n",
    "        if variables[i] == 'LogGross':\n",
    "            variables[i] = 'Gross'\n",
    "    \n",
    "        if variables[i] == 'LogBudget':\n",
    "            variables[i] = 'Budget'\n",
    "\n",
    "    # Get sorted index but in reverse\n",
    "    ind = list(np.argsort(coeffs))[::-1]\n",
    "    coeff = list(np.sort(coeffs))[::-1]\n",
    "\n",
    "    # Reorder variables\n",
    "    variables = [variables[i] for i in ind]\n",
    "\n",
    "    plt.figure(figsize=(16,6))\n",
    "    plt.bar(variables, coeff,color=['r','g','b','k','c','pink'])\n",
    "    plt.xticks(fontsize=10)\n",
    "    plt.yticks(fontsize=12)\n",
    "    plt.ylabel('Regression Coefficients for Option '+ str(option),fontsize=14)\n",
    "    plt.title('Regression Coefficients',fontsize=16)\n",
    "    plt.savefig('./images/coefficients_option' + str(option) +'.svg')"
   ]
  },
  {
   "cell_type": "markdown",
   "metadata": {},
   "source": [
    "### Modeling - Option 1"
   ]
  },
  {
   "cell_type": "code",
   "execution_count": 29,
   "metadata": {
    "ExecuteTime": {
     "end_time": "2020-10-29T04:39:30.884809Z",
     "start_time": "2020-10-29T04:39:30.876771Z"
    }
   },
   "outputs": [
    {
     "data": {
      "text/html": [
       "<div>\n",
       "<style scoped>\n",
       "    .dataframe tbody tr th:only-of-type {\n",
       "        vertical-align: middle;\n",
       "    }\n",
       "\n",
       "    .dataframe tbody tr th {\n",
       "        vertical-align: top;\n",
       "    }\n",
       "\n",
       "    .dataframe thead th {\n",
       "        text-align: right;\n",
       "    }\n",
       "</style>\n",
       "<table border=\"1\" class=\"dataframe\">\n",
       "  <thead>\n",
       "    <tr style=\"text-align: right;\">\n",
       "      <th></th>\n",
       "      <th>IMDB Score</th>\n",
       "      <th>Runtime</th>\n",
       "      <th>deltaYears</th>\n",
       "      <th>LogBudget</th>\n",
       "      <th>LogGross</th>\n",
       "    </tr>\n",
       "  </thead>\n",
       "  <tbody>\n",
       "    <tr>\n",
       "      <th>0</th>\n",
       "      <td>7.3</td>\n",
       "      <td>121</td>\n",
       "      <td>2.160209</td>\n",
       "      <td>18.749984</td>\n",
       "      <td>20.530924</td>\n",
       "    </tr>\n",
       "    <tr>\n",
       "      <th>1</th>\n",
       "      <td>8.7</td>\n",
       "      <td>136</td>\n",
       "      <td>4.123288</td>\n",
       "      <td>17.958645</td>\n",
       "      <td>19.958287</td>\n",
       "    </tr>\n",
       "    <tr>\n",
       "      <th>2</th>\n",
       "      <td>8.8</td>\n",
       "      <td>178</td>\n",
       "      <td>0.996598</td>\n",
       "      <td>18.348110</td>\n",
       "      <td>20.604294</td>\n",
       "    </tr>\n",
       "    <tr>\n",
       "      <th>3</th>\n",
       "      <td>8.9</td>\n",
       "      <td>201</td>\n",
       "      <td>8.994025</td>\n",
       "      <td>18.358805</td>\n",
       "      <td>20.856239</td>\n",
       "    </tr>\n",
       "    <tr>\n",
       "      <th>4</th>\n",
       "      <td>7.8</td>\n",
       "      <td>161</td>\n",
       "      <td>1.010288</td>\n",
       "      <td>19.231611</td>\n",
       "      <td>20.680741</td>\n",
       "    </tr>\n",
       "  </tbody>\n",
       "</table>\n",
       "</div>"
      ],
      "text/plain": [
       "   IMDB Score  Runtime  deltaYears  LogBudget   LogGross\n",
       "0         7.3      121    2.160209  18.749984  20.530924\n",
       "1         8.7      136    4.123288  17.958645  19.958287\n",
       "2         8.8      178    0.996598  18.348110  20.604294\n",
       "3         8.9      201    8.994025  18.358805  20.856239\n",
       "4         7.8      161    1.010288  19.231611  20.680741"
      ]
     },
     "execution_count": 29,
     "metadata": {},
     "output_type": "execute_result"
    }
   ],
   "source": [
    "X1 = df_org.drop(['rel_YearOrg','rel_MonthOrg','rel_DOWOrg','rel_DayOrg'], axis=1)\n",
    "\n",
    "X1.head()"
   ]
  },
  {
   "cell_type": "code",
   "execution_count": 30,
   "metadata": {
    "ExecuteTime": {
     "end_time": "2020-10-29T04:39:30.891354Z",
     "start_time": "2020-10-29T04:39:30.886191Z"
    }
   },
   "outputs": [
    {
     "name": "stdout",
     "output_type": "stream",
     "text": [
      "<class 'pandas.core.frame.DataFrame'>\n",
      "RangeIndex: 533 entries, 0 to 532\n",
      "Data columns (total 5 columns):\n",
      " #   Column      Non-Null Count  Dtype  \n",
      "---  ------      --------------  -----  \n",
      " 0   IMDB Score  533 non-null    float64\n",
      " 1   Runtime     533 non-null    int64  \n",
      " 2   deltaYears  533 non-null    float64\n",
      " 3   LogBudget   533 non-null    float64\n",
      " 4   LogGross    533 non-null    float64\n",
      "dtypes: float64(4), int64(1)\n",
      "memory usage: 20.9 KB\n"
     ]
    }
   ],
   "source": [
    "X1 = X1.reset_index(drop=True)\n",
    "\n",
    "X1.info()"
   ]
  },
  {
   "cell_type": "code",
   "execution_count": 31,
   "metadata": {
    "ExecuteTime": {
     "end_time": "2020-10-29T04:39:30.896437Z",
     "start_time": "2020-10-29T04:39:30.892735Z"
    }
   },
   "outputs": [],
   "source": [
    "X1_train, X1_test, y1_train, y1_test = train_test_split(X1, y, test_size=0.15, random_state=2020)"
   ]
  },
  {
   "cell_type": "code",
   "execution_count": 32,
   "metadata": {
    "ExecuteTime": {
     "end_time": "2020-10-29T04:39:30.900430Z",
     "start_time": "2020-10-29T04:39:30.897692Z"
    }
   },
   "outputs": [
    {
     "data": {
      "text/plain": [
       "(453, 5)"
      ]
     },
     "execution_count": 32,
     "metadata": {},
     "output_type": "execute_result"
    }
   ],
   "source": [
    "X1_train.shape"
   ]
  },
  {
   "cell_type": "code",
   "execution_count": 33,
   "metadata": {
    "ExecuteTime": {
     "end_time": "2020-10-29T04:39:30.904538Z",
     "start_time": "2020-10-29T04:39:30.901844Z"
    }
   },
   "outputs": [
    {
     "data": {
      "text/plain": [
       "(80, 5)"
      ]
     },
     "execution_count": 33,
     "metadata": {},
     "output_type": "execute_result"
    }
   ],
   "source": [
    "X1_test.shape"
   ]
  },
  {
   "cell_type": "code",
   "execution_count": 34,
   "metadata": {
    "ExecuteTime": {
     "end_time": "2020-10-29T04:39:30.911251Z",
     "start_time": "2020-10-29T04:39:30.905910Z"
    }
   },
   "outputs": [],
   "source": [
    "# Standardize training data\n",
    "sc1 = StandardScaler()\n",
    "\n",
    "X1_train_scaled = pd.DataFrame(sc1.fit_transform(X1_train), columns=X1_train.columns)\n",
    "X1_test_scaled  = pd.DataFrame(sc1.transform(X1_test), columns=X1_test.columns)"
   ]
  },
  {
   "cell_type": "code",
   "execution_count": 35,
   "metadata": {
    "ExecuteTime": {
     "end_time": "2020-10-29T04:39:38.272115Z",
     "start_time": "2020-10-29T04:39:30.912678Z"
    }
   },
   "outputs": [
    {
     "data": {
      "text/html": [
       "<div>\n",
       "<style scoped>\n",
       "    .dataframe tbody tr th:only-of-type {\n",
       "        vertical-align: middle;\n",
       "    }\n",
       "\n",
       "    .dataframe tbody tr th {\n",
       "        vertical-align: top;\n",
       "    }\n",
       "\n",
       "    .dataframe thead th {\n",
       "        text-align: right;\n",
       "    }\n",
       "</style>\n",
       "<table border=\"1\" class=\"dataframe\">\n",
       "  <thead>\n",
       "    <tr style=\"text-align: right;\">\n",
       "      <th></th>\n",
       "      <th>R-Squared Score</th>\n",
       "    </tr>\n",
       "  </thead>\n",
       "  <tbody>\n",
       "    <tr>\n",
       "      <th>Hubber</th>\n",
       "      <td>0.739770</td>\n",
       "    </tr>\n",
       "    <tr>\n",
       "      <th>Bayesian Ridge</th>\n",
       "      <td>0.739446</td>\n",
       "    </tr>\n",
       "    <tr>\n",
       "      <th>ElasticNet</th>\n",
       "      <td>0.739355</td>\n",
       "    </tr>\n",
       "    <tr>\n",
       "      <th>Lasso</th>\n",
       "      <td>0.739353</td>\n",
       "    </tr>\n",
       "    <tr>\n",
       "      <th>Ridge</th>\n",
       "      <td>0.739326</td>\n",
       "    </tr>\n",
       "    <tr>\n",
       "      <th>Linear</th>\n",
       "      <td>0.739326</td>\n",
       "    </tr>\n",
       "    <tr>\n",
       "      <th>ARD Regressor</th>\n",
       "      <td>0.738653</td>\n",
       "    </tr>\n",
       "    <tr>\n",
       "      <th>SVR-Linear</th>\n",
       "      <td>0.738478</td>\n",
       "    </tr>\n",
       "    <tr>\n",
       "      <th>SGD Regressor</th>\n",
       "      <td>0.738444</td>\n",
       "    </tr>\n",
       "    <tr>\n",
       "      <th>RandomForest</th>\n",
       "      <td>0.721391</td>\n",
       "    </tr>\n",
       "    <tr>\n",
       "      <th>AdaBoost</th>\n",
       "      <td>0.714249</td>\n",
       "    </tr>\n",
       "    <tr>\n",
       "      <th>XGBoost</th>\n",
       "      <td>0.656738</td>\n",
       "    </tr>\n",
       "    <tr>\n",
       "      <th>LightGBM</th>\n",
       "      <td>0.655094</td>\n",
       "    </tr>\n",
       "  </tbody>\n",
       "</table>\n",
       "</div>"
      ],
      "text/plain": [
       "                R-Squared Score\n",
       "Hubber                 0.739770\n",
       "Bayesian Ridge         0.739446\n",
       "ElasticNet             0.739355\n",
       "Lasso                  0.739353\n",
       "Ridge                  0.739326\n",
       "Linear                 0.739326\n",
       "ARD Regressor          0.738653\n",
       "SVR-Linear             0.738478\n",
       "SGD Regressor          0.738444\n",
       "RandomForest           0.721391\n",
       "AdaBoost               0.714249\n",
       "XGBoost                0.656738\n",
       "LightGBM               0.655094"
      ]
     },
     "execution_count": 35,
     "metadata": {},
     "output_type": "execute_result"
    },
    {
     "data": {
      "image/png": "[encoded data removed]",
      "text/plain": [
       "<Figure size 864x360 with 1 Axes>"
      ]
     },
     "metadata": {
      "image/png": {
       "height": 365,
       "width": 726
      },
      "needs_background": "light"
     },
     "output_type": "display_data"
    }
   ],
   "source": [
    "option = 1\n",
    "\n",
    "df_results_option_1 = model_training(X1_train_scaled,y1_train,option)\n",
    "\n",
    "df_results_option_1"
   ]
  },
  {
   "cell_type": "code",
   "execution_count": 36,
   "metadata": {
    "ExecuteTime": {
     "end_time": "2020-10-29T04:39:38.579390Z",
     "start_time": "2020-10-29T04:39:38.273848Z"
    }
   },
   "outputs": [
    {
     "name": "stdout",
     "output_type": "stream",
     "text": [
      "{'alpha': 0.1,\n",
      " 'epsilon': 1.3,\n",
      " 'fit_intercept': True,\n",
      " 'max_iter': 300,\n",
      " 'tol': 1e-05,\n",
      " 'warm_start': False}\n",
      "HuberRegressor(alpha=0.1, epsilon=1.3, fit_intercept=True, max_iter=300,\n",
      "               tol=1e-05, warm_start=False)\n",
      "\n",
      "\n",
      "R2-Score   : 0.749951\n",
      "RMSE-Train : $159,458,053.31\n",
      "RMSE-Test  : $100,462,618.92\n"
     ]
    }
   ],
   "source": [
    "# Pick a model and perform hyper-parameter tuning\n",
    "\n",
    "model_select = HuberRegressor()\n",
    "\n",
    "params = {'epsilon' : [1.0,1.1,1.2,1.3,1.35],\n",
    "          'alpha'   : [1e-4,1e-3,1e-2,1e-1,0,0.1,0.2,0.3],\n",
    "          'fit_intercept' : [False,True],\n",
    "          'max_iter' : [100,200,300,400,500]\n",
    "         }\n",
    "\n",
    "model_best = opt_best_model(model_select,params,X1_train_scaled,y1_train)\n",
    "\n",
    "print()\n",
    "print()\n",
    "\n",
    "model_coeffs = model_best_predict(model_best,X1_train_scaled,X1_test_scaled,y1_train,y1_test)\n"
   ]
  },
  {
   "cell_type": "code",
   "execution_count": 37,
   "metadata": {
    "ExecuteTime": {
     "end_time": "2020-10-29T04:39:38.941630Z",
     "start_time": "2020-10-29T04:39:38.580857Z"
    }
   },
   "outputs": [
    {
     "data": {
      "image/png": "[encoded data removed]",
      "text/plain": [
       "<Figure size 1152x432 with 1 Axes>"
      ]
     },
     "metadata": {
      "image/png": {
       "height": 375,
       "width": 951
      },
      "needs_background": "light"
     },
     "output_type": "display_data"
    }
   ],
   "source": [
    "plot_coefficients(X1_train_scaled,model_coeffs,1)"
   ]
  },
  {
   "cell_type": "code",
   "execution_count": 38,
   "metadata": {
    "ExecuteTime": {
     "end_time": "2020-10-29T04:39:39.454605Z",
     "start_time": "2020-10-29T04:39:38.943367Z"
    }
   },
   "outputs": [
    {
     "data": {
      "image/png": "[encoded data removed]",
      "text/plain": [
       "<Figure size 1008x432 with 1 Axes>"
      ]
     },
     "metadata": {
      "image/png": {
       "height": 395,
       "width": 862
      },
      "needs_background": "light"
     },
     "output_type": "display_data"
    }
   ],
   "source": [
    "# Get a picture of the skedasticity\n",
    "\n",
    "y1_pred_test = np.exp(model_best.predict(X1_test_scaled))\n",
    "\n",
    "pct_residuals = (y1_pred_test - np.exp(y1_test))/np.exp(y1_test)*100\n",
    "\n",
    "plt.figure(figsize=(14,6))\n",
    "plt.scatter(y1_pred_test/1e6,pct_residuals,color='red');\n",
    "plt.xlabel('Predicted box office (USD), Millions',fontsize=14);\n",
    "plt.ylabel('Percent Residual (%)',fontsize=14);\n",
    "plt.title('Residual vs Predicted Box Office Returns',fontsize=16);\n",
    "plt.xticks(fontsize=12)\n",
    "plt.yticks(fontsize=12)\n",
    "plt.xticks(np.arange(0, 1000+1, 100))\n",
    "plt.axhline(y = 0, color='black');\n",
    "plt.grid()\n",
    "plt.savefig('./images/residuals_option_1.svg')\n",
    "plt.savefig('./images/residuals_option_1.png')\n",
    "\n",
    "#pct_residuals"
   ]
  },
  {
   "cell_type": "markdown",
   "metadata": {},
   "source": [
    "There are still a number of outliers here that the model cannot predict really well. Notice the discrepancy of over 1,000%. These could most likely be sequels that severely over-performed or under-performed compared to its original. Notice that the original movie perhaps did not make very much at the time and suddenly because of say it becoming a cult-classic, its sequel becomes extremely popular."
   ]
  },
  {
   "cell_type": "code",
   "execution_count": 39,
   "metadata": {
    "ExecuteTime": {
     "end_time": "2020-10-29T04:39:39.852389Z",
     "start_time": "2020-10-29T04:39:39.457106Z"
    }
   },
   "outputs": [
    {
     "data": {
      "image/png": "[encoded data removed]",
      "text/plain": [
       "<Figure size 1008x432 with 1 Axes>"
      ]
     },
     "metadata": {
      "image/png": {
       "height": 395,
       "width": 869
      },
      "needs_background": "light"
     },
     "output_type": "display_data"
    }
   ],
   "source": [
    "plt.figure(figsize=(14,6))\n",
    "plt.scatter(y1_pred_test/1e6,pct_residuals,color='red');\n",
    "plt.xlabel('Predicted box office (USD)',fontsize=14);\n",
    "plt.ylabel('Percent Residual (%)',fontsize=14);\n",
    "plt.title('Residual vs Predicted Box Office Returns',fontsize=16);\n",
    "plt.axis([-10, 1000, -250, 1000])\n",
    "plt.xticks(np.arange(0, 1000+1, 100))\n",
    "plt.xticks(fontsize=12)\n",
    "plt.yticks(fontsize=12)\n",
    "plt.axhline(y = 0, color='black');\n",
    "plt.grid()\n",
    "plt.savefig('./images/residuals_option_1_zoom.svg')\n"
   ]
  },
  {
   "cell_type": "markdown",
   "metadata": {},
   "source": [
    "Based on our EDA, it is no surprise that the returns of the original strongly dictates the direction of its sequel. It is then followed by its budget and IMDB score. The period between release has a slight effect. The runtime however, has a slight negative effect. In this case, perhaps do not have a too long of a movie."
   ]
  },
  {
   "cell_type": "markdown",
   "metadata": {
    "ExecuteTime": {
     "end_time": "2020-10-28T18:27:17.467067Z",
     "start_time": "2020-10-28T18:27:17.461402Z"
    }
   },
   "source": [
    "### Modeling - Option 2"
   ]
  },
  {
   "cell_type": "markdown",
   "metadata": {
    "ExecuteTime": {
     "end_time": "2020-10-28T18:27:17.473245Z",
     "start_time": "2020-10-28T18:27:17.469543Z"
    }
   },
   "source": [
    "2. Number 1 with rel_YearOrg, rel_MonthOrg,..."
   ]
  },
  {
   "cell_type": "code",
   "execution_count": 40,
   "metadata": {
    "ExecuteTime": {
     "end_time": "2020-10-29T04:39:39.863558Z",
     "start_time": "2020-10-29T04:39:39.854221Z"
    }
   },
   "outputs": [
    {
     "name": "stdout",
     "output_type": "stream",
     "text": [
      "<class 'pandas.core.frame.DataFrame'>\n",
      "RangeIndex: 533 entries, 0 to 532\n",
      "Data columns (total 9 columns):\n",
      " #   Column        Non-Null Count  Dtype  \n",
      "---  ------        --------------  -----  \n",
      " 0   IMDB Score    533 non-null    float64\n",
      " 1   Runtime       533 non-null    int64  \n",
      " 2   deltaYears    533 non-null    float64\n",
      " 3   LogBudget     533 non-null    float64\n",
      " 4   LogGross      533 non-null    float64\n",
      " 5   rel_YearOrg   533 non-null    int64  \n",
      " 6   rel_MonthOrg  533 non-null    int64  \n",
      " 7   rel_DOWOrg    533 non-null    int64  \n",
      " 8   rel_DayOrg    533 non-null    int64  \n",
      "dtypes: float64(4), int64(5)\n",
      "memory usage: 37.6 KB\n"
     ]
    }
   ],
   "source": [
    "X2 = pd.concat([X1, df_rel_time], axis=1)\n",
    "\n",
    "X2 = X2.reset_index(drop=True) \n",
    "X2.info()"
   ]
  },
  {
   "cell_type": "code",
   "execution_count": 41,
   "metadata": {
    "ExecuteTime": {
     "end_time": "2020-10-29T04:39:39.872549Z",
     "start_time": "2020-10-29T04:39:39.865222Z"
    }
   },
   "outputs": [],
   "source": [
    "X2_train, X2_test, y2_train, y2_test = train_test_split(X2, y, test_size=0.15, random_state=2020)\n",
    "\n",
    "# Standardize training data\n",
    "sc2 = StandardScaler()\n",
    "\n",
    "X2_train_scaled = pd.DataFrame(sc2.fit_transform(X2_train), columns=X2_train.columns)\n",
    "X2_test_scaled  = pd.DataFrame(sc2.transform(X2_test), columns=X2_test.columns)"
   ]
  },
  {
   "cell_type": "code",
   "execution_count": 42,
   "metadata": {
    "ExecuteTime": {
     "end_time": "2020-10-29T04:39:46.404119Z",
     "start_time": "2020-10-29T04:39:39.874262Z"
    }
   },
   "outputs": [
    {
     "data": {
      "text/html": [
       "<div>\n",
       "<style scoped>\n",
       "    .dataframe tbody tr th:only-of-type {\n",
       "        vertical-align: middle;\n",
       "    }\n",
       "\n",
       "    .dataframe tbody tr th {\n",
       "        vertical-align: top;\n",
       "    }\n",
       "\n",
       "    .dataframe thead th {\n",
       "        text-align: right;\n",
       "    }\n",
       "</style>\n",
       "<table border=\"1\" class=\"dataframe\">\n",
       "  <thead>\n",
       "    <tr style=\"text-align: right;\">\n",
       "      <th></th>\n",
       "      <th>R-Squared Score</th>\n",
       "    </tr>\n",
       "  </thead>\n",
       "  <tbody>\n",
       "    <tr>\n",
       "      <th>Hubber</th>\n",
       "      <td>0.744471</td>\n",
       "    </tr>\n",
       "    <tr>\n",
       "      <th>SGD Regressor</th>\n",
       "      <td>0.744408</td>\n",
       "    </tr>\n",
       "    <tr>\n",
       "      <th>Bayesian Ridge</th>\n",
       "      <td>0.743228</td>\n",
       "    </tr>\n",
       "    <tr>\n",
       "      <th>Lasso</th>\n",
       "      <td>0.743151</td>\n",
       "    </tr>\n",
       "    <tr>\n",
       "      <th>ElasticNet</th>\n",
       "      <td>0.743122</td>\n",
       "    </tr>\n",
       "    <tr>\n",
       "      <th>Ridge</th>\n",
       "      <td>0.743063</td>\n",
       "    </tr>\n",
       "    <tr>\n",
       "      <th>Linear</th>\n",
       "      <td>0.743063</td>\n",
       "    </tr>\n",
       "    <tr>\n",
       "      <th>ARD Regressor</th>\n",
       "      <td>0.742947</td>\n",
       "    </tr>\n",
       "    <tr>\n",
       "      <th>SVR-Linear</th>\n",
       "      <td>0.742613</td>\n",
       "    </tr>\n",
       "    <tr>\n",
       "      <th>RandomForest</th>\n",
       "      <td>0.722385</td>\n",
       "    </tr>\n",
       "    <tr>\n",
       "      <th>AdaBoost</th>\n",
       "      <td>0.712760</td>\n",
       "    </tr>\n",
       "    <tr>\n",
       "      <th>XGBoost</th>\n",
       "      <td>0.671705</td>\n",
       "    </tr>\n",
       "    <tr>\n",
       "      <th>LightGBM</th>\n",
       "      <td>0.671250</td>\n",
       "    </tr>\n",
       "  </tbody>\n",
       "</table>\n",
       "</div>"
      ],
      "text/plain": [
       "                R-Squared Score\n",
       "Hubber                 0.744471\n",
       "SGD Regressor          0.744408\n",
       "Bayesian Ridge         0.743228\n",
       "Lasso                  0.743151\n",
       "ElasticNet             0.743122\n",
       "Ridge                  0.743063\n",
       "Linear                 0.743063\n",
       "ARD Regressor          0.742947\n",
       "SVR-Linear             0.742613\n",
       "RandomForest           0.722385\n",
       "AdaBoost               0.712760\n",
       "XGBoost                0.671705\n",
       "LightGBM               0.671250"
      ]
     },
     "execution_count": 42,
     "metadata": {},
     "output_type": "execute_result"
    },
    {
     "data": {
      "image/png": "[encoded data removed]",
      "text/plain": [
       "<Figure size 864x360 with 1 Axes>"
      ]
     },
     "metadata": {
      "image/png": {
       "height": 365,
       "width": 726
      },
      "needs_background": "light"
     },
     "output_type": "display_data"
    }
   ],
   "source": [
    "df_results_option_2 = model_training(X2_train_scaled,y2_train,2)\n",
    "\n",
    "df_results_option_2"
   ]
  },
  {
   "cell_type": "code",
   "execution_count": 43,
   "metadata": {
    "ExecuteTime": {
     "end_time": "2020-10-29T04:39:46.797960Z",
     "start_time": "2020-10-29T04:39:46.405851Z"
    }
   },
   "outputs": [
    {
     "name": "stdout",
     "output_type": "stream",
     "text": [
      "{'alpha': 0.3,\n",
      " 'epsilon': 1.35,\n",
      " 'fit_intercept': True,\n",
      " 'max_iter': 200,\n",
      " 'tol': 1e-05,\n",
      " 'warm_start': False}\n",
      "HuberRegressor(alpha=0.3, epsilon=1.35, fit_intercept=True, max_iter=200,\n",
      "               tol=1e-05, warm_start=False)\n",
      "\n",
      "\n",
      "R2-Score   : 0.757422\n",
      "RMSE-Train : $159,549,740.52\n",
      "RMSE-Test  : $101,601,308.56\n"
     ]
    }
   ],
   "source": [
    "model_select = HuberRegressor()\n",
    "\n",
    "params = {'epsilon' : [1.0,1.1,1.2,1.3,1.35],\n",
    "          'alpha'   : [1e-4,1e-3,1e-2,1e-1,0,0.1,0.2,0.3],\n",
    "          'fit_intercept' : [False,True],\n",
    "          'max_iter' : [100,200,300,400,500]\n",
    "         }\n",
    "    \n",
    "model_best = opt_best_model(model_select,params,X2_train_scaled,y2_train)\n",
    "\n",
    "print()\n",
    "print()\n",
    "\n",
    "model_coeffs = model_best_predict(model_best,X2_train_scaled,X2_test_scaled,y2_train,y2_test)\n",
    "    "
   ]
  },
  {
   "cell_type": "code",
   "execution_count": 44,
   "metadata": {
    "ExecuteTime": {
     "end_time": "2020-10-29T04:39:47.185373Z",
     "start_time": "2020-10-29T04:39:46.799665Z"
    }
   },
   "outputs": [
    {
     "data": {
      "image/png": "[encoded data removed]",
      "text/plain": [
       "<Figure size 1152x432 with 1 Axes>"
      ]
     },
     "metadata": {
      "image/png": {
       "height": 375,
       "width": 951
      },
      "needs_background": "light"
     },
     "output_type": "display_data"
    }
   ],
   "source": [
    "plot_coefficients(X2_train_scaled,model_coeffs,2)"
   ]
  },
  {
   "cell_type": "markdown",
   "metadata": {},
   "source": [
    "### Modeling - Option 3"
   ]
  },
  {
   "cell_type": "markdown",
   "metadata": {},
   "source": [
    "3. Number 2 with Ratings"
   ]
  },
  {
   "cell_type": "code",
   "execution_count": 45,
   "metadata": {
    "ExecuteTime": {
     "end_time": "2020-10-29T04:39:47.198889Z",
     "start_time": "2020-10-29T04:39:47.187140Z"
    }
   },
   "outputs": [
    {
     "data": {
      "text/html": [
       "<div>\n",
       "<style scoped>\n",
       "    .dataframe tbody tr th:only-of-type {\n",
       "        vertical-align: middle;\n",
       "    }\n",
       "\n",
       "    .dataframe tbody tr th {\n",
       "        vertical-align: top;\n",
       "    }\n",
       "\n",
       "    .dataframe thead th {\n",
       "        text-align: right;\n",
       "    }\n",
       "</style>\n",
       "<table border=\"1\" class=\"dataframe\">\n",
       "  <thead>\n",
       "    <tr style=\"text-align: right;\">\n",
       "      <th></th>\n",
       "      <th>IMDB Score</th>\n",
       "      <th>Runtime</th>\n",
       "      <th>deltaYears</th>\n",
       "      <th>LogBudget</th>\n",
       "      <th>LogGross</th>\n",
       "      <th>rel_YearOrg</th>\n",
       "      <th>rel_MonthOrg</th>\n",
       "      <th>rel_DOWOrg</th>\n",
       "      <th>rel_DayOrg</th>\n",
       "      <th>r_G</th>\n",
       "      <th>r_PG</th>\n",
       "      <th>r_PG-13</th>\n",
       "      <th>r_R</th>\n",
       "    </tr>\n",
       "  </thead>\n",
       "  <tbody>\n",
       "    <tr>\n",
       "      <th>0</th>\n",
       "      <td>7.3</td>\n",
       "      <td>121</td>\n",
       "      <td>2.160209</td>\n",
       "      <td>18.749984</td>\n",
       "      <td>20.530924</td>\n",
       "      <td>2002</td>\n",
       "      <td>5</td>\n",
       "      <td>4</td>\n",
       "      <td>3</td>\n",
       "      <td>0</td>\n",
       "      <td>0</td>\n",
       "      <td>1</td>\n",
       "      <td>0</td>\n",
       "    </tr>\n",
       "    <tr>\n",
       "      <th>1</th>\n",
       "      <td>8.7</td>\n",
       "      <td>136</td>\n",
       "      <td>4.123288</td>\n",
       "      <td>17.958645</td>\n",
       "      <td>19.958287</td>\n",
       "      <td>1999</td>\n",
       "      <td>3</td>\n",
       "      <td>2</td>\n",
       "      <td>31</td>\n",
       "      <td>0</td>\n",
       "      <td>0</td>\n",
       "      <td>0</td>\n",
       "      <td>1</td>\n",
       "    </tr>\n",
       "    <tr>\n",
       "      <th>2</th>\n",
       "      <td>8.8</td>\n",
       "      <td>178</td>\n",
       "      <td>0.996598</td>\n",
       "      <td>18.348110</td>\n",
       "      <td>20.604294</td>\n",
       "      <td>2001</td>\n",
       "      <td>12</td>\n",
       "      <td>2</td>\n",
       "      <td>19</td>\n",
       "      <td>0</td>\n",
       "      <td>0</td>\n",
       "      <td>1</td>\n",
       "      <td>0</td>\n",
       "    </tr>\n",
       "    <tr>\n",
       "      <th>3</th>\n",
       "      <td>8.9</td>\n",
       "      <td>201</td>\n",
       "      <td>8.994025</td>\n",
       "      <td>18.358805</td>\n",
       "      <td>20.856239</td>\n",
       "      <td>2003</td>\n",
       "      <td>12</td>\n",
       "      <td>2</td>\n",
       "      <td>17</td>\n",
       "      <td>0</td>\n",
       "      <td>0</td>\n",
       "      <td>1</td>\n",
       "      <td>0</td>\n",
       "    </tr>\n",
       "    <tr>\n",
       "      <th>4</th>\n",
       "      <td>7.8</td>\n",
       "      <td>161</td>\n",
       "      <td>1.010288</td>\n",
       "      <td>19.231611</td>\n",
       "      <td>20.680741</td>\n",
       "      <td>2013</td>\n",
       "      <td>12</td>\n",
       "      <td>4</td>\n",
       "      <td>13</td>\n",
       "      <td>0</td>\n",
       "      <td>0</td>\n",
       "      <td>1</td>\n",
       "      <td>0</td>\n",
       "    </tr>\n",
       "  </tbody>\n",
       "</table>\n",
       "</div>"
      ],
      "text/plain": [
       "   IMDB Score  Runtime  deltaYears  LogBudget   LogGross  rel_YearOrg  \\\n",
       "0         7.3      121    2.160209  18.749984  20.530924         2002   \n",
       "1         8.7      136    4.123288  17.958645  19.958287         1999   \n",
       "2         8.8      178    0.996598  18.348110  20.604294         2001   \n",
       "3         8.9      201    8.994025  18.358805  20.856239         2003   \n",
       "4         7.8      161    1.010288  19.231611  20.680741         2013   \n",
       "\n",
       "   rel_MonthOrg  rel_DOWOrg  rel_DayOrg  r_G  r_PG  r_PG-13  r_R  \n",
       "0             5           4           3    0     0        1    0  \n",
       "1             3           2          31    0     0        0    1  \n",
       "2            12           2          19    0     0        1    0  \n",
       "3            12           2          17    0     0        1    0  \n",
       "4            12           4          13    0     0        1    0  "
      ]
     },
     "execution_count": 45,
     "metadata": {},
     "output_type": "execute_result"
    }
   ],
   "source": [
    "X3 = pd.concat([X2, df_rating], axis=1)\n",
    "\n",
    "X3.head()"
   ]
  },
  {
   "cell_type": "code",
   "execution_count": 46,
   "metadata": {
    "ExecuteTime": {
     "end_time": "2020-10-29T04:39:47.207972Z",
     "start_time": "2020-10-29T04:39:47.200523Z"
    }
   },
   "outputs": [
    {
     "name": "stdout",
     "output_type": "stream",
     "text": [
      "<class 'pandas.core.frame.DataFrame'>\n",
      "RangeIndex: 533 entries, 0 to 532\n",
      "Data columns (total 13 columns):\n",
      " #   Column        Non-Null Count  Dtype  \n",
      "---  ------        --------------  -----  \n",
      " 0   IMDB Score    533 non-null    float64\n",
      " 1   Runtime       533 non-null    int64  \n",
      " 2   deltaYears    533 non-null    float64\n",
      " 3   LogBudget     533 non-null    float64\n",
      " 4   LogGross      533 non-null    float64\n",
      " 5   rel_YearOrg   533 non-null    int64  \n",
      " 6   rel_MonthOrg  533 non-null    int64  \n",
      " 7   rel_DOWOrg    533 non-null    int64  \n",
      " 8   rel_DayOrg    533 non-null    int64  \n",
      " 9   r_G           533 non-null    uint8  \n",
      " 10  r_PG          533 non-null    uint8  \n",
      " 11  r_PG-13       533 non-null    uint8  \n",
      " 12  r_R           533 non-null    uint8  \n",
      "dtypes: float64(4), int64(5), uint8(4)\n",
      "memory usage: 39.7 KB\n"
     ]
    }
   ],
   "source": [
    "X3.info()"
   ]
  },
  {
   "cell_type": "code",
   "execution_count": 47,
   "metadata": {
    "ExecuteTime": {
     "end_time": "2020-10-29T04:39:47.213613Z",
     "start_time": "2020-10-29T04:39:47.209513Z"
    }
   },
   "outputs": [],
   "source": [
    "# Do the usual train test split\n",
    "X3_train, X3_test, y3_train, y3_test = train_test_split(X3, y, test_size=0.15, random_state=2020)\n",
    "\n",
    "#X3_train.head()"
   ]
  },
  {
   "cell_type": "code",
   "execution_count": 48,
   "metadata": {
    "ExecuteTime": {
     "end_time": "2020-10-29T04:39:47.222319Z",
     "start_time": "2020-10-29T04:39:47.215155Z"
    }
   },
   "outputs": [],
   "source": [
    "def split_and_merge_again(X_train,X_test,y_train,y_test):\n",
    "\n",
    "    # Now for some crazy gymnastics\n",
    "    # Doing this since I want to preserve the shuffling order of the target variables\n",
    "    X_train_num = X_train[['IMDB Score','Runtime','deltaYears','LogBudget',\n",
    "                         'LogGross','rel_YearOrg','rel_MonthOrg','rel_DOWOrg','rel_DayOrg']]\n",
    "\n",
    "    X_test_num = X_test[['IMDB Score','Runtime','deltaYears','LogBudget',\n",
    "                        'LogGross','rel_YearOrg','rel_MonthOrg','rel_DOWOrg','rel_DayOrg']]\n",
    "\n",
    "    # Extract categorical\n",
    "    X_train_cat = X_train[['r_G','r_PG','r_PG-13','r_R']]\n",
    "    X_test_cat  = X_test[['r_G','r_PG','r_PG-13','r_R']]\n",
    "\n",
    "    # Now reset indexes\n",
    "    X_train_num = X_train_num.reset_index(drop=True)\n",
    "    X_train_cat = X_train_cat.reset_index(drop=True)\n",
    "\n",
    "    X_test_num = X_test_num.reset_index(drop=True)\n",
    "    X_test_cat = X_test_cat.reset_index(drop=True)\n",
    "\n",
    "    y_train = y_train.reset_index(drop=True)\n",
    "    y_test  = y_test.reset_index(drop=True)\n",
    "\n",
    "\n",
    "    # Standardize training and test data\n",
    "    scx = StandardScaler()\n",
    "\n",
    "    X_train_num_scaled = pd.DataFrame(scx.fit_transform(X_train_num),columns=X_train_num.columns)\n",
    "    X_test_num_scaled  = pd.DataFrame(scx.transform(X_test_num), columns=X_test_num.columns)\n",
    "\n",
    "    # Concatenate with numerical and categorical data\n",
    "    X_train_scaled = pd.concat([X_train_num_scaled, X_train_cat], axis=1)\n",
    "    X_test_scaled = pd.concat([X_test_num_scaled, X_test_cat], axis=1)\n",
    "    \n",
    "    return (X_train_scaled,X_test_scaled,y_train,y_test)\n"
   ]
  },
  {
   "cell_type": "code",
   "execution_count": 49,
   "metadata": {
    "ExecuteTime": {
     "end_time": "2020-10-29T04:39:47.229874Z",
     "start_time": "2020-10-29T04:39:47.224162Z"
    }
   },
   "outputs": [],
   "source": [
    "#X3_train_scaled,X3_test_scaled,y3_train,y3_test = split_and_merge_again(X3_train,X3_test,y3_train,y3_test)\n",
    "\n",
    "sc3 = StandardScaler()\n",
    "\n",
    "X3_train_scaled = pd.DataFrame(sc3.fit_transform(X3_train),columns=X3_train.columns)\n",
    "X3_test_scaled  = pd.DataFrame(sc3.transform(X3_test), columns=X3_test.columns)"
   ]
  },
  {
   "cell_type": "code",
   "execution_count": 50,
   "metadata": {
    "ExecuteTime": {
     "end_time": "2020-10-29T04:39:54.214639Z",
     "start_time": "2020-10-29T04:39:47.231722Z"
    }
   },
   "outputs": [
    {
     "data": {
      "text/html": [
       "<div>\n",
       "<style scoped>\n",
       "    .dataframe tbody tr th:only-of-type {\n",
       "        vertical-align: middle;\n",
       "    }\n",
       "\n",
       "    .dataframe tbody tr th {\n",
       "        vertical-align: top;\n",
       "    }\n",
       "\n",
       "    .dataframe thead th {\n",
       "        text-align: right;\n",
       "    }\n",
       "</style>\n",
       "<table border=\"1\" class=\"dataframe\">\n",
       "  <thead>\n",
       "    <tr style=\"text-align: right;\">\n",
       "      <th></th>\n",
       "      <th>R-Squared Score</th>\n",
       "    </tr>\n",
       "  </thead>\n",
       "  <tbody>\n",
       "    <tr>\n",
       "      <th>Hubber</th>\n",
       "      <td>0.742713</td>\n",
       "    </tr>\n",
       "    <tr>\n",
       "      <th>Linear</th>\n",
       "      <td>0.742507</td>\n",
       "    </tr>\n",
       "    <tr>\n",
       "      <th>Bayesian Ridge</th>\n",
       "      <td>0.742356</td>\n",
       "    </tr>\n",
       "    <tr>\n",
       "      <th>Lasso</th>\n",
       "      <td>0.742177</td>\n",
       "    </tr>\n",
       "    <tr>\n",
       "      <th>ElasticNet</th>\n",
       "      <td>0.742158</td>\n",
       "    </tr>\n",
       "    <tr>\n",
       "      <th>Ridge</th>\n",
       "      <td>0.742098</td>\n",
       "    </tr>\n",
       "    <tr>\n",
       "      <th>SGD Regressor</th>\n",
       "      <td>0.741707</td>\n",
       "    </tr>\n",
       "    <tr>\n",
       "      <th>SVR-Linear</th>\n",
       "      <td>0.741676</td>\n",
       "    </tr>\n",
       "    <tr>\n",
       "      <th>ARD Regressor</th>\n",
       "      <td>0.740819</td>\n",
       "    </tr>\n",
       "    <tr>\n",
       "      <th>RandomForest</th>\n",
       "      <td>0.723403</td>\n",
       "    </tr>\n",
       "    <tr>\n",
       "      <th>AdaBoost</th>\n",
       "      <td>0.710300</td>\n",
       "    </tr>\n",
       "    <tr>\n",
       "      <th>LightGBM</th>\n",
       "      <td>0.672490</td>\n",
       "    </tr>\n",
       "    <tr>\n",
       "      <th>XGBoost</th>\n",
       "      <td>0.660038</td>\n",
       "    </tr>\n",
       "  </tbody>\n",
       "</table>\n",
       "</div>"
      ],
      "text/plain": [
       "                R-Squared Score\n",
       "Hubber                 0.742713\n",
       "Linear                 0.742507\n",
       "Bayesian Ridge         0.742356\n",
       "Lasso                  0.742177\n",
       "ElasticNet             0.742158\n",
       "Ridge                  0.742098\n",
       "SGD Regressor          0.741707\n",
       "SVR-Linear             0.741676\n",
       "ARD Regressor          0.740819\n",
       "RandomForest           0.723403\n",
       "AdaBoost               0.710300\n",
       "LightGBM               0.672490\n",
       "XGBoost                0.660038"
      ]
     },
     "execution_count": 50,
     "metadata": {},
     "output_type": "execute_result"
    },
    {
     "data": {
      "image/png": "[encoded data removed]",
      "text/plain": [
       "<Figure size 864x360 with 1 Axes>"
      ]
     },
     "metadata": {
      "image/png": {
       "height": 365,
       "width": 726
      },
      "needs_background": "light"
     },
     "output_type": "display_data"
    }
   ],
   "source": [
    "df_results_option_3 = model_training(X3_train_scaled,y3_train,3)\n",
    "\n",
    "df_results_option_3"
   ]
  },
  {
   "cell_type": "code",
   "execution_count": 51,
   "metadata": {
    "ExecuteTime": {
     "end_time": "2020-10-29T04:39:54.781593Z",
     "start_time": "2020-10-29T04:39:54.216707Z"
    }
   },
   "outputs": [
    {
     "name": "stdout",
     "output_type": "stream",
     "text": [
      "{'alpha': 0,\n",
      " 'epsilon': 1.3,\n",
      " 'fit_intercept': True,\n",
      " 'max_iter': 100,\n",
      " 'tol': 1e-05,\n",
      " 'warm_start': False}\n",
      "HuberRegressor(alpha=0, epsilon=1.3, fit_intercept=True, max_iter=100,\n",
      "               tol=1e-05, warm_start=False)\n"
     ]
    }
   ],
   "source": [
    "model_select = HuberRegressor()\n",
    "\n",
    "params = {'epsilon' : [1.0,1.1,1.2,1.3,1.35],\n",
    "          'alpha'   : [1e-4,1e-3,1e-2,1e-1,0,0.1,0.2,0.3],\n",
    "          'fit_intercept' : [False,True],\n",
    "          'max_iter' : [100,200,300,400,500]\n",
    "         }\n",
    "\n",
    "model_best = opt_best_model(model_select,params,X3_train_scaled,y3_train)"
   ]
  },
  {
   "cell_type": "code",
   "execution_count": 52,
   "metadata": {
    "ExecuteTime": {
     "end_time": "2020-10-29T04:39:54.795831Z",
     "start_time": "2020-10-29T04:39:54.783638Z"
    }
   },
   "outputs": [
    {
     "name": "stdout",
     "output_type": "stream",
     "text": [
      "R2-Score   : 0.759555\n",
      "RMSE-Train : $159,451,618.62\n",
      "RMSE-Test  : $102,332,762.33\n"
     ]
    }
   ],
   "source": [
    "model_coeffs = model_best_predict(model_best,X3_train_scaled,X3_test_scaled,y3_train,y3_test)"
   ]
  },
  {
   "cell_type": "code",
   "execution_count": 53,
   "metadata": {
    "ExecuteTime": {
     "end_time": "2020-10-29T04:39:55.207644Z",
     "start_time": "2020-10-29T04:39:54.797546Z"
    }
   },
   "outputs": [
    {
     "data": {
      "image/png": "[encoded data removed]",
      "text/plain": [
       "<Figure size 1152x432 with 1 Axes>"
      ]
     },
     "metadata": {
      "image/png": {
       "height": 375,
       "width": 951
      },
      "needs_background": "light"
     },
     "output_type": "display_data"
    }
   ],
   "source": [
    "option = 3\n",
    "\n",
    "plot_coefficients(X3_train,model_coeffs,option)"
   ]
  },
  {
   "cell_type": "markdown",
   "metadata": {
    "ExecuteTime": {
     "end_time": "2020-10-29T03:23:32.296804Z",
     "start_time": "2020-10-29T03:23:32.294735Z"
    }
   },
   "source": [
    "### Modeling - Option 4"
   ]
  },
  {
   "cell_type": "markdown",
   "metadata": {},
   "source": [
    "4. Number 3 with Genres"
   ]
  },
  {
   "cell_type": "code",
   "execution_count": 54,
   "metadata": {
    "ExecuteTime": {
     "end_time": "2020-10-29T04:39:55.226294Z",
     "start_time": "2020-10-29T04:39:55.209424Z"
    }
   },
   "outputs": [
    {
     "data": {
      "text/html": [
       "<div>\n",
       "<style scoped>\n",
       "    .dataframe tbody tr th:only-of-type {\n",
       "        vertical-align: middle;\n",
       "    }\n",
       "\n",
       "    .dataframe tbody tr th {\n",
       "        vertical-align: top;\n",
       "    }\n",
       "\n",
       "    .dataframe thead th {\n",
       "        text-align: right;\n",
       "    }\n",
       "</style>\n",
       "<table border=\"1\" class=\"dataframe\">\n",
       "  <thead>\n",
       "    <tr style=\"text-align: right;\">\n",
       "      <th></th>\n",
       "      <th>IMDB Score</th>\n",
       "      <th>Runtime</th>\n",
       "      <th>deltaYears</th>\n",
       "      <th>LogBudget</th>\n",
       "      <th>LogGross</th>\n",
       "      <th>rel_YearOrg</th>\n",
       "      <th>rel_MonthOrg</th>\n",
       "      <th>rel_DOWOrg</th>\n",
       "      <th>rel_DayOrg</th>\n",
       "      <th>r_G</th>\n",
       "      <th>...</th>\n",
       "      <th>g_Horror</th>\n",
       "      <th>g_Music</th>\n",
       "      <th>g_Musical</th>\n",
       "      <th>g_Mystery</th>\n",
       "      <th>g_Romance</th>\n",
       "      <th>g_Sci-Fi</th>\n",
       "      <th>g_Sport</th>\n",
       "      <th>g_Thriller</th>\n",
       "      <th>g_War</th>\n",
       "      <th>g_Western</th>\n",
       "    </tr>\n",
       "  </thead>\n",
       "  <tbody>\n",
       "    <tr>\n",
       "      <th>0</th>\n",
       "      <td>7.3</td>\n",
       "      <td>121</td>\n",
       "      <td>2.160209</td>\n",
       "      <td>18.749984</td>\n",
       "      <td>20.530924</td>\n",
       "      <td>2002</td>\n",
       "      <td>5</td>\n",
       "      <td>4</td>\n",
       "      <td>3</td>\n",
       "      <td>0</td>\n",
       "      <td>...</td>\n",
       "      <td>0</td>\n",
       "      <td>0</td>\n",
       "      <td>0</td>\n",
       "      <td>0</td>\n",
       "      <td>0</td>\n",
       "      <td>1</td>\n",
       "      <td>0</td>\n",
       "      <td>0</td>\n",
       "      <td>0</td>\n",
       "      <td>0</td>\n",
       "    </tr>\n",
       "    <tr>\n",
       "      <th>1</th>\n",
       "      <td>8.7</td>\n",
       "      <td>136</td>\n",
       "      <td>4.123288</td>\n",
       "      <td>17.958645</td>\n",
       "      <td>19.958287</td>\n",
       "      <td>1999</td>\n",
       "      <td>3</td>\n",
       "      <td>2</td>\n",
       "      <td>31</td>\n",
       "      <td>0</td>\n",
       "      <td>...</td>\n",
       "      <td>0</td>\n",
       "      <td>0</td>\n",
       "      <td>0</td>\n",
       "      <td>0</td>\n",
       "      <td>0</td>\n",
       "      <td>1</td>\n",
       "      <td>0</td>\n",
       "      <td>0</td>\n",
       "      <td>0</td>\n",
       "      <td>0</td>\n",
       "    </tr>\n",
       "    <tr>\n",
       "      <th>2</th>\n",
       "      <td>8.8</td>\n",
       "      <td>178</td>\n",
       "      <td>0.996598</td>\n",
       "      <td>18.348110</td>\n",
       "      <td>20.604294</td>\n",
       "      <td>2001</td>\n",
       "      <td>12</td>\n",
       "      <td>2</td>\n",
       "      <td>19</td>\n",
       "      <td>0</td>\n",
       "      <td>...</td>\n",
       "      <td>0</td>\n",
       "      <td>0</td>\n",
       "      <td>0</td>\n",
       "      <td>0</td>\n",
       "      <td>0</td>\n",
       "      <td>0</td>\n",
       "      <td>0</td>\n",
       "      <td>0</td>\n",
       "      <td>0</td>\n",
       "      <td>0</td>\n",
       "    </tr>\n",
       "    <tr>\n",
       "      <th>3</th>\n",
       "      <td>8.9</td>\n",
       "      <td>201</td>\n",
       "      <td>8.994025</td>\n",
       "      <td>18.358805</td>\n",
       "      <td>20.856239</td>\n",
       "      <td>2003</td>\n",
       "      <td>12</td>\n",
       "      <td>2</td>\n",
       "      <td>17</td>\n",
       "      <td>0</td>\n",
       "      <td>...</td>\n",
       "      <td>0</td>\n",
       "      <td>0</td>\n",
       "      <td>0</td>\n",
       "      <td>0</td>\n",
       "      <td>0</td>\n",
       "      <td>0</td>\n",
       "      <td>0</td>\n",
       "      <td>0</td>\n",
       "      <td>0</td>\n",
       "      <td>0</td>\n",
       "    </tr>\n",
       "    <tr>\n",
       "      <th>4</th>\n",
       "      <td>7.8</td>\n",
       "      <td>161</td>\n",
       "      <td>1.010288</td>\n",
       "      <td>19.231611</td>\n",
       "      <td>20.680741</td>\n",
       "      <td>2013</td>\n",
       "      <td>12</td>\n",
       "      <td>4</td>\n",
       "      <td>13</td>\n",
       "      <td>0</td>\n",
       "      <td>...</td>\n",
       "      <td>0</td>\n",
       "      <td>0</td>\n",
       "      <td>0</td>\n",
       "      <td>0</td>\n",
       "      <td>0</td>\n",
       "      <td>0</td>\n",
       "      <td>0</td>\n",
       "      <td>0</td>\n",
       "      <td>0</td>\n",
       "      <td>0</td>\n",
       "    </tr>\n",
       "  </tbody>\n",
       "</table>\n",
       "<p>5 rows × 34 columns</p>\n",
       "</div>"
      ],
      "text/plain": [
       "   IMDB Score  Runtime  deltaYears  LogBudget   LogGross  rel_YearOrg  \\\n",
       "0         7.3      121    2.160209  18.749984  20.530924         2002   \n",
       "1         8.7      136    4.123288  17.958645  19.958287         1999   \n",
       "2         8.8      178    0.996598  18.348110  20.604294         2001   \n",
       "3         8.9      201    8.994025  18.358805  20.856239         2003   \n",
       "4         7.8      161    1.010288  19.231611  20.680741         2013   \n",
       "\n",
       "   rel_MonthOrg  rel_DOWOrg  rel_DayOrg  r_G  ...  g_Horror  g_Music  \\\n",
       "0             5           4           3    0  ...         0        0   \n",
       "1             3           2          31    0  ...         0        0   \n",
       "2            12           2          19    0  ...         0        0   \n",
       "3            12           2          17    0  ...         0        0   \n",
       "4            12           4          13    0  ...         0        0   \n",
       "\n",
       "   g_Musical  g_Mystery  g_Romance  g_Sci-Fi  g_Sport  g_Thriller  g_War  \\\n",
       "0          0          0          0         1        0           0      0   \n",
       "1          0          0          0         1        0           0      0   \n",
       "2          0          0          0         0        0           0      0   \n",
       "3          0          0          0         0        0           0      0   \n",
       "4          0          0          0         0        0           0      0   \n",
       "\n",
       "   g_Western  \n",
       "0          0  \n",
       "1          0  \n",
       "2          0  \n",
       "3          0  \n",
       "4          0  \n",
       "\n",
       "[5 rows x 34 columns]"
      ]
     },
     "execution_count": 54,
     "metadata": {},
     "output_type": "execute_result"
    }
   ],
   "source": [
    "X4 = pd.concat([X3, df_genres], axis=1)\n",
    "\n",
    "X4.head()"
   ]
  },
  {
   "cell_type": "code",
   "execution_count": 55,
   "metadata": {
    "ExecuteTime": {
     "end_time": "2020-10-29T04:39:55.236177Z",
     "start_time": "2020-10-29T04:39:55.227806Z"
    }
   },
   "outputs": [],
   "source": [
    "X4_train, X4_test, y4_train, y4_test = train_test_split(X4, y, test_size=0.15, random_state=2020)\n",
    "\n",
    "sc4 = StandardScaler()\n",
    "\n",
    "X4_train_scaled = pd.DataFrame(sc4.fit_transform(X4_train),columns=X4_train.columns)\n",
    "X4_test_scaled  = pd.DataFrame(sc4.transform(X4_test), columns=X4_test.columns)\n",
    "\n"
   ]
  },
  {
   "cell_type": "code",
   "execution_count": 56,
   "metadata": {
    "ExecuteTime": {
     "end_time": "2020-10-29T04:40:02.712799Z",
     "start_time": "2020-10-29T04:39:55.237866Z"
    }
   },
   "outputs": [
    {
     "data": {
      "text/html": [
       "<div>\n",
       "<style scoped>\n",
       "    .dataframe tbody tr th:only-of-type {\n",
       "        vertical-align: middle;\n",
       "    }\n",
       "\n",
       "    .dataframe tbody tr th {\n",
       "        vertical-align: top;\n",
       "    }\n",
       "\n",
       "    .dataframe thead th {\n",
       "        text-align: right;\n",
       "    }\n",
       "</style>\n",
       "<table border=\"1\" class=\"dataframe\">\n",
       "  <thead>\n",
       "    <tr style=\"text-align: right;\">\n",
       "      <th></th>\n",
       "      <th>R-Squared Score</th>\n",
       "    </tr>\n",
       "  </thead>\n",
       "  <tbody>\n",
       "    <tr>\n",
       "      <th>Bayesian Ridge</th>\n",
       "      <td>7.422476e-01</td>\n",
       "    </tr>\n",
       "    <tr>\n",
       "      <th>Lasso</th>\n",
       "      <td>7.413375e-01</td>\n",
       "    </tr>\n",
       "    <tr>\n",
       "      <th>ElasticNet</th>\n",
       "      <td>7.411921e-01</td>\n",
       "    </tr>\n",
       "    <tr>\n",
       "      <th>Ridge</th>\n",
       "      <td>7.409474e-01</td>\n",
       "    </tr>\n",
       "    <tr>\n",
       "      <th>SVR-Linear</th>\n",
       "      <td>7.397071e-01</td>\n",
       "    </tr>\n",
       "    <tr>\n",
       "      <th>ARD Regressor</th>\n",
       "      <td>7.392677e-01</td>\n",
       "    </tr>\n",
       "    <tr>\n",
       "      <th>RandomForest</th>\n",
       "      <td>7.259699e-01</td>\n",
       "    </tr>\n",
       "    <tr>\n",
       "      <th>AdaBoost</th>\n",
       "      <td>7.126238e-01</td>\n",
       "    </tr>\n",
       "    <tr>\n",
       "      <th>LightGBM</th>\n",
       "      <td>6.917784e-01</td>\n",
       "    </tr>\n",
       "    <tr>\n",
       "      <th>XGBoost</th>\n",
       "      <td>6.793984e-01</td>\n",
       "    </tr>\n",
       "    <tr>\n",
       "      <th>Hubber</th>\n",
       "      <td>2.876220e-01</td>\n",
       "    </tr>\n",
       "    <tr>\n",
       "      <th>SGD Regressor</th>\n",
       "      <td>2.797337e-01</td>\n",
       "    </tr>\n",
       "    <tr>\n",
       "      <th>Linear</th>\n",
       "      <td>-9.752592e+11</td>\n",
       "    </tr>\n",
       "  </tbody>\n",
       "</table>\n",
       "</div>"
      ],
      "text/plain": [
       "                R-Squared Score\n",
       "Bayesian Ridge     7.422476e-01\n",
       "Lasso              7.413375e-01\n",
       "ElasticNet         7.411921e-01\n",
       "Ridge              7.409474e-01\n",
       "SVR-Linear         7.397071e-01\n",
       "ARD Regressor      7.392677e-01\n",
       "RandomForest       7.259699e-01\n",
       "AdaBoost           7.126238e-01\n",
       "LightGBM           6.917784e-01\n",
       "XGBoost            6.793984e-01\n",
       "Hubber             2.876220e-01\n",
       "SGD Regressor      2.797337e-01\n",
       "Linear            -9.752592e+11"
      ]
     },
     "execution_count": 56,
     "metadata": {},
     "output_type": "execute_result"
    },
    {
     "data": {
      "image/png": "[encoded data removed]",
      "text/plain": [
       "<Figure size 864x360 with 1 Axes>"
      ]
     },
     "metadata": {
      "image/png": {
       "height": 365,
       "width": 726
      },
      "needs_background": "light"
     },
     "output_type": "display_data"
    }
   ],
   "source": [
    "option = 4\n",
    "\n",
    "df_results_option_4 = model_training(X4_train_scaled,y4_train,option)\n",
    "\n",
    "df_results_option_4"
   ]
  },
  {
   "cell_type": "markdown",
   "metadata": {},
   "source": [
    "Going to skip the rest at least for now"
   ]
  }
 ],
 "metadata": {
  "kernelspec": {
   "display_name": "Python 3",
   "language": "python",
   "name": "python3"
  },
  "language_info": {
   "codemirror_mode": {
    "name": "ipython",
    "version": 3
   },
   "file_extension": ".py",
   "mimetype": "text/x-python",
   "name": "python",
   "nbconvert_exporter": "python",
   "pygments_lexer": "ipython3",
   "version": "3.7.3"
  },
  "latex_envs": {
   "LaTeX_envs_menu_present": true,
   "autoclose": false,
   "autocomplete": true,
   "bibliofile": "biblio.bib",
   "cite_by": "apalike",
   "current_citInitial": 1,
   "eqLabelWithNumbers": true,
   "eqNumInitial": 1,
   "hotkeys": {
    "equation": "Ctrl-E",
    "itemize": "Ctrl-I"
   },
   "labels_anchors": false,
   "latex_user_defs": false,
   "report_style_numbering": false,
   "user_envs_cfg": false
  },
  "toc": {
   "base_numbering": 1,
   "nav_menu": {},
   "number_sections": true,
   "sideBar": true,
   "skip_h1_title": false,
   "title_cell": "Table of Contents",
   "title_sidebar": "Contents",
   "toc_cell": false,
   "toc_position": {
    "height": "calc(100% - 180px)",
    "left": "10px",
    "top": "150px",
    "width": "280.95px"
   },
   "toc_section_display": true,
   "toc_window_display": true
  }
 },
 "nbformat": 4,
 "nbformat_minor": 2
}

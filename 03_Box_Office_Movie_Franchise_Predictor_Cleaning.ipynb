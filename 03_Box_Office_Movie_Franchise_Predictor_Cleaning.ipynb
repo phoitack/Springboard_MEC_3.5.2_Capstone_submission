{
 "cells": [
  {
   "cell_type": "markdown",
   "metadata": {},
   "source": [
    "# Box Office Movie Franchise Predictor - Cleaning"
   ]
  },
  {
   "cell_type": "markdown",
   "metadata": {},
   "source": [
    "Before embarking on this, a lot of time was spent searching for these movies. Because the number of movies that belong in a sequel fashion is limited, the scope of the study also includes movies that belong to a franchise and universe. A franchise example is James Bond and one that belongs to a universe is the Marvel Cinematic Universe (MCU). \n",
    "\n",
    "The time sinks in gathering and cleaning the data were:\n",
    "\n",
    "1. Release Dates - Some formats were incomplete and had to be researched in either IMDB and cross-referenced with Wikipedia\n",
    "\n",
    "\n",
    "2. Budgets & Currency - Missing budgets and foreign currency had to be converted accordingly to USD based on the rough exchange rate on the day of release\n",
    "\n",
    "\n",
    "3. Correcting dates that were 1968 and earlier. Python parses the dates in the csv file a little strange and gave dates that are in 2068 for example. This is corrected.\n"
   ]
  },
  {
   "cell_type": "markdown",
   "metadata": {},
   "source": [
    "## Import Libraries"
   ]
  },
  {
   "cell_type": "code",
   "execution_count": 1,
   "metadata": {
    "ExecuteTime": {
     "end_time": "2020-10-26T17:41:25.080124Z",
     "start_time": "2020-10-26T17:41:24.397509Z"
    }
   },
   "outputs": [],
   "source": [
    "import numpy as np\n",
    "import pandas as pd\n",
    "import matplotlib.pyplot as plt\n",
    "import seaborn as sns\n",
    "import datetime"
   ]
  },
  {
   "cell_type": "markdown",
   "metadata": {},
   "source": [
    "## Load Data File(s)"
   ]
  },
  {
   "cell_type": "code",
   "execution_count": 2,
   "metadata": {
    "ExecuteTime": {
     "end_time": "2020-10-26T17:41:25.090896Z",
     "start_time": "2020-10-26T17:41:25.082058Z"
    }
   },
   "outputs": [],
   "source": [
    "data_path = './data/'\n",
    "file_name = 'movies_with_sequels_final.csv'\n",
    "\n",
    "df = pd.read_csv(data_path + file_name)"
   ]
  },
  {
   "cell_type": "markdown",
   "metadata": {},
   "source": [
    "## Data Wrangling & Cleaning"
   ]
  },
  {
   "cell_type": "code",
   "execution_count": 3,
   "metadata": {
    "ExecuteTime": {
     "end_time": "2020-10-26T17:41:25.108031Z",
     "start_time": "2020-10-26T17:41:25.093055Z"
    }
   },
   "outputs": [
    {
     "data": {
      "text/html": [
       "<div>\n",
       "<style scoped>\n",
       "    .dataframe tbody tr th:only-of-type {\n",
       "        vertical-align: middle;\n",
       "    }\n",
       "\n",
       "    .dataframe tbody tr th {\n",
       "        vertical-align: top;\n",
       "    }\n",
       "\n",
       "    .dataframe thead th {\n",
       "        text-align: right;\n",
       "    }\n",
       "</style>\n",
       "<table border=\"1\" class=\"dataframe\">\n",
       "  <thead>\n",
       "    <tr style=\"text-align: right;\">\n",
       "      <th></th>\n",
       "      <th>Title</th>\n",
       "      <th>url</th>\n",
       "      <th>IMDB Score</th>\n",
       "      <th>Metacritic</th>\n",
       "      <th>Runtime (mins)</th>\n",
       "      <th>Budget</th>\n",
       "      <th>Opening Weekend</th>\n",
       "      <th>Gross USA</th>\n",
       "      <th>Gross World</th>\n",
       "      <th>Release Date</th>\n",
       "      <th>Rating</th>\n",
       "      <th>Genres</th>\n",
       "      <th>Country</th>\n",
       "    </tr>\n",
       "  </thead>\n",
       "  <tbody>\n",
       "    <tr>\n",
       "      <th>0</th>\n",
       "      <td>Spider-Man (2002)</td>\n",
       "      <td>http://www.imdb.com/title/tt0145487/</td>\n",
       "      <td>7.3</td>\n",
       "      <td>73.0</td>\n",
       "      <td>121</td>\n",
       "      <td>$139,000,000</td>\n",
       "      <td>114844116</td>\n",
       "      <td>407022860</td>\n",
       "      <td>825025036</td>\n",
       "      <td>3-May-02</td>\n",
       "      <td>PG-13</td>\n",
       "      <td>Action Adventure Sci-Fi</td>\n",
       "      <td>USA</td>\n",
       "    </tr>\n",
       "    <tr>\n",
       "      <th>1</th>\n",
       "      <td>Spider-Man 2 (2004)</td>\n",
       "      <td>http://www.imdb.com/title/tt0316654/</td>\n",
       "      <td>7.3</td>\n",
       "      <td>83.0</td>\n",
       "      <td>127</td>\n",
       "      <td>$200,000,000</td>\n",
       "      <td>88156227</td>\n",
       "      <td>373585825</td>\n",
       "      <td>788976453</td>\n",
       "      <td>30-Jun-04</td>\n",
       "      <td>PG-13</td>\n",
       "      <td>Action Adventure Sci-Fi</td>\n",
       "      <td>USA</td>\n",
       "    </tr>\n",
       "    <tr>\n",
       "      <th>2</th>\n",
       "      <td>The Matrix (1999)</td>\n",
       "      <td>http://www.imdb.com/title/tt0133093/</td>\n",
       "      <td>8.7</td>\n",
       "      <td>73.0</td>\n",
       "      <td>136</td>\n",
       "      <td>$63,000,000</td>\n",
       "      <td>27788331</td>\n",
       "      <td>171479930</td>\n",
       "      <td>465343787</td>\n",
       "      <td>31-Mar-99</td>\n",
       "      <td>R</td>\n",
       "      <td>Action Sci-Fi</td>\n",
       "      <td>USA</td>\n",
       "    </tr>\n",
       "    <tr>\n",
       "      <th>3</th>\n",
       "      <td>The Matrix Reloaded (2003)</td>\n",
       "      <td>http://www.imdb.com/title/tt0234215/</td>\n",
       "      <td>7.2</td>\n",
       "      <td>62.0</td>\n",
       "      <td>138</td>\n",
       "      <td>$150,000,000</td>\n",
       "      <td>91774413</td>\n",
       "      <td>281576461</td>\n",
       "      <td>741846459</td>\n",
       "      <td>15-May-03</td>\n",
       "      <td>R</td>\n",
       "      <td>Action Sci-Fi</td>\n",
       "      <td>USA</td>\n",
       "    </tr>\n",
       "    <tr>\n",
       "      <th>4</th>\n",
       "      <td>The Lord of the Rings: The Fellowship of the R...</td>\n",
       "      <td>http://www.imdb.com/title/tt0120737/</td>\n",
       "      <td>8.8</td>\n",
       "      <td>92.0</td>\n",
       "      <td>178</td>\n",
       "      <td>$93,000,000</td>\n",
       "      <td>47211490</td>\n",
       "      <td>315544750</td>\n",
       "      <td>887832826</td>\n",
       "      <td>19-Dec-01</td>\n",
       "      <td>PG-13</td>\n",
       "      <td>Action Adventure Drama</td>\n",
       "      <td>New Zealand</td>\n",
       "    </tr>\n",
       "    <tr>\n",
       "      <th>5</th>\n",
       "      <td>The Lord of the Rings: The Two Towers (2002)</td>\n",
       "      <td>http://www.imdb.com/title/tt0167261/</td>\n",
       "      <td>8.7</td>\n",
       "      <td>87.0</td>\n",
       "      <td>179</td>\n",
       "      <td>$94,000,000</td>\n",
       "      <td>62007528</td>\n",
       "      <td>342551365</td>\n",
       "      <td>951208089</td>\n",
       "      <td>18-Dec-02</td>\n",
       "      <td>PG-13</td>\n",
       "      <td>Adventure Drama Fantasy</td>\n",
       "      <td>New Zealand</td>\n",
       "    </tr>\n",
       "  </tbody>\n",
       "</table>\n",
       "</div>"
      ],
      "text/plain": [
       "                                               Title  \\\n",
       "0                                  Spider-Man (2002)   \n",
       "1                                Spider-Man 2 (2004)   \n",
       "2                                  The Matrix (1999)   \n",
       "3                         The Matrix Reloaded (2003)   \n",
       "4  The Lord of the Rings: The Fellowship of the R...   \n",
       "5       The Lord of the Rings: The Two Towers (2002)   \n",
       "\n",
       "                                    url  IMDB Score  Metacritic  \\\n",
       "0  http://www.imdb.com/title/tt0145487/         7.3        73.0   \n",
       "1  http://www.imdb.com/title/tt0316654/         7.3        83.0   \n",
       "2  http://www.imdb.com/title/tt0133093/         8.7        73.0   \n",
       "3  http://www.imdb.com/title/tt0234215/         7.2        62.0   \n",
       "4  http://www.imdb.com/title/tt0120737/         8.8        92.0   \n",
       "5  http://www.imdb.com/title/tt0167261/         8.7        87.0   \n",
       "\n",
       "   Runtime (mins)         Budget Opening Weekend  Gross USA Gross World  \\\n",
       "0             121  $139,000,000        114844116  407022860   825025036   \n",
       "1             127  $200,000,000         88156227  373585825   788976453   \n",
       "2             136   $63,000,000         27788331  171479930   465343787   \n",
       "3             138  $150,000,000         91774413  281576461   741846459   \n",
       "4             178   $93,000,000         47211490  315544750   887832826   \n",
       "5             179   $94,000,000         62007528  342551365   951208089   \n",
       "\n",
       "  Release Date Rating                   Genres      Country  \n",
       "0     3-May-02  PG-13  Action Adventure Sci-Fi          USA  \n",
       "1    30-Jun-04  PG-13  Action Adventure Sci-Fi          USA  \n",
       "2    31-Mar-99      R            Action Sci-Fi          USA  \n",
       "3    15-May-03      R            Action Sci-Fi          USA  \n",
       "4    19-Dec-01  PG-13   Action Adventure Drama  New Zealand  \n",
       "5    18-Dec-02  PG-13  Adventure Drama Fantasy  New Zealand  "
      ]
     },
     "execution_count": 3,
     "metadata": {},
     "output_type": "execute_result"
    }
   ],
   "source": [
    "df.head(6)"
   ]
  },
  {
   "cell_type": "markdown",
   "metadata": {},
   "source": [
    "### A Note about the Dataset"
   ]
  },
  {
   "cell_type": "markdown",
   "metadata": {},
   "source": [
    "One very important note on how the csv file is arranged. The entire dataset as one can see from the above, i.e. an original movie or first movie and its corresponding sequel is arranged such that \n",
    "\n",
    "1. Movie 1\n",
    "2. Sequel of Movie 1\n",
    "3. Another film\n",
    "4. Sequel of Another Film\n",
    "5. ...\n",
    "6. ...\n",
    "\n",
    "The first 6 rows of the Pandas data frame (above), the movie is arranged as discussed. However, there was a Spider-Man 3 but it is not included here, i.e. index 2. The structure here has to be in even numbers and trilogies are not considered here for the time being. If the dataset is to be absent of leaky variables, the structure of observations must be in even numbers. That way, after cleaning, we can collect every other row as a target without the fear of a leaky variable."
   ]
  },
  {
   "cell_type": "code",
   "execution_count": 4,
   "metadata": {
    "ExecuteTime": {
     "end_time": "2020-10-26T17:41:25.117454Z",
     "start_time": "2020-10-26T17:41:25.109999Z"
    }
   },
   "outputs": [
    {
     "name": "stdout",
     "output_type": "stream",
     "text": [
      "<class 'pandas.core.frame.DataFrame'>\n",
      "RangeIndex: 1078 entries, 0 to 1077\n",
      "Data columns (total 13 columns):\n",
      " #   Column           Non-Null Count  Dtype  \n",
      "---  ------           --------------  -----  \n",
      " 0   Title            1078 non-null   object \n",
      " 1   url              1078 non-null   object \n",
      " 2   IMDB Score       1078 non-null   float64\n",
      " 3   Metacritic       973 non-null    float64\n",
      " 4   Runtime (mins)   1078 non-null   int64  \n",
      " 5   Budget           1078 non-null   object \n",
      " 6   Opening Weekend  952 non-null    object \n",
      " 7   Gross USA        1005 non-null   object \n",
      " 8   Gross World      1078 non-null   object \n",
      " 9   Release Date     1078 non-null   object \n",
      " 10  Rating           1078 non-null   object \n",
      " 11  Genres           1078 non-null   object \n",
      " 12  Country          1078 non-null   object \n",
      "dtypes: float64(2), int64(1), object(10)\n",
      "memory usage: 109.6+ KB\n"
     ]
    }
   ],
   "source": [
    "df.info()"
   ]
  },
  {
   "cell_type": "markdown",
   "metadata": {},
   "source": [
    "From the info table above, there are no missing values. This is incorrect. There are missing values but are stated as 'None' in their respective columns and that is why an entire column gets converted to an object. This was done initially in the webscrapping portion of the work. It has been corrected to be replaced with np.nan. Nonetheless, the change will be made here."
   ]
  },
  {
   "cell_type": "markdown",
   "metadata": {},
   "source": [
    "### Replace 'None' with NaN"
   ]
  },
  {
   "cell_type": "code",
   "execution_count": 5,
   "metadata": {
    "ExecuteTime": {
     "end_time": "2020-10-26T17:41:25.121838Z",
     "start_time": "2020-10-26T17:41:25.119077Z"
    }
   },
   "outputs": [],
   "source": [
    "def replace_none_w_nan(data_frame):\n",
    "    \n",
    "    column_names = list(data_frame.columns)\n",
    "    \n",
    "    for col in column_names:\n",
    "        data_frame[col].replace('None',np.nan, inplace=True)\n",
    "        \n",
    "    return data_frame\n"
   ]
  },
  {
   "cell_type": "code",
   "execution_count": 6,
   "metadata": {
    "ExecuteTime": {
     "end_time": "2020-10-26T17:41:25.133794Z",
     "start_time": "2020-10-26T17:41:25.123346Z"
    }
   },
   "outputs": [
    {
     "name": "stdout",
     "output_type": "stream",
     "text": [
      "<class 'pandas.core.frame.DataFrame'>\n",
      "RangeIndex: 1078 entries, 0 to 1077\n",
      "Data columns (total 13 columns):\n",
      " #   Column           Non-Null Count  Dtype  \n",
      "---  ------           --------------  -----  \n",
      " 0   Title            1078 non-null   object \n",
      " 1   url              1078 non-null   object \n",
      " 2   IMDB Score       1078 non-null   float64\n",
      " 3   Metacritic       973 non-null    float64\n",
      " 4   Runtime (mins)   1078 non-null   int64  \n",
      " 5   Budget           1078 non-null   object \n",
      " 6   Opening Weekend  952 non-null    object \n",
      " 7   Gross USA        1005 non-null   object \n",
      " 8   Gross World      1078 non-null   object \n",
      " 9   Release Date     1078 non-null   object \n",
      " 10  Rating           1078 non-null   object \n",
      " 11  Genres           1078 non-null   object \n",
      " 12  Country          1078 non-null   object \n",
      "dtypes: float64(2), int64(1), object(10)\n",
      "memory usage: 109.6+ KB\n"
     ]
    }
   ],
   "source": [
    "df = replace_none_w_nan(df)\n",
    "\n",
    "df.info()"
   ]
  },
  {
   "cell_type": "markdown",
   "metadata": {},
   "source": [
    "This is much better. There are two missing budget entries which can be fixed. Too many missing values for\n",
    "\n",
    "- Metacritic Score\n",
    "- Opening Weekend\n",
    "- Gross USA\n",
    "\n",
    "First let's drop the Opening Weekend and Gross USA columns as there is too much variability in those. The Opening Weekend metric was not really tallied only until the late 90's. Let's see what we can do with the Metacritic and two missing Budgets. The missing budgets are from the movies Homeward Bound 1 and 2. But first, we need to clean them. "
   ]
  },
  {
   "cell_type": "markdown",
   "metadata": {
    "ExecuteTime": {
     "end_time": "2020-10-22T07:09:10.447348Z",
     "start_time": "2020-10-22T07:09:10.445039Z"
    }
   },
   "source": [
    "### Clean-Up Budget"
   ]
  },
  {
   "cell_type": "code",
   "execution_count": 7,
   "metadata": {
    "ExecuteTime": {
     "end_time": "2020-10-26T17:41:25.137980Z",
     "start_time": "2020-10-26T17:41:25.135311Z"
    }
   },
   "outputs": [],
   "source": [
    "def money_to_float(money_str):\n",
    "    \n",
    "    money_str = str(money_str)\n",
    "    money_str = money_str.strip()\n",
    "    \n",
    "    return float(money_str.replace('$','').replace(',',''))\n"
   ]
  },
  {
   "cell_type": "code",
   "execution_count": 8,
   "metadata": {
    "ExecuteTime": {
     "end_time": "2020-10-26T17:41:25.148972Z",
     "start_time": "2020-10-26T17:41:25.140968Z"
    }
   },
   "outputs": [],
   "source": [
    "# Clean money and convert to float\n",
    "df['Budget'] = df['Budget'].apply(money_to_float)\n",
    "df['Opening Weekend'] = df['Opening Weekend'].apply(money_to_float)\n",
    "df['Gross USA'] = df['Gross USA'].apply(money_to_float)\n",
    "df['Gross World'] = df['Gross World'].apply(money_to_float)"
   ]
  },
  {
   "cell_type": "code",
   "execution_count": 9,
   "metadata": {
    "ExecuteTime": {
     "end_time": "2020-10-26T17:41:25.162675Z",
     "start_time": "2020-10-26T17:41:25.152179Z"
    }
   },
   "outputs": [
    {
     "name": "stdout",
     "output_type": "stream",
     "text": [
      "<class 'pandas.core.frame.DataFrame'>\n",
      "RangeIndex: 1078 entries, 0 to 1077\n",
      "Data columns (total 13 columns):\n",
      " #   Column           Non-Null Count  Dtype  \n",
      "---  ------           --------------  -----  \n",
      " 0   Title            1078 non-null   object \n",
      " 1   url              1078 non-null   object \n",
      " 2   IMDB Score       1078 non-null   float64\n",
      " 3   Metacritic       973 non-null    float64\n",
      " 4   Runtime (mins)   1078 non-null   int64  \n",
      " 5   Budget           1078 non-null   float64\n",
      " 6   Opening Weekend  952 non-null    float64\n",
      " 7   Gross USA        1005 non-null   float64\n",
      " 8   Gross World      1078 non-null   float64\n",
      " 9   Release Date     1078 non-null   object \n",
      " 10  Rating           1078 non-null   object \n",
      " 11  Genres           1078 non-null   object \n",
      " 12  Country          1078 non-null   object \n",
      "dtypes: float64(6), int64(1), object(6)\n",
      "memory usage: 109.6+ KB\n"
     ]
    }
   ],
   "source": [
    "df.info()"
   ]
  },
  {
   "cell_type": "code",
   "execution_count": 10,
   "metadata": {
    "ExecuteTime": {
     "end_time": "2020-10-26T17:41:25.170363Z",
     "start_time": "2020-10-26T17:41:25.164733Z"
    }
   },
   "outputs": [
    {
     "data": {
      "text/plain": [
       "Title                         Planet of the Apes (1968)\n",
       "url                http://www.imdb.com/title/tt0063442/\n",
       "IMDB Score                                            8\n",
       "Metacritic                                           79\n",
       "Runtime (mins)                                      112\n",
       "Budget                                          5.8e+06\n",
       "Opening Weekend                                     NaN\n",
       "Gross USA                                   3.25896e+07\n",
       "Gross World                                  3.2596e+07\n",
       "Release Date                                   3-Apr-68\n",
       "Rating                                                G\n",
       "Genres                                 Adventure Sci-Fi\n",
       "Country                                             USA\n",
       "Name: 346, dtype: object"
      ]
     },
     "execution_count": 10,
     "metadata": {},
     "output_type": "execute_result"
    }
   ],
   "source": [
    "df.loc[346]"
   ]
  },
  {
   "cell_type": "markdown",
   "metadata": {},
   "source": [
    "### Clean & Fix Release Dates"
   ]
  },
  {
   "cell_type": "markdown",
   "metadata": {},
   "source": [
    "There is an apparent problem with Python when handling dates from 1968 or 1969. Apparently, if the year is 3-Nov-68, it converts it to 2068-11-03. Hence, a fix is needed for this."
   ]
  },
  {
   "cell_type": "code",
   "execution_count": 11,
   "metadata": {
    "ExecuteTime": {
     "end_time": "2020-10-26T17:41:25.253908Z",
     "start_time": "2020-10-26T17:41:25.172709Z"
    }
   },
   "outputs": [
    {
     "data": {
      "text/plain": [
       "Title                         Planet of the Apes (1968)\n",
       "url                http://www.imdb.com/title/tt0063442/\n",
       "IMDB Score                                            8\n",
       "Metacritic                                           79\n",
       "Runtime (mins)                                      112\n",
       "Budget                                          5.8e+06\n",
       "Opening Weekend                                     NaN\n",
       "Gross USA                                   3.25896e+07\n",
       "Gross World                                  3.2596e+07\n",
       "Release Date                        2068-04-03 00:00:00\n",
       "Rating                                                G\n",
       "Genres                                 Adventure Sci-Fi\n",
       "Country                                             USA\n",
       "Name: 346, dtype: object"
      ]
     },
     "execution_count": 11,
     "metadata": {},
     "output_type": "execute_result"
    }
   ],
   "source": [
    "# Convert Release Date to proper date\n",
    "# This is an example showing the problem\n",
    "df['Release Date'] = pd.to_datetime(df['Release Date']) #,format='%d-%b-%y')\n",
    "\n",
    "df.loc[346]"
   ]
  },
  {
   "cell_type": "code",
   "execution_count": 12,
   "metadata": {
    "ExecuteTime": {
     "end_time": "2020-10-26T17:41:25.258691Z",
     "start_time": "2020-10-26T17:41:25.255759Z"
    }
   },
   "outputs": [],
   "source": [
    "def fix_dates(rel_date):\n",
    "    \n",
    "    # Dates should not go this far\n",
    "    cut_off = 2030\n",
    "    \n",
    "    if rel_date.year > cut_off:    \n",
    "        year = rel_date.year - 100\n",
    "    else:\n",
    "        year = rel_date.year\n",
    "    \n",
    "    return datetime.date(year,rel_date.month,rel_date.day)"
   ]
  },
  {
   "cell_type": "code",
   "execution_count": 13,
   "metadata": {
    "ExecuteTime": {
     "end_time": "2020-10-26T17:41:25.266906Z",
     "start_time": "2020-10-26T17:41:25.260373Z"
    }
   },
   "outputs": [],
   "source": [
    "df['Release Date'] = df['Release Date'].apply(fix_dates)"
   ]
  },
  {
   "cell_type": "code",
   "execution_count": 14,
   "metadata": {
    "ExecuteTime": {
     "end_time": "2020-10-26T17:41:25.282463Z",
     "start_time": "2020-10-26T17:41:25.268546Z"
    }
   },
   "outputs": [
    {
     "data": {
      "text/html": [
       "<div>\n",
       "<style scoped>\n",
       "    .dataframe tbody tr th:only-of-type {\n",
       "        vertical-align: middle;\n",
       "    }\n",
       "\n",
       "    .dataframe tbody tr th {\n",
       "        vertical-align: top;\n",
       "    }\n",
       "\n",
       "    .dataframe thead th {\n",
       "        text-align: right;\n",
       "    }\n",
       "</style>\n",
       "<table border=\"1\" class=\"dataframe\">\n",
       "  <thead>\n",
       "    <tr style=\"text-align: right;\">\n",
       "      <th></th>\n",
       "      <th>Title</th>\n",
       "      <th>url</th>\n",
       "      <th>IMDB Score</th>\n",
       "      <th>Metacritic</th>\n",
       "      <th>Runtime (mins)</th>\n",
       "      <th>Budget</th>\n",
       "      <th>Opening Weekend</th>\n",
       "      <th>Gross USA</th>\n",
       "      <th>Gross World</th>\n",
       "      <th>Release Date</th>\n",
       "      <th>Rating</th>\n",
       "      <th>Genres</th>\n",
       "      <th>Country</th>\n",
       "    </tr>\n",
       "  </thead>\n",
       "  <tbody>\n",
       "    <tr>\n",
       "      <th>0</th>\n",
       "      <td>Spider-Man (2002)</td>\n",
       "      <td>http://www.imdb.com/title/tt0145487/</td>\n",
       "      <td>7.3</td>\n",
       "      <td>73.0</td>\n",
       "      <td>121</td>\n",
       "      <td>139000000.0</td>\n",
       "      <td>114844116.0</td>\n",
       "      <td>407022860.0</td>\n",
       "      <td>825025036.0</td>\n",
       "      <td>2002-05-03</td>\n",
       "      <td>PG-13</td>\n",
       "      <td>Action Adventure Sci-Fi</td>\n",
       "      <td>USA</td>\n",
       "    </tr>\n",
       "    <tr>\n",
       "      <th>1</th>\n",
       "      <td>Spider-Man 2 (2004)</td>\n",
       "      <td>http://www.imdb.com/title/tt0316654/</td>\n",
       "      <td>7.3</td>\n",
       "      <td>83.0</td>\n",
       "      <td>127</td>\n",
       "      <td>200000000.0</td>\n",
       "      <td>88156227.0</td>\n",
       "      <td>373585825.0</td>\n",
       "      <td>788976453.0</td>\n",
       "      <td>2004-06-30</td>\n",
       "      <td>PG-13</td>\n",
       "      <td>Action Adventure Sci-Fi</td>\n",
       "      <td>USA</td>\n",
       "    </tr>\n",
       "    <tr>\n",
       "      <th>2</th>\n",
       "      <td>The Matrix (1999)</td>\n",
       "      <td>http://www.imdb.com/title/tt0133093/</td>\n",
       "      <td>8.7</td>\n",
       "      <td>73.0</td>\n",
       "      <td>136</td>\n",
       "      <td>63000000.0</td>\n",
       "      <td>27788331.0</td>\n",
       "      <td>171479930.0</td>\n",
       "      <td>465343787.0</td>\n",
       "      <td>1999-03-31</td>\n",
       "      <td>R</td>\n",
       "      <td>Action Sci-Fi</td>\n",
       "      <td>USA</td>\n",
       "    </tr>\n",
       "    <tr>\n",
       "      <th>3</th>\n",
       "      <td>The Matrix Reloaded (2003)</td>\n",
       "      <td>http://www.imdb.com/title/tt0234215/</td>\n",
       "      <td>7.2</td>\n",
       "      <td>62.0</td>\n",
       "      <td>138</td>\n",
       "      <td>150000000.0</td>\n",
       "      <td>91774413.0</td>\n",
       "      <td>281576461.0</td>\n",
       "      <td>741846459.0</td>\n",
       "      <td>2003-05-15</td>\n",
       "      <td>R</td>\n",
       "      <td>Action Sci-Fi</td>\n",
       "      <td>USA</td>\n",
       "    </tr>\n",
       "    <tr>\n",
       "      <th>4</th>\n",
       "      <td>The Lord of the Rings: The Fellowship of the R...</td>\n",
       "      <td>http://www.imdb.com/title/tt0120737/</td>\n",
       "      <td>8.8</td>\n",
       "      <td>92.0</td>\n",
       "      <td>178</td>\n",
       "      <td>93000000.0</td>\n",
       "      <td>47211490.0</td>\n",
       "      <td>315544750.0</td>\n",
       "      <td>887832826.0</td>\n",
       "      <td>2001-12-19</td>\n",
       "      <td>PG-13</td>\n",
       "      <td>Action Adventure Drama</td>\n",
       "      <td>New Zealand</td>\n",
       "    </tr>\n",
       "    <tr>\n",
       "      <th>5</th>\n",
       "      <td>The Lord of the Rings: The Two Towers (2002)</td>\n",
       "      <td>http://www.imdb.com/title/tt0167261/</td>\n",
       "      <td>8.7</td>\n",
       "      <td>87.0</td>\n",
       "      <td>179</td>\n",
       "      <td>94000000.0</td>\n",
       "      <td>62007528.0</td>\n",
       "      <td>342551365.0</td>\n",
       "      <td>951208089.0</td>\n",
       "      <td>2002-12-18</td>\n",
       "      <td>PG-13</td>\n",
       "      <td>Adventure Drama Fantasy</td>\n",
       "      <td>New Zealand</td>\n",
       "    </tr>\n",
       "  </tbody>\n",
       "</table>\n",
       "</div>"
      ],
      "text/plain": [
       "                                               Title  \\\n",
       "0                                  Spider-Man (2002)   \n",
       "1                                Spider-Man 2 (2004)   \n",
       "2                                  The Matrix (1999)   \n",
       "3                         The Matrix Reloaded (2003)   \n",
       "4  The Lord of the Rings: The Fellowship of the R...   \n",
       "5       The Lord of the Rings: The Two Towers (2002)   \n",
       "\n",
       "                                    url  IMDB Score  Metacritic  \\\n",
       "0  http://www.imdb.com/title/tt0145487/         7.3        73.0   \n",
       "1  http://www.imdb.com/title/tt0316654/         7.3        83.0   \n",
       "2  http://www.imdb.com/title/tt0133093/         8.7        73.0   \n",
       "3  http://www.imdb.com/title/tt0234215/         7.2        62.0   \n",
       "4  http://www.imdb.com/title/tt0120737/         8.8        92.0   \n",
       "5  http://www.imdb.com/title/tt0167261/         8.7        87.0   \n",
       "\n",
       "   Runtime (mins)       Budget  Opening Weekend    Gross USA  Gross World  \\\n",
       "0             121  139000000.0      114844116.0  407022860.0  825025036.0   \n",
       "1             127  200000000.0       88156227.0  373585825.0  788976453.0   \n",
       "2             136   63000000.0       27788331.0  171479930.0  465343787.0   \n",
       "3             138  150000000.0       91774413.0  281576461.0  741846459.0   \n",
       "4             178   93000000.0       47211490.0  315544750.0  887832826.0   \n",
       "5             179   94000000.0       62007528.0  342551365.0  951208089.0   \n",
       "\n",
       "  Release Date Rating                   Genres      Country  \n",
       "0   2002-05-03  PG-13  Action Adventure Sci-Fi          USA  \n",
       "1   2004-06-30  PG-13  Action Adventure Sci-Fi          USA  \n",
       "2   1999-03-31      R            Action Sci-Fi          USA  \n",
       "3   2003-05-15      R            Action Sci-Fi          USA  \n",
       "4   2001-12-19  PG-13   Action Adventure Drama  New Zealand  \n",
       "5   2002-12-18  PG-13  Adventure Drama Fantasy  New Zealand  "
      ]
     },
     "execution_count": 14,
     "metadata": {},
     "output_type": "execute_result"
    }
   ],
   "source": [
    "df.head(6)"
   ]
  },
  {
   "cell_type": "markdown",
   "metadata": {},
   "source": [
    "### Write to a New File"
   ]
  },
  {
   "cell_type": "code",
   "execution_count": 15,
   "metadata": {
    "ExecuteTime": {
     "end_time": "2020-10-26T17:41:25.403866Z",
     "start_time": "2020-10-26T17:41:25.283857Z"
    }
   },
   "outputs": [],
   "source": [
    "# Dump to new csv\n",
    "file_name_cleaned = 'movies_with_sequels_final_cleaned.csv'\n",
    "\n",
    "df.to_csv(data_path + file_name_cleaned, index=False)\n"
   ]
  },
  {
   "cell_type": "markdown",
   "metadata": {},
   "source": [
    "## Splitting the Dataset to 'Original' and 'Sequel'"
   ]
  },
  {
   "cell_type": "code",
   "execution_count": 16,
   "metadata": {
    "ExecuteTime": {
     "end_time": "2020-10-26T17:41:25.491773Z",
     "start_time": "2020-10-26T17:41:25.405866Z"
    }
   },
   "outputs": [],
   "source": [
    "# Dump original and sequel\n",
    "df_original = df[df.index % 2 == 0] # Excludes every 3rd row starting from 0\n",
    "df_sequel   = df[df.index % 2 != 0] # Selects every 3rd raw starting from 0"
   ]
  },
  {
   "cell_type": "code",
   "execution_count": 17,
   "metadata": {
    "ExecuteTime": {
     "end_time": "2020-10-26T17:41:25.495454Z",
     "start_time": "2020-10-26T17:41:25.493192Z"
    }
   },
   "outputs": [],
   "source": [
    "df_original.reset_index(drop=True,inplace=True)"
   ]
  },
  {
   "cell_type": "code",
   "execution_count": 18,
   "metadata": {
    "ExecuteTime": {
     "end_time": "2020-10-26T17:41:25.499372Z",
     "start_time": "2020-10-26T17:41:25.497042Z"
    }
   },
   "outputs": [],
   "source": [
    "df_sequel.reset_index(drop=True,inplace=True)"
   ]
  },
  {
   "cell_type": "code",
   "execution_count": 19,
   "metadata": {
    "ExecuteTime": {
     "end_time": "2020-10-26T17:41:25.515107Z",
     "start_time": "2020-10-26T17:41:25.500844Z"
    }
   },
   "outputs": [
    {
     "data": {
      "text/html": [
       "<div>\n",
       "<style scoped>\n",
       "    .dataframe tbody tr th:only-of-type {\n",
       "        vertical-align: middle;\n",
       "    }\n",
       "\n",
       "    .dataframe tbody tr th {\n",
       "        vertical-align: top;\n",
       "    }\n",
       "\n",
       "    .dataframe thead th {\n",
       "        text-align: right;\n",
       "    }\n",
       "</style>\n",
       "<table border=\"1\" class=\"dataframe\">\n",
       "  <thead>\n",
       "    <tr style=\"text-align: right;\">\n",
       "      <th></th>\n",
       "      <th>Title</th>\n",
       "      <th>url</th>\n",
       "      <th>IMDB Score</th>\n",
       "      <th>Metacritic</th>\n",
       "      <th>Runtime (mins)</th>\n",
       "      <th>Budget</th>\n",
       "      <th>Opening Weekend</th>\n",
       "      <th>Gross USA</th>\n",
       "      <th>Gross World</th>\n",
       "      <th>Release Date</th>\n",
       "      <th>Rating</th>\n",
       "      <th>Genres</th>\n",
       "      <th>Country</th>\n",
       "    </tr>\n",
       "  </thead>\n",
       "  <tbody>\n",
       "    <tr>\n",
       "      <th>0</th>\n",
       "      <td>Spider-Man (2002)</td>\n",
       "      <td>http://www.imdb.com/title/tt0145487/</td>\n",
       "      <td>7.3</td>\n",
       "      <td>73.0</td>\n",
       "      <td>121</td>\n",
       "      <td>139000000.0</td>\n",
       "      <td>114844116.0</td>\n",
       "      <td>407022860.0</td>\n",
       "      <td>8.250250e+08</td>\n",
       "      <td>2002-05-03</td>\n",
       "      <td>PG-13</td>\n",
       "      <td>Action Adventure Sci-Fi</td>\n",
       "      <td>USA</td>\n",
       "    </tr>\n",
       "    <tr>\n",
       "      <th>1</th>\n",
       "      <td>The Matrix (1999)</td>\n",
       "      <td>http://www.imdb.com/title/tt0133093/</td>\n",
       "      <td>8.7</td>\n",
       "      <td>73.0</td>\n",
       "      <td>136</td>\n",
       "      <td>63000000.0</td>\n",
       "      <td>27788331.0</td>\n",
       "      <td>171479930.0</td>\n",
       "      <td>4.653438e+08</td>\n",
       "      <td>1999-03-31</td>\n",
       "      <td>R</td>\n",
       "      <td>Action Sci-Fi</td>\n",
       "      <td>USA</td>\n",
       "    </tr>\n",
       "    <tr>\n",
       "      <th>2</th>\n",
       "      <td>The Lord of the Rings: The Fellowship of the R...</td>\n",
       "      <td>http://www.imdb.com/title/tt0120737/</td>\n",
       "      <td>8.8</td>\n",
       "      <td>92.0</td>\n",
       "      <td>178</td>\n",
       "      <td>93000000.0</td>\n",
       "      <td>47211490.0</td>\n",
       "      <td>315544750.0</td>\n",
       "      <td>8.878328e+08</td>\n",
       "      <td>2001-12-19</td>\n",
       "      <td>PG-13</td>\n",
       "      <td>Action Adventure Drama</td>\n",
       "      <td>New Zealand</td>\n",
       "    </tr>\n",
       "    <tr>\n",
       "      <th>3</th>\n",
       "      <td>The Lord of the Rings: The Return of the King ...</td>\n",
       "      <td>http://www.imdb.com/title/tt0167260/</td>\n",
       "      <td>8.9</td>\n",
       "      <td>94.0</td>\n",
       "      <td>201</td>\n",
       "      <td>94000000.0</td>\n",
       "      <td>72629713.0</td>\n",
       "      <td>377845905.0</td>\n",
       "      <td>1.142219e+09</td>\n",
       "      <td>2003-12-17</td>\n",
       "      <td>PG-13</td>\n",
       "      <td>Adventure Drama Fantasy</td>\n",
       "      <td>New Zealand</td>\n",
       "    </tr>\n",
       "    <tr>\n",
       "      <th>4</th>\n",
       "      <td>The Hobbit: The Desolation of Smaug (2013)</td>\n",
       "      <td>http://www.imdb.com/title/tt1170358/</td>\n",
       "      <td>7.8</td>\n",
       "      <td>66.0</td>\n",
       "      <td>161</td>\n",
       "      <td>225000000.0</td>\n",
       "      <td>73645197.0</td>\n",
       "      <td>258366855.0</td>\n",
       "      <td>9.583669e+08</td>\n",
       "      <td>2013-12-13</td>\n",
       "      <td>PG-13</td>\n",
       "      <td>Adventure Fantasy</td>\n",
       "      <td>New Zealand</td>\n",
       "    </tr>\n",
       "  </tbody>\n",
       "</table>\n",
       "</div>"
      ],
      "text/plain": [
       "                                               Title  \\\n",
       "0                                  Spider-Man (2002)   \n",
       "1                                  The Matrix (1999)   \n",
       "2  The Lord of the Rings: The Fellowship of the R...   \n",
       "3  The Lord of the Rings: The Return of the King ...   \n",
       "4         The Hobbit: The Desolation of Smaug (2013)   \n",
       "\n",
       "                                    url  IMDB Score  Metacritic  \\\n",
       "0  http://www.imdb.com/title/tt0145487/         7.3        73.0   \n",
       "1  http://www.imdb.com/title/tt0133093/         8.7        73.0   \n",
       "2  http://www.imdb.com/title/tt0120737/         8.8        92.0   \n",
       "3  http://www.imdb.com/title/tt0167260/         8.9        94.0   \n",
       "4  http://www.imdb.com/title/tt1170358/         7.8        66.0   \n",
       "\n",
       "   Runtime (mins)       Budget  Opening Weekend    Gross USA   Gross World  \\\n",
       "0             121  139000000.0      114844116.0  407022860.0  8.250250e+08   \n",
       "1             136   63000000.0       27788331.0  171479930.0  4.653438e+08   \n",
       "2             178   93000000.0       47211490.0  315544750.0  8.878328e+08   \n",
       "3             201   94000000.0       72629713.0  377845905.0  1.142219e+09   \n",
       "4             161  225000000.0       73645197.0  258366855.0  9.583669e+08   \n",
       "\n",
       "  Release Date Rating                   Genres      Country  \n",
       "0   2002-05-03  PG-13  Action Adventure Sci-Fi          USA  \n",
       "1   1999-03-31      R            Action Sci-Fi          USA  \n",
       "2   2001-12-19  PG-13   Action Adventure Drama  New Zealand  \n",
       "3   2003-12-17  PG-13  Adventure Drama Fantasy  New Zealand  \n",
       "4   2013-12-13  PG-13        Adventure Fantasy  New Zealand  "
      ]
     },
     "execution_count": 19,
     "metadata": {},
     "output_type": "execute_result"
    }
   ],
   "source": [
    "df_original.head()"
   ]
  },
  {
   "cell_type": "code",
   "execution_count": 20,
   "metadata": {
    "ExecuteTime": {
     "end_time": "2020-10-26T17:41:25.529420Z",
     "start_time": "2020-10-26T17:41:25.516720Z"
    }
   },
   "outputs": [
    {
     "data": {
      "text/html": [
       "<div>\n",
       "<style scoped>\n",
       "    .dataframe tbody tr th:only-of-type {\n",
       "        vertical-align: middle;\n",
       "    }\n",
       "\n",
       "    .dataframe tbody tr th {\n",
       "        vertical-align: top;\n",
       "    }\n",
       "\n",
       "    .dataframe thead th {\n",
       "        text-align: right;\n",
       "    }\n",
       "</style>\n",
       "<table border=\"1\" class=\"dataframe\">\n",
       "  <thead>\n",
       "    <tr style=\"text-align: right;\">\n",
       "      <th></th>\n",
       "      <th>Title</th>\n",
       "      <th>url</th>\n",
       "      <th>IMDB Score</th>\n",
       "      <th>Metacritic</th>\n",
       "      <th>Runtime (mins)</th>\n",
       "      <th>Budget</th>\n",
       "      <th>Opening Weekend</th>\n",
       "      <th>Gross USA</th>\n",
       "      <th>Gross World</th>\n",
       "      <th>Release Date</th>\n",
       "      <th>Rating</th>\n",
       "      <th>Genres</th>\n",
       "      <th>Country</th>\n",
       "    </tr>\n",
       "  </thead>\n",
       "  <tbody>\n",
       "    <tr>\n",
       "      <th>0</th>\n",
       "      <td>Spider-Man 2 (2004)</td>\n",
       "      <td>http://www.imdb.com/title/tt0316654/</td>\n",
       "      <td>7.3</td>\n",
       "      <td>83.0</td>\n",
       "      <td>127</td>\n",
       "      <td>200000000.0</td>\n",
       "      <td>88156227.0</td>\n",
       "      <td>373585825.0</td>\n",
       "      <td>7.889765e+08</td>\n",
       "      <td>2004-06-30</td>\n",
       "      <td>PG-13</td>\n",
       "      <td>Action Adventure Sci-Fi</td>\n",
       "      <td>USA</td>\n",
       "    </tr>\n",
       "    <tr>\n",
       "      <th>1</th>\n",
       "      <td>The Matrix Reloaded (2003)</td>\n",
       "      <td>http://www.imdb.com/title/tt0234215/</td>\n",
       "      <td>7.2</td>\n",
       "      <td>62.0</td>\n",
       "      <td>138</td>\n",
       "      <td>150000000.0</td>\n",
       "      <td>91774413.0</td>\n",
       "      <td>281576461.0</td>\n",
       "      <td>7.418465e+08</td>\n",
       "      <td>2003-05-15</td>\n",
       "      <td>R</td>\n",
       "      <td>Action Sci-Fi</td>\n",
       "      <td>USA</td>\n",
       "    </tr>\n",
       "    <tr>\n",
       "      <th>2</th>\n",
       "      <td>The Lord of the Rings: The Two Towers (2002)</td>\n",
       "      <td>http://www.imdb.com/title/tt0167261/</td>\n",
       "      <td>8.7</td>\n",
       "      <td>87.0</td>\n",
       "      <td>179</td>\n",
       "      <td>94000000.0</td>\n",
       "      <td>62007528.0</td>\n",
       "      <td>342551365.0</td>\n",
       "      <td>9.512081e+08</td>\n",
       "      <td>2002-12-18</td>\n",
       "      <td>PG-13</td>\n",
       "      <td>Adventure Drama Fantasy</td>\n",
       "      <td>New Zealand</td>\n",
       "    </tr>\n",
       "    <tr>\n",
       "      <th>3</th>\n",
       "      <td>The Hobbit: An Unexpected Journey (2012)</td>\n",
       "      <td>http://www.imdb.com/title/tt0903624/</td>\n",
       "      <td>7.8</td>\n",
       "      <td>58.0</td>\n",
       "      <td>169</td>\n",
       "      <td>180000000.0</td>\n",
       "      <td>84617303.0</td>\n",
       "      <td>303003568.0</td>\n",
       "      <td>1.017004e+09</td>\n",
       "      <td>2012-12-14</td>\n",
       "      <td>PG-13</td>\n",
       "      <td>Adventure Family Fantasy</td>\n",
       "      <td>New Zealand</td>\n",
       "    </tr>\n",
       "    <tr>\n",
       "      <th>4</th>\n",
       "      <td>The Hobbit: The Battle of the Five Armies (2014)</td>\n",
       "      <td>http://www.imdb.com/title/tt2310332/</td>\n",
       "      <td>7.4</td>\n",
       "      <td>59.0</td>\n",
       "      <td>144</td>\n",
       "      <td>250000000.0</td>\n",
       "      <td>54724334.0</td>\n",
       "      <td>255119788.0</td>\n",
       "      <td>9.560198e+08</td>\n",
       "      <td>2014-12-17</td>\n",
       "      <td>PG-13</td>\n",
       "      <td>Adventure Fantasy</td>\n",
       "      <td>New Zealand</td>\n",
       "    </tr>\n",
       "  </tbody>\n",
       "</table>\n",
       "</div>"
      ],
      "text/plain": [
       "                                              Title  \\\n",
       "0                               Spider-Man 2 (2004)   \n",
       "1                        The Matrix Reloaded (2003)   \n",
       "2      The Lord of the Rings: The Two Towers (2002)   \n",
       "3          The Hobbit: An Unexpected Journey (2012)   \n",
       "4  The Hobbit: The Battle of the Five Armies (2014)   \n",
       "\n",
       "                                    url  IMDB Score  Metacritic  \\\n",
       "0  http://www.imdb.com/title/tt0316654/         7.3        83.0   \n",
       "1  http://www.imdb.com/title/tt0234215/         7.2        62.0   \n",
       "2  http://www.imdb.com/title/tt0167261/         8.7        87.0   \n",
       "3  http://www.imdb.com/title/tt0903624/         7.8        58.0   \n",
       "4  http://www.imdb.com/title/tt2310332/         7.4        59.0   \n",
       "\n",
       "   Runtime (mins)       Budget  Opening Weekend    Gross USA   Gross World  \\\n",
       "0             127  200000000.0       88156227.0  373585825.0  7.889765e+08   \n",
       "1             138  150000000.0       91774413.0  281576461.0  7.418465e+08   \n",
       "2             179   94000000.0       62007528.0  342551365.0  9.512081e+08   \n",
       "3             169  180000000.0       84617303.0  303003568.0  1.017004e+09   \n",
       "4             144  250000000.0       54724334.0  255119788.0  9.560198e+08   \n",
       "\n",
       "  Release Date Rating                    Genres      Country  \n",
       "0   2004-06-30  PG-13   Action Adventure Sci-Fi          USA  \n",
       "1   2003-05-15      R             Action Sci-Fi          USA  \n",
       "2   2002-12-18  PG-13   Adventure Drama Fantasy  New Zealand  \n",
       "3   2012-12-14  PG-13  Adventure Family Fantasy  New Zealand  \n",
       "4   2014-12-17  PG-13         Adventure Fantasy  New Zealand  "
      ]
     },
     "execution_count": 20,
     "metadata": {},
     "output_type": "execute_result"
    }
   ],
   "source": [
    "df_sequel.head()"
   ]
  },
  {
   "cell_type": "code",
   "execution_count": 21,
   "metadata": {
    "ExecuteTime": {
     "end_time": "2020-10-26T17:41:25.545392Z",
     "start_time": "2020-10-26T17:41:25.530986Z"
    }
   },
   "outputs": [],
   "source": [
    "# Dump to new files\n",
    "file_name_cleaned_org = 'movies_with_originals_only_final_cleaned.csv'\n",
    "file_name_cleaned_seq = 'movies_with_sequels_only_final_cleaned.csv'\n",
    "\n",
    "df_original.to_csv(data_path + file_name_cleaned_org, index=False)\n",
    "df_sequel.to_csv(data_path + file_name_cleaned_seq, index=False)"
   ]
  },
  {
   "cell_type": "code",
   "execution_count": 22,
   "metadata": {
    "ExecuteTime": {
     "end_time": "2020-10-26T17:41:25.555630Z",
     "start_time": "2020-10-26T17:41:25.546898Z"
    }
   },
   "outputs": [
    {
     "name": "stdout",
     "output_type": "stream",
     "text": [
      "<class 'pandas.core.frame.DataFrame'>\n",
      "RangeIndex: 539 entries, 0 to 538\n",
      "Data columns (total 13 columns):\n",
      " #   Column           Non-Null Count  Dtype  \n",
      "---  ------           --------------  -----  \n",
      " 0   Title            539 non-null    object \n",
      " 1   url              539 non-null    object \n",
      " 2   IMDB Score       539 non-null    float64\n",
      " 3   Metacritic       505 non-null    float64\n",
      " 4   Runtime (mins)   539 non-null    int64  \n",
      " 5   Budget           539 non-null    float64\n",
      " 6   Opening Weekend  475 non-null    float64\n",
      " 7   Gross USA        508 non-null    float64\n",
      " 8   Gross World      539 non-null    float64\n",
      " 9   Release Date     539 non-null    object \n",
      " 10  Rating           539 non-null    object \n",
      " 11  Genres           539 non-null    object \n",
      " 12  Country          539 non-null    object \n",
      "dtypes: float64(6), int64(1), object(6)\n",
      "memory usage: 54.9+ KB\n"
     ]
    }
   ],
   "source": [
    "df_original.info()"
   ]
  },
  {
   "cell_type": "code",
   "execution_count": 23,
   "metadata": {
    "ExecuteTime": {
     "end_time": "2020-10-26T17:41:25.567686Z",
     "start_time": "2020-10-26T17:41:25.560749Z"
    }
   },
   "outputs": [
    {
     "name": "stdout",
     "output_type": "stream",
     "text": [
      "<class 'pandas.core.frame.DataFrame'>\n",
      "RangeIndex: 539 entries, 0 to 538\n",
      "Data columns (total 13 columns):\n",
      " #   Column           Non-Null Count  Dtype  \n",
      "---  ------           --------------  -----  \n",
      " 0   Title            539 non-null    object \n",
      " 1   url              539 non-null    object \n",
      " 2   IMDB Score       539 non-null    float64\n",
      " 3   Metacritic       468 non-null    float64\n",
      " 4   Runtime (mins)   539 non-null    int64  \n",
      " 5   Budget           539 non-null    float64\n",
      " 6   Opening Weekend  477 non-null    float64\n",
      " 7   Gross USA        497 non-null    float64\n",
      " 8   Gross World      539 non-null    float64\n",
      " 9   Release Date     539 non-null    object \n",
      " 10  Rating           539 non-null    object \n",
      " 11  Genres           539 non-null    object \n",
      " 12  Country          539 non-null    object \n",
      "dtypes: float64(6), int64(1), object(6)\n",
      "memory usage: 54.9+ KB\n"
     ]
    }
   ],
   "source": [
    "df_sequel.info()"
   ]
  },
  {
   "cell_type": "markdown",
   "metadata": {
    "ExecuteTime": {
     "end_time": "2020-10-26T05:01:46.472090Z",
     "start_time": "2020-10-26T05:01:46.470239Z"
    }
   },
   "source": [
    "### Check for Negative Difference in Release Dates"
   ]
  },
  {
   "cell_type": "markdown",
   "metadata": {},
   "source": [
    "A sanity check to see if there are negative days between original and release. This was done since I noticed there were delta days that either negative or really large. Function below will be used again in the next notebook."
   ]
  },
  {
   "cell_type": "code",
   "execution_count": 24,
   "metadata": {
    "ExecuteTime": {
     "end_time": "2020-10-26T17:41:25.573082Z",
     "start_time": "2020-10-26T17:41:25.569807Z"
    }
   },
   "outputs": [],
   "source": [
    "# Let's check and see if there are any negative deltas between original and sequel\n",
    "def diff_rel_dates(data_org,data_seq,delta_type):\n",
    "    \n",
    "    df_diff_days = (data_seq['Release Date'] - data_org['Release Date'])/np.timedelta64(1, delta_type)\n",
    "    \n",
    "    neg_diff_days = df_diff_days[df_diff_days < 0]\n",
    "    \n",
    "    if neg_diff_days is not None:\n",
    "        print('No negative difference')\n",
    "    else:\n",
    "        print('There are negative time(s) between sequel and original. Please check!')\n",
    "\n",
    "    return df_diff_days"
   ]
  },
  {
   "cell_type": "code",
   "execution_count": 25,
   "metadata": {
    "ExecuteTime": {
     "end_time": "2020-10-26T17:41:25.580445Z",
     "start_time": "2020-10-26T17:41:25.574678Z"
    }
   },
   "outputs": [
    {
     "name": "stdout",
     "output_type": "stream",
     "text": [
      "No negative difference\n"
     ]
    }
   ],
   "source": [
    "diff_type = 'D'  # Let's use days as a difference\n",
    "\n",
    "diff_days = diff_rel_dates(df_original,df_sequel,diff_type)\n"
   ]
  },
  {
   "cell_type": "markdown",
   "metadata": {
    "ExecuteTime": {
     "end_time": "2020-10-26T04:39:55.459085Z",
     "start_time": "2020-10-26T04:39:55.453883Z"
    }
   },
   "source": [
    "Great! There are no negative delta days between original and sequel."
   ]
  }
 ],
 "metadata": {
  "kernelspec": {
   "display_name": "Python 3",
   "language": "python",
   "name": "python3"
  },
  "language_info": {
   "codemirror_mode": {
    "name": "ipython",
    "version": 3
   },
   "file_extension": ".py",
   "mimetype": "text/x-python",
   "name": "python",
   "nbconvert_exporter": "python",
   "pygments_lexer": "ipython3",
   "version": "3.7.3"
  },
  "latex_envs": {
   "LaTeX_envs_menu_present": true,
   "autoclose": false,
   "autocomplete": true,
   "bibliofile": "biblio.bib",
   "cite_by": "apalike",
   "current_citInitial": 1,
   "eqLabelWithNumbers": true,
   "eqNumInitial": 1,
   "hotkeys": {
    "equation": "Ctrl-E",
    "itemize": "Ctrl-I"
   },
   "labels_anchors": false,
   "latex_user_defs": false,
   "report_style_numbering": false,
   "user_envs_cfg": false
  },
  "toc": {
   "base_numbering": 1,
   "nav_menu": {},
   "number_sections": true,
   "sideBar": true,
   "skip_h1_title": false,
   "title_cell": "Table of Contents",
   "title_sidebar": "Contents",
   "toc_cell": false,
   "toc_position": {},
   "toc_section_display": true,
   "toc_window_display": true
  }
 },
 "nbformat": 4,
 "nbformat_minor": 2
}

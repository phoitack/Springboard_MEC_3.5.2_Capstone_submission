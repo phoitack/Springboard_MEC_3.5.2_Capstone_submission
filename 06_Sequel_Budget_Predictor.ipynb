{
 "cells": [
  {
   "cell_type": "markdown",
   "metadata": {},
   "source": [
    "# Movie Sequel Budget Predictor"
   ]
  },
  {
   "cell_type": "markdown",
   "metadata": {},
   "source": [
    "## Introduction"
   ]
  },
  {
   "cell_type": "markdown",
   "metadata": {},
   "source": [
    "Purpose of this notebook is to ask the question: With the data at hand, how well can we predict the budget of a sequel? This has a more weighted business case that simply predicting the sequel movie returns as production houses must know how to allocated resources for its subsequent film either for a sequel or within a franchise. "
   ]
  },
  {
   "cell_type": "markdown",
   "metadata": {},
   "source": [
    "## Import Libraries"
   ]
  },
  {
   "cell_type": "code",
   "execution_count": 1,
   "metadata": {
    "ExecuteTime": {
     "end_time": "2020-11-02T18:57:35.300905Z",
     "start_time": "2020-11-02T18:57:33.584438Z"
    }
   },
   "outputs": [],
   "source": [
    "import numpy as np\n",
    "import pandas as pd\n",
    "import matplotlib.pyplot as plt\n",
    "import seaborn as sns\n",
    "import datetime\n",
    "import re\n",
    "from pprint import pprint\n",
    "\n",
    "from sklearn.linear_model import LinearRegression,Ridge,Lasso\n",
    "from sklearn.linear_model import ElasticNet,BayesianRidge,HuberRegressor\n",
    "from sklearn.linear_model import ARDRegression,SGDRegressor\n",
    "\n",
    "import statsmodels.api as sm\n",
    "\n",
    "from sklearn.model_selection import KFold,train_test_split\n",
    "from sklearn.model_selection import cross_val_score\n",
    "from sklearn.model_selection import RandomizedSearchCV\n",
    "\n",
    "from sklearn.ensemble import RandomForestRegressor,AdaBoostRegressor\n",
    "from sklearn.svm import SVR\n",
    "\n",
    "from sklearn.preprocessing import StandardScaler\n",
    "\n",
    "import lightgbm as lgbm\n",
    "import xgboost as xgb\n",
    "\n",
    "from sklearn.metrics import mean_squared_error,make_scorer,r2_score\n",
    "\n",
    "import warnings\n",
    "warnings.filterwarnings('ignore')\n",
    "\n",
    "%matplotlib inline\n",
    "\n",
    "%config InlineBackend.figure_format='retina'"
   ]
  },
  {
   "cell_type": "markdown",
   "metadata": {
    "ExecuteTime": {
     "end_time": "2020-10-31T20:41:08.426771Z",
     "start_time": "2020-10-31T20:41:08.424634Z"
    }
   },
   "source": [
    "## Constants"
   ]
  },
  {
   "cell_type": "code",
   "execution_count": 2,
   "metadata": {
    "ExecuteTime": {
     "end_time": "2020-11-02T18:57:35.305302Z",
     "start_time": "2020-11-02T18:57:35.302590Z"
    }
   },
   "outputs": [],
   "source": [
    "# Set percent cut-off\n",
    "# Percent cut-off is defined as [(Gross Seq - Gross Org)/min(Gross Seq, Gross Org)]*100\n",
    "pct_cut_off = 2000\n",
    "\n",
    "test_size = 0.20\n",
    "\n",
    "seed = 1234"
   ]
  },
  {
   "cell_type": "markdown",
   "metadata": {},
   "source": [
    "## Load Data File(s)"
   ]
  },
  {
   "cell_type": "code",
   "execution_count": 3,
   "metadata": {
    "ExecuteTime": {
     "end_time": "2020-11-02T18:57:35.327157Z",
     "start_time": "2020-11-02T18:57:35.308151Z"
    }
   },
   "outputs": [],
   "source": [
    "data_path = './data/'\n",
    "\n",
    "file_all = 'movies_with_sequels_final_cleaned.csv'\n",
    "file_org = 'movies_with_originals_only_final_cleaned.csv'\n",
    "file_seq = 'movies_with_sequels_only_final_cleaned.csv'\n",
    "\n",
    "df_all = pd.read_csv(data_path + file_all)\n",
    "df_org = pd.read_csv(data_path + file_org)\n",
    "df_seq = pd.read_csv(data_path + file_seq)\n",
    "\n",
    "df_all['Release Date'] = pd.to_datetime(df_all['Release Date'])\n",
    "df_org['Release Date'] = pd.to_datetime(df_org['Release Date'])\n",
    "df_seq['Release Date'] = pd.to_datetime(df_seq['Release Date'])\n",
    "\n"
   ]
  },
  {
   "cell_type": "code",
   "execution_count": 4,
   "metadata": {
    "ExecuteTime": {
     "end_time": "2020-11-02T18:57:35.332174Z",
     "start_time": "2020-11-02T18:57:35.329237Z"
    }
   },
   "outputs": [],
   "source": [
    "# Get time between original and sequel\n",
    "def diff_rel_dates(data_org,data_seq,delta_type):\n",
    "    \n",
    "    delta_time = (data_seq['Release Date'] - data_org['Release Date'])/np.timedelta64(1, delta_type)\n",
    "    \n",
    "    neg_delta = delta_time[delta_time < 0]\n",
    "    \n",
    "    if neg_delta is not None:\n",
    "        print('No negative difference')\n",
    "    else:\n",
    "        print('There are negative time(s) between sequel and original. Please check!')\n",
    "\n",
    "    return delta_time"
   ]
  },
  {
   "cell_type": "code",
   "execution_count": 5,
   "metadata": {
    "ExecuteTime": {
     "end_time": "2020-11-02T18:57:35.337583Z",
     "start_time": "2020-11-02T18:57:35.333890Z"
    }
   },
   "outputs": [
    {
     "name": "stdout",
     "output_type": "stream",
     "text": [
      "No negative difference\n"
     ]
    }
   ],
   "source": [
    "# Set years as the difference between sequel and original\n",
    "diff_type = 'Y'\n",
    "\n",
    "diff_time = diff_rel_dates(df_org,df_seq,diff_type)"
   ]
  },
  {
   "cell_type": "markdown",
   "metadata": {},
   "source": [
    "## Feature Engineering"
   ]
  },
  {
   "cell_type": "markdown",
   "metadata": {},
   "source": [
    "### Select Target"
   ]
  },
  {
   "cell_type": "code",
   "execution_count": 6,
   "metadata": {
    "ExecuteTime": {
     "end_time": "2020-11-02T18:57:35.342001Z",
     "start_time": "2020-11-02T18:57:35.338964Z"
    }
   },
   "outputs": [],
   "source": [
    "# Attach the target variable, budget from sequel to df_org dataframe and rescale\n",
    "df_org['target'] = np.log(df_seq['Budget'])\n"
   ]
  },
  {
   "cell_type": "markdown",
   "metadata": {},
   "source": [
    "### Remove Outliers (Budget Percentages)"
   ]
  },
  {
   "cell_type": "markdown",
   "metadata": {},
   "source": [
    "Based on the EDA portion of this study (Notebook 04), I noticed that Budget Sequel vs. Budget Original contained several outliers. They were notably:\n",
    "\n",
    "1. Mallrats and Chasing Amy\n",
    "2. Blair Witch Project 1 & 2\n",
    "3. Fantasia and Fantasia 2000\n",
    "...\n",
    "\n",
    "and many others. The systematic way to remove outliers is to consider a percentage bandwidth. If more funds are allocated to a sequel either because its sequel out-performed its original (or under-performed) say for example above or below 1,000%, then we will remove this movies. The user has control of the bandwidth. Note, the narrower the bandwidth the more observations you remove and thus you end-up with less data to train and test."
   ]
  },
  {
   "cell_type": "code",
   "execution_count": 7,
   "metadata": {
    "ExecuteTime": {
     "end_time": "2020-11-02T18:57:35.346225Z",
     "start_time": "2020-11-02T18:57:35.343561Z"
    }
   },
   "outputs": [],
   "source": [
    "# Let's add the runtime for the sequel\n",
    "\n",
    "df_org['RuntimeSeq'] = df_seq['Runtime (mins)']"
   ]
  },
  {
   "cell_type": "code",
   "execution_count": 8,
   "metadata": {
    "ExecuteTime": {
     "end_time": "2020-11-02T18:57:35.357645Z",
     "start_time": "2020-11-02T18:57:35.351257Z"
    }
   },
   "outputs": [],
   "source": [
    "def remove_outliers_budgets(data_org,data_seq,pct_cut_off):\n",
    "\n",
    "    df_temp = data_org[['Title']]\n",
    "    df_temp['Budget Original'] = data_org['Budget']\n",
    "    df_temp['Budget Sequel'] = df_seq['Budget']\n",
    "\n",
    "    # Calculate percentage differces\n",
    "    df_temp['MinBudget_SeqOrg'] =  df_temp[['Budget Original', 'Budget Sequel']].min(axis=1)\n",
    "    df_temp['BudgetPercentDiff'] = round((df_temp['Budget Sequel'] - df_temp['Budget Original'])/df_temp['MinBudget_SeqOrg']*100,2)\n",
    "    df_temp['AbsBudgetPercentDiff'] = round(np.abs(df_temp['Budget Sequel'] - df_temp['Budget Original'])/df_temp['MinBudget_SeqOrg']*100,2)\n",
    "\n",
    "    df_mov_pct_cut = df_temp[(df_temp['AbsBudgetPercentDiff'] > pct_cut_off) | (df_temp['AbsBudgetPercentDiff'] < -1*pct_cut_off)]\n",
    "\n",
    "    # Remove suggested outliers that lay outside of the bandwidth\n",
    "    data_org = data_org.drop(df_mov_pct_cut.index)\n",
    "    data_org = data_org.reset_index(drop=True)\n",
    "    \n",
    "    print('\\nRemoved: ',len(df_mov_pct_cut),'observations with, {:,.0f}%, cut-off'.format(pct_cut_off))\n",
    "        \n",
    "    print()\n",
    "    print()\n",
    "    \n",
    "    return data_org,df_mov_pct_cut"
   ]
  },
  {
   "cell_type": "code",
   "execution_count": 9,
   "metadata": {
    "ExecuteTime": {
     "end_time": "2020-11-02T18:57:35.383512Z",
     "start_time": "2020-11-02T18:57:35.361082Z"
    }
   },
   "outputs": [
    {
     "name": "stdout",
     "output_type": "stream",
     "text": [
      "\n",
      "Removed:  8 observations with, 2,000%, cut-off\n",
      "\n",
      "\n"
     ]
    },
    {
     "data": {
      "text/html": [
       "<div>\n",
       "<style scoped>\n",
       "    .dataframe tbody tr th:only-of-type {\n",
       "        vertical-align: middle;\n",
       "    }\n",
       "\n",
       "    .dataframe tbody tr th {\n",
       "        vertical-align: top;\n",
       "    }\n",
       "\n",
       "    .dataframe thead th {\n",
       "        text-align: right;\n",
       "    }\n",
       "</style>\n",
       "<table border=\"1\" class=\"dataframe\">\n",
       "  <thead>\n",
       "    <tr style=\"text-align: right;\">\n",
       "      <th></th>\n",
       "      <th>Title</th>\n",
       "      <th>Budget Original</th>\n",
       "      <th>Budget Sequel</th>\n",
       "      <th>MinBudget_SeqOrg</th>\n",
       "      <th>BudgetPercentDiff</th>\n",
       "      <th>AbsBudgetPercentDiff</th>\n",
       "    </tr>\n",
       "  </thead>\n",
       "  <tbody>\n",
       "    <tr>\n",
       "      <th>317</th>\n",
       "      <td>Blair Witch Project</td>\n",
       "      <td>60000.0</td>\n",
       "      <td>15000000.0</td>\n",
       "      <td>60000.0</td>\n",
       "      <td>24900.00</td>\n",
       "      <td>24900.00</td>\n",
       "    </tr>\n",
       "    <tr>\n",
       "      <th>315</th>\n",
       "      <td>Clerks (1994)</td>\n",
       "      <td>27000.0</td>\n",
       "      <td>5000000.0</td>\n",
       "      <td>27000.0</td>\n",
       "      <td>18418.52</td>\n",
       "      <td>18418.52</td>\n",
       "    </tr>\n",
       "    <tr>\n",
       "      <th>497</th>\n",
       "      <td>Fantasia (1940)</td>\n",
       "      <td>2280000.0</td>\n",
       "      <td>80000000.0</td>\n",
       "      <td>2280000.0</td>\n",
       "      <td>3408.77</td>\n",
       "      <td>3408.77</td>\n",
       "    </tr>\n",
       "    <tr>\n",
       "      <th>365</th>\n",
       "      <td>El Mariachi (1992)</td>\n",
       "      <td>208000.0</td>\n",
       "      <td>7000000.0</td>\n",
       "      <td>208000.0</td>\n",
       "      <td>3265.38</td>\n",
       "      <td>3265.38</td>\n",
       "    </tr>\n",
       "    <tr>\n",
       "      <th>322</th>\n",
       "      <td>Bad Lieutenant (1992)</td>\n",
       "      <td>1000000.0</td>\n",
       "      <td>25000000.0</td>\n",
       "      <td>1000000.0</td>\n",
       "      <td>2400.00</td>\n",
       "      <td>2400.00</td>\n",
       "    </tr>\n",
       "    <tr>\n",
       "      <th>404</th>\n",
       "      <td>Mallrats (1995)</td>\n",
       "      <td>6000000.0</td>\n",
       "      <td>250000.0</td>\n",
       "      <td>250000.0</td>\n",
       "      <td>-2300.00</td>\n",
       "      <td>2300.00</td>\n",
       "    </tr>\n",
       "    <tr>\n",
       "      <th>449</th>\n",
       "      <td>Mary Poppins (1964)</td>\n",
       "      <td>6000000.0</td>\n",
       "      <td>130000000.0</td>\n",
       "      <td>6000000.0</td>\n",
       "      <td>2066.67</td>\n",
       "      <td>2066.67</td>\n",
       "    </tr>\n",
       "    <tr>\n",
       "      <th>448</th>\n",
       "      <td>Bhoothnath</td>\n",
       "      <td>210000.0</td>\n",
       "      <td>4522000.0</td>\n",
       "      <td>210000.0</td>\n",
       "      <td>2053.33</td>\n",
       "      <td>2053.33</td>\n",
       "    </tr>\n",
       "  </tbody>\n",
       "</table>\n",
       "</div>"
      ],
      "text/plain": [
       "                     Title  Budget Original  Budget Sequel  MinBudget_SeqOrg  \\\n",
       "317    Blair Witch Project          60000.0     15000000.0           60000.0   \n",
       "315          Clerks (1994)          27000.0      5000000.0           27000.0   \n",
       "497        Fantasia (1940)        2280000.0     80000000.0         2280000.0   \n",
       "365     El Mariachi (1992)         208000.0      7000000.0          208000.0   \n",
       "322  Bad Lieutenant (1992)        1000000.0     25000000.0         1000000.0   \n",
       "404        Mallrats (1995)        6000000.0       250000.0          250000.0   \n",
       "449    Mary Poppins (1964)        6000000.0    130000000.0         6000000.0   \n",
       "448             Bhoothnath         210000.0      4522000.0          210000.0   \n",
       "\n",
       "     BudgetPercentDiff  AbsBudgetPercentDiff  \n",
       "317           24900.00              24900.00  \n",
       "315           18418.52              18418.52  \n",
       "497            3408.77               3408.77  \n",
       "365            3265.38               3265.38  \n",
       "322            2400.00               2400.00  \n",
       "404           -2300.00               2300.00  \n",
       "449            2066.67               2066.67  \n",
       "448            2053.33               2053.33  "
      ]
     },
     "execution_count": 9,
     "metadata": {},
     "output_type": "execute_result"
    }
   ],
   "source": [
    "df_org,df_filetered_movies = remove_outliers_budgets(df_org,df_seq,pct_cut_off)\n",
    "\n",
    "#df_org.drop(index=69,inplace=True)\n",
    "#df_seq.drop(index=69,inplace=True)\n",
    "\n",
    "#df_org.drop(index=79,inplace=True)\n",
    "#df_seq.drop(index=79,inplace=True)\n",
    "\n",
    "df_org = df_org.reset_index(drop=True)\n",
    "df_seq = df_seq.reset_index(drop=True)\n",
    "\n",
    "\n",
    "# Assign the target variable\n",
    "y = df_org['target']\n",
    "\n",
    "df_filetered_movies.sort_values(by='AbsBudgetPercentDiff',ascending=False)"
   ]
  },
  {
   "cell_type": "raw",
   "metadata": {
    "ExecuteTime": {
     "end_time": "2020-11-02T06:23:33.300916Z",
     "start_time": "2020-11-02T06:23:33.296156Z"
    }
   },
   "source": [
    "df_org.drop(index=69,inplace=True)\n",
    "df_seq.drop(index=69,inplace=True)\n",
    "\n",
    "df_org = df_org.reset_index(drop=True)\n",
    "df_seq = df_seq.reset_index(drop=True)"
   ]
  },
  {
   "cell_type": "code",
   "execution_count": 10,
   "metadata": {
    "ExecuteTime": {
     "end_time": "2020-11-02T18:57:35.392924Z",
     "start_time": "2020-11-02T18:57:35.385277Z"
    }
   },
   "outputs": [
    {
     "name": "stdout",
     "output_type": "stream",
     "text": [
      "<class 'pandas.core.frame.DataFrame'>\n",
      "RangeIndex: 531 entries, 0 to 530\n",
      "Data columns (total 15 columns):\n",
      " #   Column           Non-Null Count  Dtype         \n",
      "---  ------           --------------  -----         \n",
      " 0   Title            531 non-null    object        \n",
      " 1   url              531 non-null    object        \n",
      " 2   IMDB Score       531 non-null    float64       \n",
      " 3   Metacritic       498 non-null    float64       \n",
      " 4   Runtime (mins)   531 non-null    int64         \n",
      " 5   Budget           531 non-null    float64       \n",
      " 6   Opening Weekend  468 non-null    float64       \n",
      " 7   Gross USA        500 non-null    float64       \n",
      " 8   Gross World      531 non-null    float64       \n",
      " 9   Release Date     531 non-null    datetime64[ns]\n",
      " 10  Rating           531 non-null    object        \n",
      " 11  Genres           531 non-null    object        \n",
      " 12  Country          531 non-null    object        \n",
      " 13  target           531 non-null    float64       \n",
      " 14  RuntimeSeq       531 non-null    int64         \n",
      "dtypes: datetime64[ns](1), float64(7), int64(2), object(5)\n",
      "memory usage: 62.4+ KB\n"
     ]
    }
   ],
   "source": [
    "df_org.info()"
   ]
  },
  {
   "cell_type": "code",
   "execution_count": null,
   "metadata": {},
   "outputs": [],
   "source": []
  },
  {
   "cell_type": "markdown",
   "metadata": {},
   "source": [
    "### Drop Features"
   ]
  },
  {
   "cell_type": "code",
   "execution_count": 11,
   "metadata": {
    "ExecuteTime": {
     "end_time": "2020-11-02T18:57:35.399015Z",
     "start_time": "2020-11-02T18:57:35.394576Z"
    }
   },
   "outputs": [],
   "source": [
    "cols_to_drop = ['Title','url','Metacritic','Opening Weekend', 'Gross USA','Country','target']\n",
    "\n",
    "# Add box office returns of its sequel\n",
    "\n",
    "df_org['GrossSeq'] = df_seq['Gross World']\n",
    "\n",
    "df_org.drop(cols_to_drop,axis=1,inplace=True)"
   ]
  },
  {
   "cell_type": "code",
   "execution_count": 12,
   "metadata": {
    "ExecuteTime": {
     "end_time": "2020-11-02T18:57:35.410407Z",
     "start_time": "2020-11-02T18:57:35.400431Z"
    }
   },
   "outputs": [
    {
     "data": {
      "text/html": [
       "<div>\n",
       "<style scoped>\n",
       "    .dataframe tbody tr th:only-of-type {\n",
       "        vertical-align: middle;\n",
       "    }\n",
       "\n",
       "    .dataframe tbody tr th {\n",
       "        vertical-align: top;\n",
       "    }\n",
       "\n",
       "    .dataframe thead th {\n",
       "        text-align: right;\n",
       "    }\n",
       "</style>\n",
       "<table border=\"1\" class=\"dataframe\">\n",
       "  <thead>\n",
       "    <tr style=\"text-align: right;\">\n",
       "      <th></th>\n",
       "      <th>IMDB Score</th>\n",
       "      <th>Runtime (mins)</th>\n",
       "      <th>Budget</th>\n",
       "      <th>Gross World</th>\n",
       "      <th>Release Date</th>\n",
       "      <th>Rating</th>\n",
       "      <th>Genres</th>\n",
       "      <th>RuntimeSeq</th>\n",
       "      <th>GrossSeq</th>\n",
       "    </tr>\n",
       "  </thead>\n",
       "  <tbody>\n",
       "    <tr>\n",
       "      <th>0</th>\n",
       "      <td>7.3</td>\n",
       "      <td>121</td>\n",
       "      <td>139000000.0</td>\n",
       "      <td>8.250250e+08</td>\n",
       "      <td>2002-05-03</td>\n",
       "      <td>PG-13</td>\n",
       "      <td>Action Adventure Sci-Fi</td>\n",
       "      <td>127</td>\n",
       "      <td>7.889765e+08</td>\n",
       "    </tr>\n",
       "    <tr>\n",
       "      <th>1</th>\n",
       "      <td>8.7</td>\n",
       "      <td>136</td>\n",
       "      <td>63000000.0</td>\n",
       "      <td>4.653438e+08</td>\n",
       "      <td>1999-03-31</td>\n",
       "      <td>R</td>\n",
       "      <td>Action Sci-Fi</td>\n",
       "      <td>138</td>\n",
       "      <td>7.418465e+08</td>\n",
       "    </tr>\n",
       "    <tr>\n",
       "      <th>2</th>\n",
       "      <td>8.8</td>\n",
       "      <td>178</td>\n",
       "      <td>93000000.0</td>\n",
       "      <td>8.878328e+08</td>\n",
       "      <td>2001-12-19</td>\n",
       "      <td>PG-13</td>\n",
       "      <td>Action Adventure Drama</td>\n",
       "      <td>179</td>\n",
       "      <td>9.512081e+08</td>\n",
       "    </tr>\n",
       "    <tr>\n",
       "      <th>3</th>\n",
       "      <td>8.9</td>\n",
       "      <td>201</td>\n",
       "      <td>94000000.0</td>\n",
       "      <td>1.142219e+09</td>\n",
       "      <td>2003-12-17</td>\n",
       "      <td>PG-13</td>\n",
       "      <td>Adventure Drama Fantasy</td>\n",
       "      <td>169</td>\n",
       "      <td>1.017004e+09</td>\n",
       "    </tr>\n",
       "    <tr>\n",
       "      <th>4</th>\n",
       "      <td>7.8</td>\n",
       "      <td>161</td>\n",
       "      <td>225000000.0</td>\n",
       "      <td>9.583669e+08</td>\n",
       "      <td>2013-12-13</td>\n",
       "      <td>PG-13</td>\n",
       "      <td>Adventure Fantasy</td>\n",
       "      <td>144</td>\n",
       "      <td>9.560198e+08</td>\n",
       "    </tr>\n",
       "  </tbody>\n",
       "</table>\n",
       "</div>"
      ],
      "text/plain": [
       "   IMDB Score  Runtime (mins)       Budget   Gross World Release Date Rating  \\\n",
       "0         7.3             121  139000000.0  8.250250e+08   2002-05-03  PG-13   \n",
       "1         8.7             136   63000000.0  4.653438e+08   1999-03-31      R   \n",
       "2         8.8             178   93000000.0  8.878328e+08   2001-12-19  PG-13   \n",
       "3         8.9             201   94000000.0  1.142219e+09   2003-12-17  PG-13   \n",
       "4         7.8             161  225000000.0  9.583669e+08   2013-12-13  PG-13   \n",
       "\n",
       "                    Genres  RuntimeSeq      GrossSeq  \n",
       "0  Action Adventure Sci-Fi         127  7.889765e+08  \n",
       "1            Action Sci-Fi         138  7.418465e+08  \n",
       "2   Action Adventure Drama         179  9.512081e+08  \n",
       "3  Adventure Drama Fantasy         169  1.017004e+09  \n",
       "4        Adventure Fantasy         144  9.560198e+08  "
      ]
     },
     "execution_count": 12,
     "metadata": {},
     "output_type": "execute_result"
    }
   ],
   "source": [
    "df_org.head()"
   ]
  },
  {
   "cell_type": "markdown",
   "metadata": {},
   "source": [
    "### One-Hot-Encoding"
   ]
  },
  {
   "cell_type": "code",
   "execution_count": 13,
   "metadata": {
    "ExecuteTime": {
     "end_time": "2020-11-02T18:57:35.418564Z",
     "start_time": "2020-11-02T18:57:35.411971Z"
    }
   },
   "outputs": [
    {
     "data": {
      "text/html": [
       "<div>\n",
       "<style scoped>\n",
       "    .dataframe tbody tr th:only-of-type {\n",
       "        vertical-align: middle;\n",
       "    }\n",
       "\n",
       "    .dataframe tbody tr th {\n",
       "        vertical-align: top;\n",
       "    }\n",
       "\n",
       "    .dataframe thead th {\n",
       "        text-align: right;\n",
       "    }\n",
       "</style>\n",
       "<table border=\"1\" class=\"dataframe\">\n",
       "  <thead>\n",
       "    <tr style=\"text-align: right;\">\n",
       "      <th></th>\n",
       "      <th>r_G</th>\n",
       "      <th>r_PG</th>\n",
       "      <th>r_PG-13</th>\n",
       "      <th>r_R</th>\n",
       "    </tr>\n",
       "  </thead>\n",
       "  <tbody>\n",
       "    <tr>\n",
       "      <th>0</th>\n",
       "      <td>0</td>\n",
       "      <td>0</td>\n",
       "      <td>1</td>\n",
       "      <td>0</td>\n",
       "    </tr>\n",
       "    <tr>\n",
       "      <th>1</th>\n",
       "      <td>0</td>\n",
       "      <td>0</td>\n",
       "      <td>0</td>\n",
       "      <td>1</td>\n",
       "    </tr>\n",
       "    <tr>\n",
       "      <th>2</th>\n",
       "      <td>0</td>\n",
       "      <td>0</td>\n",
       "      <td>1</td>\n",
       "      <td>0</td>\n",
       "    </tr>\n",
       "    <tr>\n",
       "      <th>3</th>\n",
       "      <td>0</td>\n",
       "      <td>0</td>\n",
       "      <td>1</td>\n",
       "      <td>0</td>\n",
       "    </tr>\n",
       "    <tr>\n",
       "      <th>4</th>\n",
       "      <td>0</td>\n",
       "      <td>0</td>\n",
       "      <td>1</td>\n",
       "      <td>0</td>\n",
       "    </tr>\n",
       "  </tbody>\n",
       "</table>\n",
       "</div>"
      ],
      "text/plain": [
       "   r_G  r_PG  r_PG-13  r_R\n",
       "0    0     0        1    0\n",
       "1    0     0        0    1\n",
       "2    0     0        1    0\n",
       "3    0     0        1    0\n",
       "4    0     0        1    0"
      ]
     },
     "execution_count": 13,
     "metadata": {},
     "output_type": "execute_result"
    }
   ],
   "source": [
    "df_rating = pd.get_dummies(df_org['Rating'],prefix = 'r', drop_first=False)\n",
    "\n",
    "df_rating.head()"
   ]
  },
  {
   "cell_type": "code",
   "execution_count": 14,
   "metadata": {
    "ExecuteTime": {
     "end_time": "2020-11-02T18:57:35.440231Z",
     "start_time": "2020-11-02T18:57:35.419909Z"
    }
   },
   "outputs": [
    {
     "data": {
      "text/html": [
       "<div>\n",
       "<style scoped>\n",
       "    .dataframe tbody tr th:only-of-type {\n",
       "        vertical-align: middle;\n",
       "    }\n",
       "\n",
       "    .dataframe tbody tr th {\n",
       "        vertical-align: top;\n",
       "    }\n",
       "\n",
       "    .dataframe thead th {\n",
       "        text-align: right;\n",
       "    }\n",
       "</style>\n",
       "<table border=\"1\" class=\"dataframe\">\n",
       "  <thead>\n",
       "    <tr style=\"text-align: right;\">\n",
       "      <th></th>\n",
       "      <th>g_Action</th>\n",
       "      <th>g_Adventure</th>\n",
       "      <th>g_Animation</th>\n",
       "      <th>g_Biography</th>\n",
       "      <th>g_Comedy</th>\n",
       "      <th>g_Crime</th>\n",
       "      <th>g_Documentary</th>\n",
       "      <th>g_Drama</th>\n",
       "      <th>g_Family</th>\n",
       "      <th>g_Fantasy</th>\n",
       "      <th>...</th>\n",
       "      <th>g_Horror</th>\n",
       "      <th>g_Music</th>\n",
       "      <th>g_Musical</th>\n",
       "      <th>g_Mystery</th>\n",
       "      <th>g_Romance</th>\n",
       "      <th>g_Sci-Fi</th>\n",
       "      <th>g_Sport</th>\n",
       "      <th>g_Thriller</th>\n",
       "      <th>g_War</th>\n",
       "      <th>g_Western</th>\n",
       "    </tr>\n",
       "  </thead>\n",
       "  <tbody>\n",
       "    <tr>\n",
       "      <th>0</th>\n",
       "      <td>1</td>\n",
       "      <td>1</td>\n",
       "      <td>0</td>\n",
       "      <td>0</td>\n",
       "      <td>0</td>\n",
       "      <td>0</td>\n",
       "      <td>0</td>\n",
       "      <td>0</td>\n",
       "      <td>0</td>\n",
       "      <td>0</td>\n",
       "      <td>...</td>\n",
       "      <td>0</td>\n",
       "      <td>0</td>\n",
       "      <td>0</td>\n",
       "      <td>0</td>\n",
       "      <td>0</td>\n",
       "      <td>1</td>\n",
       "      <td>0</td>\n",
       "      <td>0</td>\n",
       "      <td>0</td>\n",
       "      <td>0</td>\n",
       "    </tr>\n",
       "    <tr>\n",
       "      <th>1</th>\n",
       "      <td>1</td>\n",
       "      <td>0</td>\n",
       "      <td>0</td>\n",
       "      <td>0</td>\n",
       "      <td>0</td>\n",
       "      <td>0</td>\n",
       "      <td>0</td>\n",
       "      <td>0</td>\n",
       "      <td>0</td>\n",
       "      <td>0</td>\n",
       "      <td>...</td>\n",
       "      <td>0</td>\n",
       "      <td>0</td>\n",
       "      <td>0</td>\n",
       "      <td>0</td>\n",
       "      <td>0</td>\n",
       "      <td>1</td>\n",
       "      <td>0</td>\n",
       "      <td>0</td>\n",
       "      <td>0</td>\n",
       "      <td>0</td>\n",
       "    </tr>\n",
       "    <tr>\n",
       "      <th>2</th>\n",
       "      <td>1</td>\n",
       "      <td>1</td>\n",
       "      <td>0</td>\n",
       "      <td>0</td>\n",
       "      <td>0</td>\n",
       "      <td>0</td>\n",
       "      <td>0</td>\n",
       "      <td>1</td>\n",
       "      <td>0</td>\n",
       "      <td>0</td>\n",
       "      <td>...</td>\n",
       "      <td>0</td>\n",
       "      <td>0</td>\n",
       "      <td>0</td>\n",
       "      <td>0</td>\n",
       "      <td>0</td>\n",
       "      <td>0</td>\n",
       "      <td>0</td>\n",
       "      <td>0</td>\n",
       "      <td>0</td>\n",
       "      <td>0</td>\n",
       "    </tr>\n",
       "    <tr>\n",
       "      <th>3</th>\n",
       "      <td>0</td>\n",
       "      <td>1</td>\n",
       "      <td>0</td>\n",
       "      <td>0</td>\n",
       "      <td>0</td>\n",
       "      <td>0</td>\n",
       "      <td>0</td>\n",
       "      <td>1</td>\n",
       "      <td>0</td>\n",
       "      <td>1</td>\n",
       "      <td>...</td>\n",
       "      <td>0</td>\n",
       "      <td>0</td>\n",
       "      <td>0</td>\n",
       "      <td>0</td>\n",
       "      <td>0</td>\n",
       "      <td>0</td>\n",
       "      <td>0</td>\n",
       "      <td>0</td>\n",
       "      <td>0</td>\n",
       "      <td>0</td>\n",
       "    </tr>\n",
       "    <tr>\n",
       "      <th>4</th>\n",
       "      <td>0</td>\n",
       "      <td>1</td>\n",
       "      <td>0</td>\n",
       "      <td>0</td>\n",
       "      <td>0</td>\n",
       "      <td>0</td>\n",
       "      <td>0</td>\n",
       "      <td>0</td>\n",
       "      <td>0</td>\n",
       "      <td>1</td>\n",
       "      <td>...</td>\n",
       "      <td>0</td>\n",
       "      <td>0</td>\n",
       "      <td>0</td>\n",
       "      <td>0</td>\n",
       "      <td>0</td>\n",
       "      <td>0</td>\n",
       "      <td>0</td>\n",
       "      <td>0</td>\n",
       "      <td>0</td>\n",
       "      <td>0</td>\n",
       "    </tr>\n",
       "  </tbody>\n",
       "</table>\n",
       "<p>5 rows × 21 columns</p>\n",
       "</div>"
      ],
      "text/plain": [
       "   g_Action  g_Adventure  g_Animation  g_Biography  g_Comedy  g_Crime  \\\n",
       "0         1            1            0            0         0        0   \n",
       "1         1            0            0            0         0        0   \n",
       "2         1            1            0            0         0        0   \n",
       "3         0            1            0            0         0        0   \n",
       "4         0            1            0            0         0        0   \n",
       "\n",
       "   g_Documentary  g_Drama  g_Family  g_Fantasy  ...  g_Horror  g_Music  \\\n",
       "0              0        0         0          0  ...         0        0   \n",
       "1              0        0         0          0  ...         0        0   \n",
       "2              0        1         0          0  ...         0        0   \n",
       "3              0        1         0          1  ...         0        0   \n",
       "4              0        0         0          1  ...         0        0   \n",
       "\n",
       "   g_Musical  g_Mystery  g_Romance  g_Sci-Fi  g_Sport  g_Thriller  g_War  \\\n",
       "0          0          0          0         1        0           0      0   \n",
       "1          0          0          0         1        0           0      0   \n",
       "2          0          0          0         0        0           0      0   \n",
       "3          0          0          0         0        0           0      0   \n",
       "4          0          0          0         0        0           0      0   \n",
       "\n",
       "   g_Western  \n",
       "0          0  \n",
       "1          0  \n",
       "2          0  \n",
       "3          0  \n",
       "4          0  \n",
       "\n",
       "[5 rows x 21 columns]"
      ]
     },
     "execution_count": 14,
     "metadata": {},
     "output_type": "execute_result"
    }
   ],
   "source": [
    "# Nice tip from Jeremy Cunningham\n",
    "df_genres_temp = df_org.Genres.str.split(' ', expand=True).stack()\n",
    "\n",
    "df_genres = pd.get_dummies(df_genres_temp, prefix='g').groupby(level=0).max()\n",
    "\n",
    "df_genres = df_genres.reset_index()\n",
    "\n",
    "df_genres.drop(['index'],axis=1,inplace=True)\n",
    "\n",
    "df_genres.head()"
   ]
  },
  {
   "cell_type": "code",
   "execution_count": 15,
   "metadata": {
    "ExecuteTime": {
     "end_time": "2020-11-02T18:57:35.454526Z",
     "start_time": "2020-11-02T18:57:35.441524Z"
    }
   },
   "outputs": [
    {
     "data": {
      "text/html": [
       "<div>\n",
       "<style scoped>\n",
       "    .dataframe tbody tr th:only-of-type {\n",
       "        vertical-align: middle;\n",
       "    }\n",
       "\n",
       "    .dataframe tbody tr th {\n",
       "        vertical-align: top;\n",
       "    }\n",
       "\n",
       "    .dataframe thead th {\n",
       "        text-align: right;\n",
       "    }\n",
       "</style>\n",
       "<table border=\"1\" class=\"dataframe\">\n",
       "  <thead>\n",
       "    <tr style=\"text-align: right;\">\n",
       "      <th></th>\n",
       "      <th>r_G</th>\n",
       "      <th>r_PG</th>\n",
       "      <th>r_PG-13</th>\n",
       "      <th>r_R</th>\n",
       "      <th>g_Action</th>\n",
       "      <th>g_Adventure</th>\n",
       "      <th>g_Animation</th>\n",
       "      <th>g_Biography</th>\n",
       "      <th>g_Comedy</th>\n",
       "      <th>g_Crime</th>\n",
       "      <th>...</th>\n",
       "      <th>g_Horror</th>\n",
       "      <th>g_Music</th>\n",
       "      <th>g_Musical</th>\n",
       "      <th>g_Mystery</th>\n",
       "      <th>g_Romance</th>\n",
       "      <th>g_Sci-Fi</th>\n",
       "      <th>g_Sport</th>\n",
       "      <th>g_Thriller</th>\n",
       "      <th>g_War</th>\n",
       "      <th>g_Western</th>\n",
       "    </tr>\n",
       "  </thead>\n",
       "  <tbody>\n",
       "    <tr>\n",
       "      <th>0</th>\n",
       "      <td>0</td>\n",
       "      <td>0</td>\n",
       "      <td>1</td>\n",
       "      <td>0</td>\n",
       "      <td>1</td>\n",
       "      <td>1</td>\n",
       "      <td>0</td>\n",
       "      <td>0</td>\n",
       "      <td>0</td>\n",
       "      <td>0</td>\n",
       "      <td>...</td>\n",
       "      <td>0</td>\n",
       "      <td>0</td>\n",
       "      <td>0</td>\n",
       "      <td>0</td>\n",
       "      <td>0</td>\n",
       "      <td>1</td>\n",
       "      <td>0</td>\n",
       "      <td>0</td>\n",
       "      <td>0</td>\n",
       "      <td>0</td>\n",
       "    </tr>\n",
       "    <tr>\n",
       "      <th>1</th>\n",
       "      <td>0</td>\n",
       "      <td>0</td>\n",
       "      <td>0</td>\n",
       "      <td>1</td>\n",
       "      <td>1</td>\n",
       "      <td>0</td>\n",
       "      <td>0</td>\n",
       "      <td>0</td>\n",
       "      <td>0</td>\n",
       "      <td>0</td>\n",
       "      <td>...</td>\n",
       "      <td>0</td>\n",
       "      <td>0</td>\n",
       "      <td>0</td>\n",
       "      <td>0</td>\n",
       "      <td>0</td>\n",
       "      <td>1</td>\n",
       "      <td>0</td>\n",
       "      <td>0</td>\n",
       "      <td>0</td>\n",
       "      <td>0</td>\n",
       "    </tr>\n",
       "    <tr>\n",
       "      <th>2</th>\n",
       "      <td>0</td>\n",
       "      <td>0</td>\n",
       "      <td>1</td>\n",
       "      <td>0</td>\n",
       "      <td>1</td>\n",
       "      <td>1</td>\n",
       "      <td>0</td>\n",
       "      <td>0</td>\n",
       "      <td>0</td>\n",
       "      <td>0</td>\n",
       "      <td>...</td>\n",
       "      <td>0</td>\n",
       "      <td>0</td>\n",
       "      <td>0</td>\n",
       "      <td>0</td>\n",
       "      <td>0</td>\n",
       "      <td>0</td>\n",
       "      <td>0</td>\n",
       "      <td>0</td>\n",
       "      <td>0</td>\n",
       "      <td>0</td>\n",
       "    </tr>\n",
       "    <tr>\n",
       "      <th>3</th>\n",
       "      <td>0</td>\n",
       "      <td>0</td>\n",
       "      <td>1</td>\n",
       "      <td>0</td>\n",
       "      <td>0</td>\n",
       "      <td>1</td>\n",
       "      <td>0</td>\n",
       "      <td>0</td>\n",
       "      <td>0</td>\n",
       "      <td>0</td>\n",
       "      <td>...</td>\n",
       "      <td>0</td>\n",
       "      <td>0</td>\n",
       "      <td>0</td>\n",
       "      <td>0</td>\n",
       "      <td>0</td>\n",
       "      <td>0</td>\n",
       "      <td>0</td>\n",
       "      <td>0</td>\n",
       "      <td>0</td>\n",
       "      <td>0</td>\n",
       "    </tr>\n",
       "    <tr>\n",
       "      <th>4</th>\n",
       "      <td>0</td>\n",
       "      <td>0</td>\n",
       "      <td>1</td>\n",
       "      <td>0</td>\n",
       "      <td>0</td>\n",
       "      <td>1</td>\n",
       "      <td>0</td>\n",
       "      <td>0</td>\n",
       "      <td>0</td>\n",
       "      <td>0</td>\n",
       "      <td>...</td>\n",
       "      <td>0</td>\n",
       "      <td>0</td>\n",
       "      <td>0</td>\n",
       "      <td>0</td>\n",
       "      <td>0</td>\n",
       "      <td>0</td>\n",
       "      <td>0</td>\n",
       "      <td>0</td>\n",
       "      <td>0</td>\n",
       "      <td>0</td>\n",
       "    </tr>\n",
       "  </tbody>\n",
       "</table>\n",
       "<p>5 rows × 25 columns</p>\n",
       "</div>"
      ],
      "text/plain": [
       "   r_G  r_PG  r_PG-13  r_R  g_Action  g_Adventure  g_Animation  g_Biography  \\\n",
       "0    0     0        1    0         1            1            0            0   \n",
       "1    0     0        0    1         1            0            0            0   \n",
       "2    0     0        1    0         1            1            0            0   \n",
       "3    0     0        1    0         0            1            0            0   \n",
       "4    0     0        1    0         0            1            0            0   \n",
       "\n",
       "   g_Comedy  g_Crime  ...  g_Horror  g_Music  g_Musical  g_Mystery  g_Romance  \\\n",
       "0         0        0  ...         0        0          0          0          0   \n",
       "1         0        0  ...         0        0          0          0          0   \n",
       "2         0        0  ...         0        0          0          0          0   \n",
       "3         0        0  ...         0        0          0          0          0   \n",
       "4         0        0  ...         0        0          0          0          0   \n",
       "\n",
       "   g_Sci-Fi  g_Sport  g_Thriller  g_War  g_Western  \n",
       "0         1        0           0      0          0  \n",
       "1         1        0           0      0          0  \n",
       "2         0        0           0      0          0  \n",
       "3         0        0           0      0          0  \n",
       "4         0        0           0      0          0  \n",
       "\n",
       "[5 rows x 25 columns]"
      ]
     },
     "execution_count": 15,
     "metadata": {},
     "output_type": "execute_result"
    }
   ],
   "source": [
    "# Combine the two\n",
    "df_ratings_genres = pd.concat([df_rating, df_genres], axis=1)\n",
    "\n",
    "df_ratings_genres.head()"
   ]
  },
  {
   "cell_type": "markdown",
   "metadata": {},
   "source": [
    "### Dates"
   ]
  },
  {
   "cell_type": "code",
   "execution_count": 16,
   "metadata": {
    "ExecuteTime": {
     "end_time": "2020-11-02T18:57:35.465975Z",
     "start_time": "2020-11-02T18:57:35.456508Z"
    }
   },
   "outputs": [],
   "source": [
    "df_org['deltaYears'] = diff_time\n",
    "\n",
    "df_org['MonthOrg'] = df_org['Release Date'].dt.month\n",
    "df_org['DOWOrg']   = df_org['Release Date'].dt.dayofweek\n",
    "df_org['DayOrg']   = df_org['Release Date'].dt.day\n",
    "\n",
    "df_org['MonthSeq'] = df_seq['Release Date'].dt.month\n",
    "df_org['DOWSeq']   = df_seq['Release Date'].dt.dayofweek\n",
    "df_org['DaySeq']   = df_seq['Release Date'].dt.day"
   ]
  },
  {
   "cell_type": "code",
   "execution_count": 17,
   "metadata": {
    "ExecuteTime": {
     "end_time": "2020-11-02T18:57:35.481113Z",
     "start_time": "2020-11-02T18:57:35.467751Z"
    }
   },
   "outputs": [
    {
     "data": {
      "text/html": [
       "<div>\n",
       "<style scoped>\n",
       "    .dataframe tbody tr th:only-of-type {\n",
       "        vertical-align: middle;\n",
       "    }\n",
       "\n",
       "    .dataframe tbody tr th {\n",
       "        vertical-align: top;\n",
       "    }\n",
       "\n",
       "    .dataframe thead th {\n",
       "        text-align: right;\n",
       "    }\n",
       "</style>\n",
       "<table border=\"1\" class=\"dataframe\">\n",
       "  <thead>\n",
       "    <tr style=\"text-align: right;\">\n",
       "      <th></th>\n",
       "      <th>IMDB Score</th>\n",
       "      <th>Runtime (mins)</th>\n",
       "      <th>Budget</th>\n",
       "      <th>Gross World</th>\n",
       "      <th>Release Date</th>\n",
       "      <th>Rating</th>\n",
       "      <th>Genres</th>\n",
       "      <th>RuntimeSeq</th>\n",
       "      <th>GrossSeq</th>\n",
       "      <th>deltaYears</th>\n",
       "      <th>MonthOrg</th>\n",
       "      <th>DOWOrg</th>\n",
       "      <th>DayOrg</th>\n",
       "      <th>MonthSeq</th>\n",
       "      <th>DOWSeq</th>\n",
       "      <th>DaySeq</th>\n",
       "    </tr>\n",
       "  </thead>\n",
       "  <tbody>\n",
       "    <tr>\n",
       "      <th>0</th>\n",
       "      <td>7.3</td>\n",
       "      <td>121</td>\n",
       "      <td>139000000.0</td>\n",
       "      <td>8.250250e+08</td>\n",
       "      <td>2002-05-03</td>\n",
       "      <td>PG-13</td>\n",
       "      <td>Action Adventure Sci-Fi</td>\n",
       "      <td>127</td>\n",
       "      <td>7.889765e+08</td>\n",
       "      <td>2.160209</td>\n",
       "      <td>5</td>\n",
       "      <td>4</td>\n",
       "      <td>3</td>\n",
       "      <td>6</td>\n",
       "      <td>2</td>\n",
       "      <td>30</td>\n",
       "    </tr>\n",
       "    <tr>\n",
       "      <th>1</th>\n",
       "      <td>8.7</td>\n",
       "      <td>136</td>\n",
       "      <td>63000000.0</td>\n",
       "      <td>4.653438e+08</td>\n",
       "      <td>1999-03-31</td>\n",
       "      <td>R</td>\n",
       "      <td>Action Sci-Fi</td>\n",
       "      <td>138</td>\n",
       "      <td>7.418465e+08</td>\n",
       "      <td>4.123288</td>\n",
       "      <td>3</td>\n",
       "      <td>2</td>\n",
       "      <td>31</td>\n",
       "      <td>5</td>\n",
       "      <td>3</td>\n",
       "      <td>15</td>\n",
       "    </tr>\n",
       "    <tr>\n",
       "      <th>2</th>\n",
       "      <td>8.8</td>\n",
       "      <td>178</td>\n",
       "      <td>93000000.0</td>\n",
       "      <td>8.878328e+08</td>\n",
       "      <td>2001-12-19</td>\n",
       "      <td>PG-13</td>\n",
       "      <td>Action Adventure Drama</td>\n",
       "      <td>179</td>\n",
       "      <td>9.512081e+08</td>\n",
       "      <td>0.996598</td>\n",
       "      <td>12</td>\n",
       "      <td>2</td>\n",
       "      <td>19</td>\n",
       "      <td>12</td>\n",
       "      <td>2</td>\n",
       "      <td>18</td>\n",
       "    </tr>\n",
       "    <tr>\n",
       "      <th>3</th>\n",
       "      <td>8.9</td>\n",
       "      <td>201</td>\n",
       "      <td>94000000.0</td>\n",
       "      <td>1.142219e+09</td>\n",
       "      <td>2003-12-17</td>\n",
       "      <td>PG-13</td>\n",
       "      <td>Adventure Drama Fantasy</td>\n",
       "      <td>169</td>\n",
       "      <td>1.017004e+09</td>\n",
       "      <td>8.994025</td>\n",
       "      <td>12</td>\n",
       "      <td>2</td>\n",
       "      <td>17</td>\n",
       "      <td>12</td>\n",
       "      <td>4</td>\n",
       "      <td>14</td>\n",
       "    </tr>\n",
       "    <tr>\n",
       "      <th>4</th>\n",
       "      <td>7.8</td>\n",
       "      <td>161</td>\n",
       "      <td>225000000.0</td>\n",
       "      <td>9.583669e+08</td>\n",
       "      <td>2013-12-13</td>\n",
       "      <td>PG-13</td>\n",
       "      <td>Adventure Fantasy</td>\n",
       "      <td>144</td>\n",
       "      <td>9.560198e+08</td>\n",
       "      <td>1.010288</td>\n",
       "      <td>12</td>\n",
       "      <td>4</td>\n",
       "      <td>13</td>\n",
       "      <td>12</td>\n",
       "      <td>2</td>\n",
       "      <td>17</td>\n",
       "    </tr>\n",
       "  </tbody>\n",
       "</table>\n",
       "</div>"
      ],
      "text/plain": [
       "   IMDB Score  Runtime (mins)       Budget   Gross World Release Date Rating  \\\n",
       "0         7.3             121  139000000.0  8.250250e+08   2002-05-03  PG-13   \n",
       "1         8.7             136   63000000.0  4.653438e+08   1999-03-31      R   \n",
       "2         8.8             178   93000000.0  8.878328e+08   2001-12-19  PG-13   \n",
       "3         8.9             201   94000000.0  1.142219e+09   2003-12-17  PG-13   \n",
       "4         7.8             161  225000000.0  9.583669e+08   2013-12-13  PG-13   \n",
       "\n",
       "                    Genres  RuntimeSeq      GrossSeq  deltaYears  MonthOrg  \\\n",
       "0  Action Adventure Sci-Fi         127  7.889765e+08    2.160209         5   \n",
       "1            Action Sci-Fi         138  7.418465e+08    4.123288         3   \n",
       "2   Action Adventure Drama         179  9.512081e+08    0.996598        12   \n",
       "3  Adventure Drama Fantasy         169  1.017004e+09    8.994025        12   \n",
       "4        Adventure Fantasy         144  9.560198e+08    1.010288        12   \n",
       "\n",
       "   DOWOrg  DayOrg  MonthSeq  DOWSeq  DaySeq  \n",
       "0       4       3         6       2      30  \n",
       "1       2      31         5       3      15  \n",
       "2       2      19        12       2      18  \n",
       "3       2      17        12       4      14  \n",
       "4       4      13        12       2      17  "
      ]
     },
     "execution_count": 17,
     "metadata": {},
     "output_type": "execute_result"
    }
   ],
   "source": [
    "df_org.head()"
   ]
  },
  {
   "cell_type": "code",
   "execution_count": 18,
   "metadata": {
    "ExecuteTime": {
     "end_time": "2020-11-02T18:57:35.495412Z",
     "start_time": "2020-11-02T18:57:35.482736Z"
    }
   },
   "outputs": [
    {
     "data": {
      "text/html": [
       "<div>\n",
       "<style scoped>\n",
       "    .dataframe tbody tr th:only-of-type {\n",
       "        vertical-align: middle;\n",
       "    }\n",
       "\n",
       "    .dataframe tbody tr th {\n",
       "        vertical-align: top;\n",
       "    }\n",
       "\n",
       "    .dataframe thead th {\n",
       "        text-align: right;\n",
       "    }\n",
       "</style>\n",
       "<table border=\"1\" class=\"dataframe\">\n",
       "  <thead>\n",
       "    <tr style=\"text-align: right;\">\n",
       "      <th></th>\n",
       "      <th>IMDB Score</th>\n",
       "      <th>Runtime (mins)</th>\n",
       "      <th>Budget</th>\n",
       "      <th>Gross World</th>\n",
       "      <th>RuntimeSeq</th>\n",
       "      <th>GrossSeq</th>\n",
       "      <th>deltaYears</th>\n",
       "      <th>MonthOrg</th>\n",
       "      <th>DOWOrg</th>\n",
       "      <th>DayOrg</th>\n",
       "      <th>MonthSeq</th>\n",
       "      <th>DOWSeq</th>\n",
       "      <th>DaySeq</th>\n",
       "    </tr>\n",
       "  </thead>\n",
       "  <tbody>\n",
       "    <tr>\n",
       "      <th>0</th>\n",
       "      <td>7.3</td>\n",
       "      <td>121</td>\n",
       "      <td>139000000.0</td>\n",
       "      <td>8.250250e+08</td>\n",
       "      <td>127</td>\n",
       "      <td>7.889765e+08</td>\n",
       "      <td>2.160209</td>\n",
       "      <td>5</td>\n",
       "      <td>4</td>\n",
       "      <td>3</td>\n",
       "      <td>6</td>\n",
       "      <td>2</td>\n",
       "      <td>30</td>\n",
       "    </tr>\n",
       "    <tr>\n",
       "      <th>1</th>\n",
       "      <td>8.7</td>\n",
       "      <td>136</td>\n",
       "      <td>63000000.0</td>\n",
       "      <td>4.653438e+08</td>\n",
       "      <td>138</td>\n",
       "      <td>7.418465e+08</td>\n",
       "      <td>4.123288</td>\n",
       "      <td>3</td>\n",
       "      <td>2</td>\n",
       "      <td>31</td>\n",
       "      <td>5</td>\n",
       "      <td>3</td>\n",
       "      <td>15</td>\n",
       "    </tr>\n",
       "    <tr>\n",
       "      <th>2</th>\n",
       "      <td>8.8</td>\n",
       "      <td>178</td>\n",
       "      <td>93000000.0</td>\n",
       "      <td>8.878328e+08</td>\n",
       "      <td>179</td>\n",
       "      <td>9.512081e+08</td>\n",
       "      <td>0.996598</td>\n",
       "      <td>12</td>\n",
       "      <td>2</td>\n",
       "      <td>19</td>\n",
       "      <td>12</td>\n",
       "      <td>2</td>\n",
       "      <td>18</td>\n",
       "    </tr>\n",
       "    <tr>\n",
       "      <th>3</th>\n",
       "      <td>8.9</td>\n",
       "      <td>201</td>\n",
       "      <td>94000000.0</td>\n",
       "      <td>1.142219e+09</td>\n",
       "      <td>169</td>\n",
       "      <td>1.017004e+09</td>\n",
       "      <td>8.994025</td>\n",
       "      <td>12</td>\n",
       "      <td>2</td>\n",
       "      <td>17</td>\n",
       "      <td>12</td>\n",
       "      <td>4</td>\n",
       "      <td>14</td>\n",
       "    </tr>\n",
       "    <tr>\n",
       "      <th>4</th>\n",
       "      <td>7.8</td>\n",
       "      <td>161</td>\n",
       "      <td>225000000.0</td>\n",
       "      <td>9.583669e+08</td>\n",
       "      <td>144</td>\n",
       "      <td>9.560198e+08</td>\n",
       "      <td>1.010288</td>\n",
       "      <td>12</td>\n",
       "      <td>4</td>\n",
       "      <td>13</td>\n",
       "      <td>12</td>\n",
       "      <td>2</td>\n",
       "      <td>17</td>\n",
       "    </tr>\n",
       "  </tbody>\n",
       "</table>\n",
       "</div>"
      ],
      "text/plain": [
       "   IMDB Score  Runtime (mins)       Budget   Gross World  RuntimeSeq  \\\n",
       "0         7.3             121  139000000.0  8.250250e+08         127   \n",
       "1         8.7             136   63000000.0  4.653438e+08         138   \n",
       "2         8.8             178   93000000.0  8.878328e+08         179   \n",
       "3         8.9             201   94000000.0  1.142219e+09         169   \n",
       "4         7.8             161  225000000.0  9.583669e+08         144   \n",
       "\n",
       "       GrossSeq  deltaYears  MonthOrg  DOWOrg  DayOrg  MonthSeq  DOWSeq  \\\n",
       "0  7.889765e+08    2.160209         5       4       3         6       2   \n",
       "1  7.418465e+08    4.123288         3       2      31         5       3   \n",
       "2  9.512081e+08    0.996598        12       2      19        12       2   \n",
       "3  1.017004e+09    8.994025        12       2      17        12       4   \n",
       "4  9.560198e+08    1.010288        12       4      13        12       2   \n",
       "\n",
       "   DaySeq  \n",
       "0      30  \n",
       "1      15  \n",
       "2      18  \n",
       "3      14  \n",
       "4      17  "
      ]
     },
     "execution_count": 18,
     "metadata": {},
     "output_type": "execute_result"
    }
   ],
   "source": [
    "df_rel_time = df_org[['MonthOrg','DOWOrg','DayOrg']]\n",
    "\n",
    "df_org.drop(['Rating','Genres', 'Release Date'], axis=1, inplace=True)\n",
    "\n",
    "df_org.head()"
   ]
  },
  {
   "cell_type": "code",
   "execution_count": 19,
   "metadata": {
    "ExecuteTime": {
     "end_time": "2020-11-02T18:57:35.502925Z",
     "start_time": "2020-11-02T18:57:35.496866Z"
    }
   },
   "outputs": [
    {
     "name": "stdout",
     "output_type": "stream",
     "text": [
      "<class 'pandas.core.frame.DataFrame'>\n",
      "RangeIndex: 531 entries, 0 to 530\n",
      "Data columns (total 3 columns):\n",
      " #   Column    Non-Null Count  Dtype\n",
      "---  ------    --------------  -----\n",
      " 0   MonthOrg  531 non-null    int64\n",
      " 1   DOWOrg    531 non-null    int64\n",
      " 2   DayOrg    531 non-null    int64\n",
      "dtypes: int64(3)\n",
      "memory usage: 12.6 KB\n"
     ]
    }
   ],
   "source": [
    "df_rel_time = df_rel_time.reset_index(drop=True)\n",
    "df_rel_time.info()"
   ]
  },
  {
   "cell_type": "markdown",
   "metadata": {},
   "source": [
    "### Numeric Columns"
   ]
  },
  {
   "cell_type": "code",
   "execution_count": 20,
   "metadata": {
    "ExecuteTime": {
     "end_time": "2020-11-02T18:57:35.518559Z",
     "start_time": "2020-11-02T18:57:35.504411Z"
    }
   },
   "outputs": [
    {
     "data": {
      "text/html": [
       "<div>\n",
       "<style scoped>\n",
       "    .dataframe tbody tr th:only-of-type {\n",
       "        vertical-align: middle;\n",
       "    }\n",
       "\n",
       "    .dataframe tbody tr th {\n",
       "        vertical-align: top;\n",
       "    }\n",
       "\n",
       "    .dataframe thead th {\n",
       "        text-align: right;\n",
       "    }\n",
       "</style>\n",
       "<table border=\"1\" class=\"dataframe\">\n",
       "  <thead>\n",
       "    <tr style=\"text-align: right;\">\n",
       "      <th></th>\n",
       "      <th>IMDB Score</th>\n",
       "      <th>Runtime (mins)</th>\n",
       "      <th>Budget</th>\n",
       "      <th>Gross World</th>\n",
       "      <th>RuntimeSeq</th>\n",
       "      <th>GrossSeq</th>\n",
       "      <th>deltaYears</th>\n",
       "      <th>MonthOrg</th>\n",
       "      <th>DOWOrg</th>\n",
       "      <th>DayOrg</th>\n",
       "      <th>MonthSeq</th>\n",
       "      <th>DOWSeq</th>\n",
       "      <th>DaySeq</th>\n",
       "      <th>LogBudgetOrg</th>\n",
       "      <th>LogGrossOrg</th>\n",
       "      <th>LogGrossSeq</th>\n",
       "    </tr>\n",
       "  </thead>\n",
       "  <tbody>\n",
       "    <tr>\n",
       "      <th>0</th>\n",
       "      <td>7.3</td>\n",
       "      <td>121</td>\n",
       "      <td>139000000.0</td>\n",
       "      <td>8.250250e+08</td>\n",
       "      <td>127</td>\n",
       "      <td>7.889765e+08</td>\n",
       "      <td>2.160209</td>\n",
       "      <td>5</td>\n",
       "      <td>4</td>\n",
       "      <td>3</td>\n",
       "      <td>6</td>\n",
       "      <td>2</td>\n",
       "      <td>30</td>\n",
       "      <td>18.749984</td>\n",
       "      <td>20.530924</td>\n",
       "      <td>20.486247</td>\n",
       "    </tr>\n",
       "    <tr>\n",
       "      <th>1</th>\n",
       "      <td>8.7</td>\n",
       "      <td>136</td>\n",
       "      <td>63000000.0</td>\n",
       "      <td>4.653438e+08</td>\n",
       "      <td>138</td>\n",
       "      <td>7.418465e+08</td>\n",
       "      <td>4.123288</td>\n",
       "      <td>3</td>\n",
       "      <td>2</td>\n",
       "      <td>31</td>\n",
       "      <td>5</td>\n",
       "      <td>3</td>\n",
       "      <td>15</td>\n",
       "      <td>17.958645</td>\n",
       "      <td>19.958287</td>\n",
       "      <td>20.424653</td>\n",
       "    </tr>\n",
       "    <tr>\n",
       "      <th>2</th>\n",
       "      <td>8.8</td>\n",
       "      <td>178</td>\n",
       "      <td>93000000.0</td>\n",
       "      <td>8.878328e+08</td>\n",
       "      <td>179</td>\n",
       "      <td>9.512081e+08</td>\n",
       "      <td>0.996598</td>\n",
       "      <td>12</td>\n",
       "      <td>2</td>\n",
       "      <td>19</td>\n",
       "      <td>12</td>\n",
       "      <td>2</td>\n",
       "      <td>18</td>\n",
       "      <td>18.348110</td>\n",
       "      <td>20.604294</td>\n",
       "      <td>20.673243</td>\n",
       "    </tr>\n",
       "    <tr>\n",
       "      <th>3</th>\n",
       "      <td>8.9</td>\n",
       "      <td>201</td>\n",
       "      <td>94000000.0</td>\n",
       "      <td>1.142219e+09</td>\n",
       "      <td>169</td>\n",
       "      <td>1.017004e+09</td>\n",
       "      <td>8.994025</td>\n",
       "      <td>12</td>\n",
       "      <td>2</td>\n",
       "      <td>17</td>\n",
       "      <td>12</td>\n",
       "      <td>4</td>\n",
       "      <td>14</td>\n",
       "      <td>18.358805</td>\n",
       "      <td>20.856239</td>\n",
       "      <td>20.740126</td>\n",
       "    </tr>\n",
       "    <tr>\n",
       "      <th>4</th>\n",
       "      <td>7.8</td>\n",
       "      <td>161</td>\n",
       "      <td>225000000.0</td>\n",
       "      <td>9.583669e+08</td>\n",
       "      <td>144</td>\n",
       "      <td>9.560198e+08</td>\n",
       "      <td>1.010288</td>\n",
       "      <td>12</td>\n",
       "      <td>4</td>\n",
       "      <td>13</td>\n",
       "      <td>12</td>\n",
       "      <td>2</td>\n",
       "      <td>17</td>\n",
       "      <td>19.231611</td>\n",
       "      <td>20.680741</td>\n",
       "      <td>20.678289</td>\n",
       "    </tr>\n",
       "  </tbody>\n",
       "</table>\n",
       "</div>"
      ],
      "text/plain": [
       "   IMDB Score  Runtime (mins)       Budget   Gross World  RuntimeSeq  \\\n",
       "0         7.3             121  139000000.0  8.250250e+08         127   \n",
       "1         8.7             136   63000000.0  4.653438e+08         138   \n",
       "2         8.8             178   93000000.0  8.878328e+08         179   \n",
       "3         8.9             201   94000000.0  1.142219e+09         169   \n",
       "4         7.8             161  225000000.0  9.583669e+08         144   \n",
       "\n",
       "       GrossSeq  deltaYears  MonthOrg  DOWOrg  DayOrg  MonthSeq  DOWSeq  \\\n",
       "0  7.889765e+08    2.160209         5       4       3         6       2   \n",
       "1  7.418465e+08    4.123288         3       2      31         5       3   \n",
       "2  9.512081e+08    0.996598        12       2      19        12       2   \n",
       "3  1.017004e+09    8.994025        12       2      17        12       4   \n",
       "4  9.560198e+08    1.010288        12       4      13        12       2   \n",
       "\n",
       "   DaySeq  LogBudgetOrg  LogGrossOrg  LogGrossSeq  \n",
       "0      30     18.749984    20.530924    20.486247  \n",
       "1      15     17.958645    19.958287    20.424653  \n",
       "2      18     18.348110    20.604294    20.673243  \n",
       "3      14     18.358805    20.856239    20.740126  \n",
       "4      17     19.231611    20.680741    20.678289  "
      ]
     },
     "execution_count": 20,
     "metadata": {},
     "output_type": "execute_result"
    }
   ],
   "source": [
    "# Transform Budget and Gross into Log numbers\n",
    "df_org['LogBudgetOrg'] = np.log(df_org['Budget'])\n",
    "df_org['LogGrossOrg']  = np.log(df_org['Gross World'])\n",
    "df_org['LogGrossSeq']  = np.log(df_org['GrossSeq'])\n",
    "\n",
    "#df_org.drop(['Budget','GrossSeq'], axis=1, inplace=True)\n",
    "\n",
    "#df_org.rename(columns = {'Runtime (mins)':'Runtime'}, inplace = True)\n",
    "\n",
    "df_org.head()"
   ]
  },
  {
   "cell_type": "code",
   "execution_count": 21,
   "metadata": {
    "ExecuteTime": {
     "end_time": "2020-11-02T18:57:35.531703Z",
     "start_time": "2020-11-02T18:57:35.519978Z"
    }
   },
   "outputs": [
    {
     "data": {
      "text/html": [
       "<div>\n",
       "<style scoped>\n",
       "    .dataframe tbody tr th:only-of-type {\n",
       "        vertical-align: middle;\n",
       "    }\n",
       "\n",
       "    .dataframe tbody tr th {\n",
       "        vertical-align: top;\n",
       "    }\n",
       "\n",
       "    .dataframe thead th {\n",
       "        text-align: right;\n",
       "    }\n",
       "</style>\n",
       "<table border=\"1\" class=\"dataframe\">\n",
       "  <thead>\n",
       "    <tr style=\"text-align: right;\">\n",
       "      <th></th>\n",
       "      <th>IMDB Score Org</th>\n",
       "      <th>RuntimeOrg</th>\n",
       "      <th>RuntimeSeq</th>\n",
       "      <th>deltaYears</th>\n",
       "      <th>MonthOrg</th>\n",
       "      <th>DOWOrg</th>\n",
       "      <th>DayOrg</th>\n",
       "      <th>MonthSeq</th>\n",
       "      <th>DOWSeq</th>\n",
       "      <th>DaySeq</th>\n",
       "      <th>LogBudgetOrg</th>\n",
       "      <th>LogGrossOrg</th>\n",
       "      <th>LogGrossSeq</th>\n",
       "    </tr>\n",
       "  </thead>\n",
       "  <tbody>\n",
       "    <tr>\n",
       "      <th>0</th>\n",
       "      <td>7.3</td>\n",
       "      <td>121</td>\n",
       "      <td>127</td>\n",
       "      <td>2.160209</td>\n",
       "      <td>5</td>\n",
       "      <td>4</td>\n",
       "      <td>3</td>\n",
       "      <td>6</td>\n",
       "      <td>2</td>\n",
       "      <td>30</td>\n",
       "      <td>18.749984</td>\n",
       "      <td>20.530924</td>\n",
       "      <td>20.486247</td>\n",
       "    </tr>\n",
       "    <tr>\n",
       "      <th>1</th>\n",
       "      <td>8.7</td>\n",
       "      <td>136</td>\n",
       "      <td>138</td>\n",
       "      <td>4.123288</td>\n",
       "      <td>3</td>\n",
       "      <td>2</td>\n",
       "      <td>31</td>\n",
       "      <td>5</td>\n",
       "      <td>3</td>\n",
       "      <td>15</td>\n",
       "      <td>17.958645</td>\n",
       "      <td>19.958287</td>\n",
       "      <td>20.424653</td>\n",
       "    </tr>\n",
       "    <tr>\n",
       "      <th>2</th>\n",
       "      <td>8.8</td>\n",
       "      <td>178</td>\n",
       "      <td>179</td>\n",
       "      <td>0.996598</td>\n",
       "      <td>12</td>\n",
       "      <td>2</td>\n",
       "      <td>19</td>\n",
       "      <td>12</td>\n",
       "      <td>2</td>\n",
       "      <td>18</td>\n",
       "      <td>18.348110</td>\n",
       "      <td>20.604294</td>\n",
       "      <td>20.673243</td>\n",
       "    </tr>\n",
       "    <tr>\n",
       "      <th>3</th>\n",
       "      <td>8.9</td>\n",
       "      <td>201</td>\n",
       "      <td>169</td>\n",
       "      <td>8.994025</td>\n",
       "      <td>12</td>\n",
       "      <td>2</td>\n",
       "      <td>17</td>\n",
       "      <td>12</td>\n",
       "      <td>4</td>\n",
       "      <td>14</td>\n",
       "      <td>18.358805</td>\n",
       "      <td>20.856239</td>\n",
       "      <td>20.740126</td>\n",
       "    </tr>\n",
       "    <tr>\n",
       "      <th>4</th>\n",
       "      <td>7.8</td>\n",
       "      <td>161</td>\n",
       "      <td>144</td>\n",
       "      <td>1.010288</td>\n",
       "      <td>12</td>\n",
       "      <td>4</td>\n",
       "      <td>13</td>\n",
       "      <td>12</td>\n",
       "      <td>2</td>\n",
       "      <td>17</td>\n",
       "      <td>19.231611</td>\n",
       "      <td>20.680741</td>\n",
       "      <td>20.678289</td>\n",
       "    </tr>\n",
       "  </tbody>\n",
       "</table>\n",
       "</div>"
      ],
      "text/plain": [
       "   IMDB Score Org  RuntimeOrg  RuntimeSeq  deltaYears  MonthOrg  DOWOrg  \\\n",
       "0             7.3         121         127    2.160209         5       4   \n",
       "1             8.7         136         138    4.123288         3       2   \n",
       "2             8.8         178         179    0.996598        12       2   \n",
       "3             8.9         201         169    8.994025        12       2   \n",
       "4             7.8         161         144    1.010288        12       4   \n",
       "\n",
       "   DayOrg  MonthSeq  DOWSeq  DaySeq  LogBudgetOrg  LogGrossOrg  LogGrossSeq  \n",
       "0       3         6       2      30     18.749984    20.530924    20.486247  \n",
       "1      31         5       3      15     17.958645    19.958287    20.424653  \n",
       "2      19        12       2      18     18.348110    20.604294    20.673243  \n",
       "3      17        12       4      14     18.358805    20.856239    20.740126  \n",
       "4      13        12       2      17     19.231611    20.680741    20.678289  "
      ]
     },
     "execution_count": 21,
     "metadata": {},
     "output_type": "execute_result"
    }
   ],
   "source": [
    "df_org.drop(['Budget','GrossSeq','Gross World'], axis=1, inplace=True)\n",
    "\n",
    "df_org.rename(columns = {'Runtime (mins)':'RuntimeOrg'}, inplace = True)\n",
    "df_org.rename(columns = {'IMDB Score':'IMDB Score Org'}, inplace = True)\n",
    "\n",
    "df_org.head()"
   ]
  },
  {
   "cell_type": "markdown",
   "metadata": {},
   "source": [
    "## Design Matrix & Modeling\n"
   ]
  },
  {
   "cell_type": "markdown",
   "metadata": {},
   "source": [
    "I will test several options here to see which generates the best R^2 Score\n",
    "\n",
    "1. IMDB Score, Runtime Original and Sequel, deltaYears, LogBudget, LogGross, and LogGrossSeq\n",
    "\n",
    "2. Number 1 with rel_YearOrg, rel_MonthOrg,...\n",
    "\n",
    "3. Number 2 with Ratings\n",
    "\n",
    "4. Number 3 with Genres"
   ]
  },
  {
   "cell_type": "markdown",
   "metadata": {},
   "source": [
    "### Helper Functions"
   ]
  },
  {
   "cell_type": "code",
   "execution_count": 22,
   "metadata": {
    "ExecuteTime": {
     "end_time": "2020-11-02T18:57:35.536216Z",
     "start_time": "2020-11-02T18:57:35.533405Z"
    }
   },
   "outputs": [],
   "source": [
    "def standardize_data(X_train,X_test):\n",
    "    \n",
    "    # Standardize training data\n",
    "    sc = StandardScaler()\n",
    "    \n",
    "    # Scale and transform. Make sure that indices are preserved as well\n",
    "    X_train_scaled = pd.DataFrame(sc.fit_transform(X_train), columns=X_train.columns, index=X_train.index.copy())\n",
    "    X_test_scaled  = pd.DataFrame(sc.transform(X_test), columns=X_test.columns, index=X_test.index.copy())\n",
    "    \n",
    "    return X_train_scaled,X_test_scaled"
   ]
  },
  {
   "cell_type": "code",
   "execution_count": 23,
   "metadata": {
    "ExecuteTime": {
     "end_time": "2020-11-02T18:57:35.550640Z",
     "start_time": "2020-11-02T18:57:35.542113Z"
    }
   },
   "outputs": [],
   "source": [
    "def model_training(train,target,option):\n",
    "    \n",
    "    results = {}\n",
    "    \n",
    "    def test_model(clf):\n",
    "        \n",
    "        cv = KFold(n_splits=5,shuffle=True,random_state=2021)\n",
    "        r2 = make_scorer(r2_score)\n",
    "        r2_val_score = cross_val_score(clf, train, target, cv=cv,scoring=r2)\n",
    "        scores = [r2_val_score.mean()]\n",
    "        \n",
    "        return scores\n",
    "    \n",
    "    # Alpha parameter for Ridge, Lasso and ElasticNet\n",
    "    alpha = 0.001\n",
    "\n",
    "    model = LinearRegression()\n",
    "    results[\"Linear\"] = test_model(model)\n",
    "\n",
    "    model = Ridge(alpha=alpha)\n",
    "    results[\"Ridge\"]=test_model(model)\n",
    "\n",
    "    model = BayesianRidge()\n",
    "    results[\"Bayesian Ridge\"]=test_model(model)\n",
    "    \n",
    "    model = ARDRegression()\n",
    "    results[\"ARD Regressor\"]=test_model(model)\n",
    "    \n",
    "    model = SGDRegressor()\n",
    "    results[\"SGD Regressor\"]=test_model(model)   \n",
    "\n",
    "    model = HuberRegressor()\n",
    "    results[\"Hubber\"]=test_model(model)\n",
    "\n",
    "    model = Lasso(alpha=alpha)\n",
    "    results[\"Lasso\"]=test_model(model)\n",
    "    \n",
    "    model = ElasticNet(alpha=alpha)\n",
    "    results[\"ElasticNet\"]=test_model(model)\n",
    "    \n",
    "    model = SVR(kernel='linear')\n",
    "    results[\"SVR-Linear\"]=test_model(model)\n",
    "    \n",
    "    model = SVR(kernel='poly')\n",
    "    results[\"SVR-poly\"]=test_model(model)\n",
    "    \n",
    "    model = SVR(kernel='rbf')\n",
    "    results[\"SVR-RBF\"]=test_model(model)\n",
    "    \n",
    "    model = RandomForestRegressor(n_estimators=500, n_jobs=4, max_depth=5)\n",
    "    results[\"RandomForest\"] = test_model(model)\n",
    "\n",
    "    model = AdaBoostRegressor(n_estimators=500,learning_rate=0.001)\n",
    "    results[\"AdaBoost\"] = test_model(model)\n",
    "    \n",
    "    model = lgbm.LGBMRegressor(n_estimators=500,n_jobs=4, max_depth=5, num_leaves=30)\n",
    "    results[\"LightGBM\"] = test_model(model)\n",
    "    \n",
    "    model = xgb.XGBRegressor(n_estimators=500,n_jobs=4, max_depth=5)\n",
    "    results[\"XGBoost\"] = test_model(model)\n",
    "    \n",
    "    df_results = pd.DataFrame.from_dict(results,orient='index')\n",
    "    df_results.columns = [\"R-Squared Score\"] \n",
    "    df_results = df_results.sort_values(by='R-Squared Score',ascending=False)\n",
    "    \n",
    "    ax = df_results.plot(kind=\"bar\",title=\"Model Scores, Option {}\".format(option),figsize=(12,5))\n",
    "    ax.set_ylabel('R-Squared Values')\n",
    "    #ax.xticks(rotation=45)\n",
    "    \n",
    "    plt.gca()\n",
    "    plt.ylim(0.5, 0.9)\n",
    "    plt.xticks(rotation=40)\n",
    "    plt.savefig('./images/model_r2_scores_target_budget_option'+ str(option) +'.svg')\n",
    "    plt.savefig('./images/model_r2_scores_target_budget_option'+ str(option) +'.png')\n",
    "    \n",
    "    return df_results"
   ]
  },
  {
   "cell_type": "code",
   "execution_count": 24,
   "metadata": {
    "ExecuteTime": {
     "end_time": "2020-11-02T18:57:35.557058Z",
     "start_time": "2020-11-02T18:57:35.554297Z"
    }
   },
   "outputs": [],
   "source": [
    "def opt_best_model(model_select,params,X_train,y_train):\n",
    "\n",
    "    model = RandomizedSearchCV(estimator = model_select, \n",
    "                               param_distributions = params, \n",
    "                               cv = 5, scoring = 'r2')\n",
    "\n",
    "    model_best = model.fit(X_train, y_train)\n",
    "\n",
    "    pprint(model_best.best_estimator_.get_params())\n",
    "\n",
    "    pprint(model_best.best_estimator_)\n",
    "    \n",
    "    return model_best"
   ]
  },
  {
   "cell_type": "code",
   "execution_count": 25,
   "metadata": {
    "ExecuteTime": {
     "end_time": "2020-11-02T18:57:35.562356Z",
     "start_time": "2020-11-02T18:57:35.558444Z"
    }
   },
   "outputs": [],
   "source": [
    "def model_best_predict(opt_model,X_train,X_test,y_train,y_test):\n",
    "    \n",
    "    # Make an estimation based on the best model\n",
    "    opt_model.best_estimator_.fit(X_train,y_train)\n",
    "\n",
    "    r2_score = opt_model.best_estimator_.score(X_train,y_train)\n",
    "\n",
    "    print('R2-Score   : {:.6f}'.format(r2_score))\n",
    "\n",
    "    y_pred_train = np.exp(opt_model.best_estimator_.predict(X_train))\n",
    "    y_pred_test  = np.exp(opt_model.best_estimator_.predict(X_test))\n",
    "\n",
    "    rmse_train = np.sqrt(mean_squared_error(np.exp(y_train),y_pred_train))\n",
    "    rmse_test  = np.sqrt(mean_squared_error(np.exp(y_test),y_pred_test))\n",
    "\n",
    "    print('RMSE-Train : ${:,.2f}'.format(rmse_train))\n",
    "    print('RMSE-Test  : ${:,.2f}'.format(rmse_test))\n",
    "\n",
    "    coeffs = opt_model.best_estimator_.coef_.ravel()\n",
    "    \n",
    "    return coeffs"
   ]
  },
  {
   "cell_type": "code",
   "execution_count": 26,
   "metadata": {
    "ExecuteTime": {
     "end_time": "2020-11-02T18:57:35.569101Z",
     "start_time": "2020-11-02T18:57:35.563682Z"
    }
   },
   "outputs": [],
   "source": [
    "def plot_coefficients(X,coeffs,option,bartype='v'):\n",
    "\n",
    "    variables = list(X.columns)\n",
    "\n",
    "    # Name change...I know this can be improved\n",
    "    for i in range(len(variables)):\n",
    "        if variables[i] == 'LogGrossOrg':\n",
    "            variables[i] = 'GrossOrg'\n",
    "    \n",
    "        if variables[i] == 'LogGrossSeq':\n",
    "            variables[i] = 'GrossSeq'\n",
    "    \n",
    "        if variables[i] == 'LogBudgetOrg':\n",
    "            variables[i] = 'BudgetOrg'\n",
    "    \n",
    "        if variables[i] == 'LogBudgetSeq':\n",
    "            variables[i] = 'BudgetSeq'\n",
    "\n",
    "    # Get sorted index but in reverse\n",
    "    ind = list(np.argsort(coeffs))[::-1]\n",
    "    coeff = list(np.sort(coeffs))[::-1]\n",
    "\n",
    "    # Reorder variables\n",
    "    variables = [variables[i] for i in ind]\n",
    "    \n",
    "    if bartype == 'v':\n",
    "        plt.figure(figsize=(16,6))\n",
    "        plt.bar(variables, coeff,color=['r','g','b','k','c','pink','orange'])\n",
    "    else:\n",
    "        plt.figure(figsize=(8,16))\n",
    "        plt.barh(variables, coeff,color=['r','g','b','k','c','pink','orange'])\n",
    "        \n",
    "    plt.xticks(fontsize=10)\n",
    "    plt.yticks(fontsize=12)\n",
    "    plt.ylabel('Regression Coefficients for Option '+ str(option),fontsize=14)\n",
    "    plt.title('Regression Coefficients Option '+ str(option),fontsize=16)\n",
    "    \n",
    "    plt.savefig('./images/coefficients_target_budget_option' + str(option) +'.svg')\n",
    "    plt.savefig('./images/coefficients_target_budget_option' + str(option) +'.png')"
   ]
  },
  {
   "cell_type": "code",
   "execution_count": 27,
   "metadata": {
    "ExecuteTime": {
     "end_time": "2020-11-02T18:57:35.578375Z",
     "start_time": "2020-11-02T18:57:35.570561Z"
    }
   },
   "outputs": [],
   "source": [
    "def plot_residuals(model,X_test,y_test,option):\n",
    "    \n",
    "    y_hat_test = np.exp(model.predict(X_test))\n",
    "\n",
    "    # True residual defintion\n",
    "    residuals = np.exp(y_test) - y_hat_test\n",
    "    \n",
    "    # Error\n",
    "    error = y_hat_test - np.exp(y_test)\n",
    "    \n",
    "    # Percent Error\n",
    "    pct_error = error/np.exp(y_test)*100\n",
    "    \n",
    "    # Plot Residuals\n",
    "    plt.figure(figsize=(14,6))\n",
    "    plt.scatter(y_hat_test/1e6,residuals/1e6,color='red');\n",
    "    plt.title('Residuals vs Predicted Box Office Returns, Option {}'.format(option),fontsize=16);\n",
    "    plt.xlabel('Predicted Box Office Sequel (USD), Millions',fontsize=14);\n",
    "    plt.ylabel('Residuals, ($y_{test}$ - $\\widehat{y}$), (USD) Millions',fontsize=14);\n",
    "    plt.xticks(fontsize=12)\n",
    "    plt.yticks(fontsize=12)\n",
    "    plt.axhline(y = 0, color='black');\n",
    "    plt.savefig('./images/residuals_target_budget_option_{}.svg'.format(option))\n",
    "    plt.savefig('./images/residuals_target_budget_option_{}.png'.format(option))\n",
    "    plt.grid()\n",
    "    \n",
    "    # Plot error\n",
    "    plt.figure(figsize=(14,6))\n",
    "    plt.scatter(y_hat_test/1e6,error/1e6,color='red');\n",
    "    plt.title('Error vs Predicted Box Office Returns, Option {}'.format(option),fontsize=16);\n",
    "    plt.xlabel('Predicted Box Office Sequel (USD), Millions',fontsize=14);\n",
    "    plt.ylabel('Error ($\\widehat{y}$ - $y_{test}$), (USD) Millions',fontsize=14);\n",
    "    plt.savefig('./images/error_target_budget_option_{}.svg'.format(option))\n",
    "    plt.savefig('./images/error_target_budget_option_{}.png'.format(option))\n",
    "    plt.axhline(y = 0, color='black');\n",
    "    plt.xticks(fontsize=12)\n",
    "    plt.yticks(fontsize=12)\n",
    "    plt.grid()\n",
    "    \n",
    "    # Plot error and percentage error\n",
    "    plt.figure(figsize=(14,6))\n",
    "    plt.scatter(y_hat_test/1e6,pct_error,color='red');\n",
    "    plt.title('Percent Error vs Predicted Box Office Returns, Option {}'.format(option),fontsize=16);\n",
    "    plt.xlabel('Predicted Box Office Sequel (USD), Millions',fontsize=14);\n",
    "    plt.ylabel('Percent Error (%)',fontsize=14);\n",
    "    plt.savefig('./images/pct_error_target_budget_option_{}.svg'.format(option))\n",
    "    plt.savefig('./images/pct_error_target_budget_option_{}.png'.format(option))\n",
    "    plt.axhline(y = 0, color='black');\n",
    "    plt.xticks(fontsize=12)\n",
    "    plt.yticks(fontsize=12)\n",
    "    plt.grid()\n",
    "    \n",
    "    # Plot on the same plot\n",
    "    #plt.figure(figsize=(14,6))\n",
    "    #fig, ax1 = plt.subplots()\n",
    "\n",
    "    #ax2 = ax1.twinx()\n",
    "    #ax1.scatter(y_hat_test/1e6, error, color='r')\n",
    "    #ax2.scatter(y_hat_test/1e6, pct_error, color='b')\n",
    "\n",
    "    #ax1.set_xlabel('X data')\n",
    "    #ax1.set_ylabel('Y1 data', color='g')\n",
    "    #ax2.set_ylabel('Y2 data', color='b')\n",
    "    #plt.grid()\n",
    "    \n",
    "    #plt.xticks(np.arange(0, 2000+1, 100))\n",
    "    '''\n",
    "    if zoom == 'Y':\n",
    "        plt.axis([-10, 2000, -250, 1000])\n",
    "    \n",
    "    plt.axhline(y = 0, color='black');\n",
    "    \n",
    "    plt.grid()\n",
    "    \n",
    "    if zoom == 'Y':\n",
    "        plt.savefig('./images/pct_residuals_target_budget_option_{}_zoom.svg'.format(option))\n",
    "        plt.savefig('./images/pct_residuals_target_budget_option_{}_zoom.png'.format(option))\n",
    "        plt.title('Residual vs Predicted Box Office Returns, Option {}, Zoom'.format(option),fontsize=16);\n",
    "    else:\n",
    "        plt.savefig('./images/pct_residuals_target_budget_option_{}.svg'.format(option))\n",
    "        plt.savefig('./images/pct_residuals_target_budget_option_{}.png'.format(option))\n",
    "        plt.title('Residual vs Predicted Box Office Returns, Option {}'.format(option),fontsize=16);\n",
    "    ''';\n",
    "        \n",
    "    return y_hat_test,pct_error,residuals"
   ]
  },
  {
   "cell_type": "markdown",
   "metadata": {},
   "source": [
    "### Modeling - Option 1"
   ]
  },
  {
   "cell_type": "code",
   "execution_count": 28,
   "metadata": {
    "ExecuteTime": {
     "end_time": "2020-11-02T18:57:35.588255Z",
     "start_time": "2020-11-02T18:57:35.579656Z"
    }
   },
   "outputs": [
    {
     "data": {
      "text/html": [
       "<div>\n",
       "<style scoped>\n",
       "    .dataframe tbody tr th:only-of-type {\n",
       "        vertical-align: middle;\n",
       "    }\n",
       "\n",
       "    .dataframe tbody tr th {\n",
       "        vertical-align: top;\n",
       "    }\n",
       "\n",
       "    .dataframe thead th {\n",
       "        text-align: right;\n",
       "    }\n",
       "</style>\n",
       "<table border=\"1\" class=\"dataframe\">\n",
       "  <thead>\n",
       "    <tr style=\"text-align: right;\">\n",
       "      <th></th>\n",
       "      <th>IMDB Score Org</th>\n",
       "      <th>RuntimeOrg</th>\n",
       "      <th>RuntimeSeq</th>\n",
       "      <th>deltaYears</th>\n",
       "      <th>LogBudgetOrg</th>\n",
       "      <th>LogGrossOrg</th>\n",
       "      <th>LogGrossSeq</th>\n",
       "    </tr>\n",
       "  </thead>\n",
       "  <tbody>\n",
       "    <tr>\n",
       "      <th>0</th>\n",
       "      <td>7.3</td>\n",
       "      <td>121</td>\n",
       "      <td>127</td>\n",
       "      <td>2.160209</td>\n",
       "      <td>18.749984</td>\n",
       "      <td>20.530924</td>\n",
       "      <td>20.486247</td>\n",
       "    </tr>\n",
       "    <tr>\n",
       "      <th>1</th>\n",
       "      <td>8.7</td>\n",
       "      <td>136</td>\n",
       "      <td>138</td>\n",
       "      <td>4.123288</td>\n",
       "      <td>17.958645</td>\n",
       "      <td>19.958287</td>\n",
       "      <td>20.424653</td>\n",
       "    </tr>\n",
       "    <tr>\n",
       "      <th>2</th>\n",
       "      <td>8.8</td>\n",
       "      <td>178</td>\n",
       "      <td>179</td>\n",
       "      <td>0.996598</td>\n",
       "      <td>18.348110</td>\n",
       "      <td>20.604294</td>\n",
       "      <td>20.673243</td>\n",
       "    </tr>\n",
       "    <tr>\n",
       "      <th>3</th>\n",
       "      <td>8.9</td>\n",
       "      <td>201</td>\n",
       "      <td>169</td>\n",
       "      <td>8.994025</td>\n",
       "      <td>18.358805</td>\n",
       "      <td>20.856239</td>\n",
       "      <td>20.740126</td>\n",
       "    </tr>\n",
       "    <tr>\n",
       "      <th>4</th>\n",
       "      <td>7.8</td>\n",
       "      <td>161</td>\n",
       "      <td>144</td>\n",
       "      <td>1.010288</td>\n",
       "      <td>19.231611</td>\n",
       "      <td>20.680741</td>\n",
       "      <td>20.678289</td>\n",
       "    </tr>\n",
       "  </tbody>\n",
       "</table>\n",
       "</div>"
      ],
      "text/plain": [
       "   IMDB Score Org  RuntimeOrg  RuntimeSeq  deltaYears  LogBudgetOrg  \\\n",
       "0             7.3         121         127    2.160209     18.749984   \n",
       "1             8.7         136         138    4.123288     17.958645   \n",
       "2             8.8         178         179    0.996598     18.348110   \n",
       "3             8.9         201         169    8.994025     18.358805   \n",
       "4             7.8         161         144    1.010288     19.231611   \n",
       "\n",
       "   LogGrossOrg  LogGrossSeq  \n",
       "0    20.530924    20.486247  \n",
       "1    19.958287    20.424653  \n",
       "2    20.604294    20.673243  \n",
       "3    20.856239    20.740126  \n",
       "4    20.680741    20.678289  "
      ]
     },
     "execution_count": 28,
     "metadata": {},
     "output_type": "execute_result"
    }
   ],
   "source": [
    "X1 = df_org.drop(['MonthOrg','DOWOrg','DayOrg','MonthSeq','DOWSeq','DaySeq'], axis=1)\n",
    "\n",
    "X1.head()"
   ]
  },
  {
   "cell_type": "code",
   "execution_count": 29,
   "metadata": {
    "ExecuteTime": {
     "end_time": "2020-11-02T18:57:35.595954Z",
     "start_time": "2020-11-02T18:57:35.589548Z"
    }
   },
   "outputs": [
    {
     "name": "stdout",
     "output_type": "stream",
     "text": [
      "<class 'pandas.core.frame.DataFrame'>\n",
      "RangeIndex: 531 entries, 0 to 530\n",
      "Data columns (total 7 columns):\n",
      " #   Column          Non-Null Count  Dtype  \n",
      "---  ------          --------------  -----  \n",
      " 0   IMDB Score Org  531 non-null    float64\n",
      " 1   RuntimeOrg      531 non-null    int64  \n",
      " 2   RuntimeSeq      531 non-null    int64  \n",
      " 3   deltaYears      531 non-null    float64\n",
      " 4   LogBudgetOrg    531 non-null    float64\n",
      " 5   LogGrossOrg     531 non-null    float64\n",
      " 6   LogGrossSeq     531 non-null    float64\n",
      "dtypes: float64(5), int64(2)\n",
      "memory usage: 29.2 KB\n"
     ]
    }
   ],
   "source": [
    "X1.info()"
   ]
  },
  {
   "cell_type": "code",
   "execution_count": 30,
   "metadata": {
    "ExecuteTime": {
     "end_time": "2020-11-02T18:57:35.610258Z",
     "start_time": "2020-11-02T18:57:35.597454Z"
    }
   },
   "outputs": [
    {
     "data": {
      "text/html": [
       "<div>\n",
       "<style scoped>\n",
       "    .dataframe tbody tr th:only-of-type {\n",
       "        vertical-align: middle;\n",
       "    }\n",
       "\n",
       "    .dataframe tbody tr th {\n",
       "        vertical-align: top;\n",
       "    }\n",
       "\n",
       "    .dataframe thead th {\n",
       "        text-align: right;\n",
       "    }\n",
       "</style>\n",
       "<table border=\"1\" class=\"dataframe\">\n",
       "  <thead>\n",
       "    <tr style=\"text-align: right;\">\n",
       "      <th></th>\n",
       "      <th>IMDB Score Org</th>\n",
       "      <th>RuntimeOrg</th>\n",
       "      <th>RuntimeSeq</th>\n",
       "      <th>deltaYears</th>\n",
       "      <th>LogBudgetOrg</th>\n",
       "      <th>LogGrossOrg</th>\n",
       "      <th>LogGrossSeq</th>\n",
       "    </tr>\n",
       "  </thead>\n",
       "  <tbody>\n",
       "    <tr>\n",
       "      <th>166</th>\n",
       "      <td>4.2</td>\n",
       "      <td>87</td>\n",
       "      <td>97</td>\n",
       "      <td>15.504767</td>\n",
       "      <td>14.914123</td>\n",
       "      <td>16.584033</td>\n",
       "      <td>18.331950</td>\n",
       "    </tr>\n",
       "    <tr>\n",
       "      <th>298</th>\n",
       "      <td>7.4</td>\n",
       "      <td>78</td>\n",
       "      <td>85</td>\n",
       "      <td>1.859039</td>\n",
       "      <td>14.508658</td>\n",
       "      <td>17.297109</td>\n",
       "      <td>16.752191</td>\n",
       "    </tr>\n",
       "    <tr>\n",
       "      <th>261</th>\n",
       "      <td>7.2</td>\n",
       "      <td>109</td>\n",
       "      <td>112</td>\n",
       "      <td>2.242346</td>\n",
       "      <td>17.553180</td>\n",
       "      <td>19.121723</td>\n",
       "      <td>19.618637</td>\n",
       "    </tr>\n",
       "    <tr>\n",
       "      <th>192</th>\n",
       "      <td>7.0</td>\n",
       "      <td>100</td>\n",
       "      <td>86</td>\n",
       "      <td>16.520531</td>\n",
       "      <td>15.607270</td>\n",
       "      <td>19.198573</td>\n",
       "      <td>17.136402</td>\n",
       "    </tr>\n",
       "    <tr>\n",
       "      <th>74</th>\n",
       "      <td>4.3</td>\n",
       "      <td>84</td>\n",
       "      <td>89</td>\n",
       "      <td>8.068612</td>\n",
       "      <td>17.453097</td>\n",
       "      <td>19.099230</td>\n",
       "      <td>18.264779</td>\n",
       "    </tr>\n",
       "    <tr>\n",
       "      <th>...</th>\n",
       "      <td>...</td>\n",
       "      <td>...</td>\n",
       "      <td>...</td>\n",
       "      <td>...</td>\n",
       "      <td>...</td>\n",
       "      <td>...</td>\n",
       "      <td>...</td>\n",
       "    </tr>\n",
       "    <tr>\n",
       "      <th>279</th>\n",
       "      <td>6.0</td>\n",
       "      <td>109</td>\n",
       "      <td>107</td>\n",
       "      <td>4.944660</td>\n",
       "      <td>17.553180</td>\n",
       "      <td>18.436554</td>\n",
       "      <td>18.667759</td>\n",
       "    </tr>\n",
       "    <tr>\n",
       "      <th>372</th>\n",
       "      <td>8.0</td>\n",
       "      <td>178</td>\n",
       "      <td>139</td>\n",
       "      <td>3.233468</td>\n",
       "      <td>16.118096</td>\n",
       "      <td>16.630277</td>\n",
       "      <td>18.811317</td>\n",
       "    </tr>\n",
       "    <tr>\n",
       "      <th>204</th>\n",
       "      <td>6.9</td>\n",
       "      <td>106</td>\n",
       "      <td>106</td>\n",
       "      <td>1.700240</td>\n",
       "      <td>16.118096</td>\n",
       "      <td>18.276490</td>\n",
       "      <td>18.387881</td>\n",
       "    </tr>\n",
       "    <tr>\n",
       "      <th>53</th>\n",
       "      <td>7.0</td>\n",
       "      <td>95</td>\n",
       "      <td>108</td>\n",
       "      <td>2.089023</td>\n",
       "      <td>16.213406</td>\n",
       "      <td>19.277149</td>\n",
       "      <td>19.476920</td>\n",
       "    </tr>\n",
       "    <tr>\n",
       "      <th>294</th>\n",
       "      <td>6.4</td>\n",
       "      <td>101</td>\n",
       "      <td>93</td>\n",
       "      <td>4.906329</td>\n",
       "      <td>17.399029</td>\n",
       "      <td>17.986511</td>\n",
       "      <td>16.386721</td>\n",
       "    </tr>\n",
       "  </tbody>\n",
       "</table>\n",
       "<p>424 rows × 7 columns</p>\n",
       "</div>"
      ],
      "text/plain": [
       "     IMDB Score Org  RuntimeOrg  RuntimeSeq  deltaYears  LogBudgetOrg  \\\n",
       "166             4.2          87          97   15.504767     14.914123   \n",
       "298             7.4          78          85    1.859039     14.508658   \n",
       "261             7.2         109         112    2.242346     17.553180   \n",
       "192             7.0         100          86   16.520531     15.607270   \n",
       "74              4.3          84          89    8.068612     17.453097   \n",
       "..              ...         ...         ...         ...           ...   \n",
       "279             6.0         109         107    4.944660     17.553180   \n",
       "372             8.0         178         139    3.233468     16.118096   \n",
       "204             6.9         106         106    1.700240     16.118096   \n",
       "53              7.0          95         108    2.089023     16.213406   \n",
       "294             6.4         101          93    4.906329     17.399029   \n",
       "\n",
       "     LogGrossOrg  LogGrossSeq  \n",
       "166    16.584033    18.331950  \n",
       "298    17.297109    16.752191  \n",
       "261    19.121723    19.618637  \n",
       "192    19.198573    17.136402  \n",
       "74     19.099230    18.264779  \n",
       "..           ...          ...  \n",
       "279    18.436554    18.667759  \n",
       "372    16.630277    18.811317  \n",
       "204    18.276490    18.387881  \n",
       "53     19.277149    19.476920  \n",
       "294    17.986511    16.386721  \n",
       "\n",
       "[424 rows x 7 columns]"
      ]
     },
     "execution_count": 30,
     "metadata": {},
     "output_type": "execute_result"
    }
   ],
   "source": [
    "X1_train, X1_test, y1_train, y1_test = train_test_split(X1, y, test_size=test_size, random_state=1234)\n",
    "\n",
    "X1_train"
   ]
  },
  {
   "cell_type": "code",
   "execution_count": 31,
   "metadata": {
    "ExecuteTime": {
     "end_time": "2020-11-02T18:57:35.626715Z",
     "start_time": "2020-11-02T18:57:35.611900Z"
    }
   },
   "outputs": [
    {
     "data": {
      "text/html": [
       "<div>\n",
       "<style scoped>\n",
       "    .dataframe tbody tr th:only-of-type {\n",
       "        vertical-align: middle;\n",
       "    }\n",
       "\n",
       "    .dataframe tbody tr th {\n",
       "        vertical-align: top;\n",
       "    }\n",
       "\n",
       "    .dataframe thead th {\n",
       "        text-align: right;\n",
       "    }\n",
       "</style>\n",
       "<table border=\"1\" class=\"dataframe\">\n",
       "  <thead>\n",
       "    <tr style=\"text-align: right;\">\n",
       "      <th></th>\n",
       "      <th>IMDB Score Org</th>\n",
       "      <th>RuntimeOrg</th>\n",
       "      <th>RuntimeSeq</th>\n",
       "      <th>deltaYears</th>\n",
       "      <th>LogBudgetOrg</th>\n",
       "      <th>LogGrossOrg</th>\n",
       "      <th>LogGrossSeq</th>\n",
       "    </tr>\n",
       "  </thead>\n",
       "  <tbody>\n",
       "    <tr>\n",
       "      <th>166</th>\n",
       "      <td>-2.513626</td>\n",
       "      <td>-1.167302</td>\n",
       "      <td>-0.669164</td>\n",
       "      <td>1.599724</td>\n",
       "      <td>-1.097543</td>\n",
       "      <td>-1.019311</td>\n",
       "      <td>0.146913</td>\n",
       "    </tr>\n",
       "    <tr>\n",
       "      <th>298</th>\n",
       "      <td>0.716614</td>\n",
       "      <td>-1.659721</td>\n",
       "      <td>-1.295259</td>\n",
       "      <td>-0.492913</td>\n",
       "      <td>-1.353798</td>\n",
       "      <td>-0.597188</td>\n",
       "      <td>-0.739428</td>\n",
       "    </tr>\n",
       "    <tr>\n",
       "      <th>261</th>\n",
       "      <td>0.514724</td>\n",
       "      <td>0.036389</td>\n",
       "      <td>0.113455</td>\n",
       "      <td>-0.434131</td>\n",
       "      <td>0.570343</td>\n",
       "      <td>0.482937</td>\n",
       "      <td>0.868824</td>\n",
       "    </tr>\n",
       "    <tr>\n",
       "      <th>192</th>\n",
       "      <td>0.312834</td>\n",
       "      <td>-0.456030</td>\n",
       "      <td>-1.243084</td>\n",
       "      <td>1.755496</td>\n",
       "      <td>-0.659474</td>\n",
       "      <td>0.528430</td>\n",
       "      <td>-0.523862</td>\n",
       "    </tr>\n",
       "    <tr>\n",
       "      <th>74</th>\n",
       "      <td>-2.412681</td>\n",
       "      <td>-1.331441</td>\n",
       "      <td>-1.086560</td>\n",
       "      <td>0.459355</td>\n",
       "      <td>0.507090</td>\n",
       "      <td>0.469622</td>\n",
       "      <td>0.109226</td>\n",
       "    </tr>\n",
       "    <tr>\n",
       "      <th>...</th>\n",
       "      <td>...</td>\n",
       "      <td>...</td>\n",
       "      <td>...</td>\n",
       "      <td>...</td>\n",
       "      <td>...</td>\n",
       "      <td>...</td>\n",
       "      <td>...</td>\n",
       "    </tr>\n",
       "    <tr>\n",
       "      <th>279</th>\n",
       "      <td>-0.696616</td>\n",
       "      <td>0.036389</td>\n",
       "      <td>-0.147418</td>\n",
       "      <td>-0.019718</td>\n",
       "      <td>0.570343</td>\n",
       "      <td>0.077335</td>\n",
       "      <td>0.335323</td>\n",
       "    </tr>\n",
       "    <tr>\n",
       "      <th>372</th>\n",
       "      <td>1.322285</td>\n",
       "      <td>3.811602</td>\n",
       "      <td>1.522169</td>\n",
       "      <td>-0.282137</td>\n",
       "      <td>-0.336632</td>\n",
       "      <td>-0.991935</td>\n",
       "      <td>0.415868</td>\n",
       "    </tr>\n",
       "    <tr>\n",
       "      <th>204</th>\n",
       "      <td>0.211889</td>\n",
       "      <td>-0.127750</td>\n",
       "      <td>-0.199592</td>\n",
       "      <td>-0.517265</td>\n",
       "      <td>-0.336632</td>\n",
       "      <td>-0.017419</td>\n",
       "      <td>0.178294</td>\n",
       "    </tr>\n",
       "    <tr>\n",
       "      <th>53</th>\n",
       "      <td>0.312834</td>\n",
       "      <td>-0.729596</td>\n",
       "      <td>-0.095243</td>\n",
       "      <td>-0.457644</td>\n",
       "      <td>-0.276396</td>\n",
       "      <td>0.574945</td>\n",
       "      <td>0.789312</td>\n",
       "    </tr>\n",
       "    <tr>\n",
       "      <th>294</th>\n",
       "      <td>-0.292836</td>\n",
       "      <td>-0.401316</td>\n",
       "      <td>-0.877862</td>\n",
       "      <td>-0.025596</td>\n",
       "      <td>0.472919</td>\n",
       "      <td>-0.189080</td>\n",
       "      <td>-0.944479</td>\n",
       "    </tr>\n",
       "  </tbody>\n",
       "</table>\n",
       "<p>424 rows × 7 columns</p>\n",
       "</div>"
      ],
      "text/plain": [
       "     IMDB Score Org  RuntimeOrg  RuntimeSeq  deltaYears  LogBudgetOrg  \\\n",
       "166       -2.513626   -1.167302   -0.669164    1.599724     -1.097543   \n",
       "298        0.716614   -1.659721   -1.295259   -0.492913     -1.353798   \n",
       "261        0.514724    0.036389    0.113455   -0.434131      0.570343   \n",
       "192        0.312834   -0.456030   -1.243084    1.755496     -0.659474   \n",
       "74        -2.412681   -1.331441   -1.086560    0.459355      0.507090   \n",
       "..              ...         ...         ...         ...           ...   \n",
       "279       -0.696616    0.036389   -0.147418   -0.019718      0.570343   \n",
       "372        1.322285    3.811602    1.522169   -0.282137     -0.336632   \n",
       "204        0.211889   -0.127750   -0.199592   -0.517265     -0.336632   \n",
       "53         0.312834   -0.729596   -0.095243   -0.457644     -0.276396   \n",
       "294       -0.292836   -0.401316   -0.877862   -0.025596      0.472919   \n",
       "\n",
       "     LogGrossOrg  LogGrossSeq  \n",
       "166    -1.019311     0.146913  \n",
       "298    -0.597188    -0.739428  \n",
       "261     0.482937     0.868824  \n",
       "192     0.528430    -0.523862  \n",
       "74      0.469622     0.109226  \n",
       "..           ...          ...  \n",
       "279     0.077335     0.335323  \n",
       "372    -0.991935     0.415868  \n",
       "204    -0.017419     0.178294  \n",
       "53      0.574945     0.789312  \n",
       "294    -0.189080    -0.944479  \n",
       "\n",
       "[424 rows x 7 columns]"
      ]
     },
     "execution_count": 31,
     "metadata": {},
     "output_type": "execute_result"
    }
   ],
   "source": [
    "# Standardize training data\n",
    "\n",
    "X1_train_scaled,X1_test_scaled = standardize_data(X1_train,X1_test)\n",
    "\n",
    "X1_train_scaled\n"
   ]
  },
  {
   "cell_type": "code",
   "execution_count": 32,
   "metadata": {
    "ExecuteTime": {
     "end_time": "2020-11-02T18:57:43.338512Z",
     "start_time": "2020-11-02T18:57:35.628087Z"
    }
   },
   "outputs": [
    {
     "data": {
      "text/html": [
       "<div>\n",
       "<style scoped>\n",
       "    .dataframe tbody tr th:only-of-type {\n",
       "        vertical-align: middle;\n",
       "    }\n",
       "\n",
       "    .dataframe tbody tr th {\n",
       "        vertical-align: top;\n",
       "    }\n",
       "\n",
       "    .dataframe thead th {\n",
       "        text-align: right;\n",
       "    }\n",
       "</style>\n",
       "<table border=\"1\" class=\"dataframe\">\n",
       "  <thead>\n",
       "    <tr style=\"text-align: right;\">\n",
       "      <th></th>\n",
       "      <th>R-Squared Score</th>\n",
       "    </tr>\n",
       "  </thead>\n",
       "  <tbody>\n",
       "    <tr>\n",
       "      <th>SVR-Linear</th>\n",
       "      <td>0.836569</td>\n",
       "    </tr>\n",
       "    <tr>\n",
       "      <th>Hubber</th>\n",
       "      <td>0.836359</td>\n",
       "    </tr>\n",
       "    <tr>\n",
       "      <th>Bayesian Ridge</th>\n",
       "      <td>0.835717</td>\n",
       "    </tr>\n",
       "    <tr>\n",
       "      <th>ElasticNet</th>\n",
       "      <td>0.835636</td>\n",
       "    </tr>\n",
       "    <tr>\n",
       "      <th>Ridge</th>\n",
       "      <td>0.835635</td>\n",
       "    </tr>\n",
       "    <tr>\n",
       "      <th>Linear</th>\n",
       "      <td>0.835634</td>\n",
       "    </tr>\n",
       "    <tr>\n",
       "      <th>Lasso</th>\n",
       "      <td>0.835590</td>\n",
       "    </tr>\n",
       "    <tr>\n",
       "      <th>SGD Regressor</th>\n",
       "      <td>0.834701</td>\n",
       "    </tr>\n",
       "    <tr>\n",
       "      <th>ARD Regressor</th>\n",
       "      <td>0.834233</td>\n",
       "    </tr>\n",
       "    <tr>\n",
       "      <th>RandomForest</th>\n",
       "      <td>0.809979</td>\n",
       "    </tr>\n",
       "    <tr>\n",
       "      <th>AdaBoost</th>\n",
       "      <td>0.788255</td>\n",
       "    </tr>\n",
       "    <tr>\n",
       "      <th>SVR-RBF</th>\n",
       "      <td>0.767763</td>\n",
       "    </tr>\n",
       "    <tr>\n",
       "      <th>XGBoost</th>\n",
       "      <td>0.766951</td>\n",
       "    </tr>\n",
       "    <tr>\n",
       "      <th>LightGBM</th>\n",
       "      <td>0.752923</td>\n",
       "    </tr>\n",
       "    <tr>\n",
       "      <th>SVR-poly</th>\n",
       "      <td>0.152484</td>\n",
       "    </tr>\n",
       "  </tbody>\n",
       "</table>\n",
       "</div>"
      ],
      "text/plain": [
       "                R-Squared Score\n",
       "SVR-Linear             0.836569\n",
       "Hubber                 0.836359\n",
       "Bayesian Ridge         0.835717\n",
       "ElasticNet             0.835636\n",
       "Ridge                  0.835635\n",
       "Linear                 0.835634\n",
       "Lasso                  0.835590\n",
       "SGD Regressor          0.834701\n",
       "ARD Regressor          0.834233\n",
       "RandomForest           0.809979\n",
       "AdaBoost               0.788255\n",
       "SVR-RBF                0.767763\n",
       "XGBoost                0.766951\n",
       "LightGBM               0.752923\n",
       "SVR-poly               0.152484"
      ]
     },
     "execution_count": 32,
     "metadata": {},
     "output_type": "execute_result"
    },
    {
     "data": {
      "image/png": "[encoded data removed]",
      "text/plain": [
       "<Figure size 864x360 with 1 Axes>"
      ]
     },
     "metadata": {
      "image/png": {
       "height": 365,
       "width": 726
      },
      "needs_background": "light"
     },
     "output_type": "display_data"
    }
   ],
   "source": [
    "option = 1\n",
    "\n",
    "df_results_option_1 = model_training(X1_train_scaled,y1_train,option)\n",
    "\n",
    "df_results_option_1"
   ]
  },
  {
   "cell_type": "code",
   "execution_count": 33,
   "metadata": {
    "ExecuteTime": {
     "end_time": "2020-11-02T18:57:43.556949Z",
     "start_time": "2020-11-02T18:57:43.340201Z"
    }
   },
   "outputs": [
    {
     "name": "stdout",
     "output_type": "stream",
     "text": [
      "{'alpha_1': 1e-06,\n",
      " 'alpha_2': 1e-06,\n",
      " 'alpha_init': None,\n",
      " 'compute_score': False,\n",
      " 'copy_X': True,\n",
      " 'fit_intercept': True,\n",
      " 'lambda_1': 1e-05,\n",
      " 'lambda_2': 0.1,\n",
      " 'lambda_init': None,\n",
      " 'n_iter': 500,\n",
      " 'normalize': False,\n",
      " 'tol': 0.001,\n",
      " 'verbose': False}\n",
      "BayesianRidge(lambda_1=1e-05, lambda_2=0.1, n_iter=500)\n",
      "\n",
      "\n",
      "R2-Score   : 0.850998\n",
      "RMSE-Train : $25,568,156.22\n",
      "RMSE-Test  : $27,629,563.44\n"
     ]
    }
   ],
   "source": [
    "# Pick a model and perform hyper-parameter tuning\n",
    "\n",
    "model_select = BayesianRidge()\n",
    "\n",
    "params = {'alpha_1' : [1e-7,1e-6,1e-5,1e-4,1e-3,1e-2,1e-1,0,0.1,0.2,0.3],\n",
    "          'alpha_2' : [1e-7,1e-6,1e-5,1e-4,1e-3,1e-2,1e-1,0,0.1,0.2,0.3],\n",
    "          'lambda_1': [1e-7,1e-6,1e-5,1e-4,1e-3,1e-2,1e-1,0,0.1,0.2,0.3],\n",
    "          'lambda_2': [1e-7,1e-6,1e-5,1e-4,1e-3,1e-2,1e-1,0,0.1,0.2,0.3],\n",
    "          'fit_intercept' : [False,True],\n",
    "          'n_iter' : [100,200,300,400,500,600,700,800,900,1000]\n",
    "         }\n",
    "\n",
    "model_best1 = opt_best_model(model_select,params,X1_train_scaled,y1_train)\n",
    "\n",
    "print()\n",
    "print()\n",
    "\n",
    "model_coeffs1 = model_best_predict(model_best1,X1_train_scaled,X1_test_scaled,y1_train,y1_test)"
   ]
  },
  {
   "cell_type": "code",
   "execution_count": 34,
   "metadata": {
    "ExecuteTime": {
     "end_time": "2020-11-02T18:57:44.034106Z",
     "start_time": "2020-11-02T18:57:43.558645Z"
    }
   },
   "outputs": [
    {
     "data": {
      "image/png": "[encoded data removed]",
      "text/plain": [
       "<Figure size 1152x432 with 1 Axes>"
      ]
     },
     "metadata": {
      "image/png": {
       "height": 375,
       "width": 951
      },
      "needs_background": "light"
     },
     "output_type": "display_data"
    }
   ],
   "source": [
    "plot_coefficients(X1_train_scaled,model_coeffs1,1)"
   ]
  },
  {
   "cell_type": "code",
   "execution_count": 35,
   "metadata": {
    "ExecuteTime": {
     "end_time": "2020-11-02T18:57:45.804735Z",
     "start_time": "2020-11-02T18:57:44.035616Z"
    }
   },
   "outputs": [
    {
     "data": {
      "image/png": "[encoded data removed]",
      "text/plain": [
       "<Figure size 1008x432 with 1 Axes>"
      ]
     },
     "metadata": {
      "image/png": {
       "height": 395,
       "width": 848
      },
      "needs_background": "light"
     },
     "output_type": "display_data"
    },
    {
     "data": {
      "image/png": "[encoded data removed]",
      "text/plain": [
       "<Figure size 1008x432 with 1 Axes>"
      ]
     },
     "metadata": {
      "image/png": {
       "height": 395,
       "width": 856
      },
      "needs_background": "light"
     },
     "output_type": "display_data"
    },
    {
     "data": {
      "image/png": "[encoded data removed]",
      "text/plain": [
       "<Figure size 1008x432 with 1 Axes>"
      ]
     },
     "metadata": {
      "image/png": {
       "height": 395,
       "width": 853
      },
      "needs_background": "light"
     },
     "output_type": "display_data"
    }
   ],
   "source": [
    "option = 1\n",
    "zoom = 'N'\n",
    "\n",
    "y1_test_pred,pct_residuals1,residuals1 = plot_residuals(model_best1,X1_test_scaled,y1_test,option)"
   ]
  },
  {
   "cell_type": "code",
   "execution_count": 36,
   "metadata": {
    "ExecuteTime": {
     "end_time": "2020-11-02T18:57:46.230533Z",
     "start_time": "2020-11-02T18:57:45.807464Z"
    }
   },
   "outputs": [
    {
     "data": {
      "image/png": "[encoded data removed]",
      "text/plain": [
       "<Figure size 432x288 with 1 Axes>"
      ]
     },
     "execution_count": 36,
     "metadata": {
      "image/png": {
       "height": 264,
       "width": 396
      }
     },
     "output_type": "execute_result"
    },
    {
     "data": {
      "image/png": "[encoded data removed]",
      "text/plain": [
       "<Figure size 432x288 with 1 Axes>"
      ]
     },
     "metadata": {
      "image/png": {
       "height": 264,
       "width": 396
      },
      "needs_background": "light"
     },
     "output_type": "display_data"
    }
   ],
   "source": [
    "\n",
    "import scipy.stats as stats\n",
    "sm.qqplot(residuals1, stats.t, fit=True, line ='45')"
   ]
  },
  {
   "cell_type": "markdown",
   "metadata": {},
   "source": [
    "#### Investigate Large Precentage Error in Residual "
   ]
  },
  {
   "cell_type": "markdown",
   "metadata": {},
   "source": [
    "Let's take a look at what is causing the large spike at USD 50 million, i.e. with over 700% error. "
   ]
  },
  {
   "cell_type": "code",
   "execution_count": 37,
   "metadata": {
    "ExecuteTime": {
     "end_time": "2020-11-02T18:57:46.235136Z",
     "start_time": "2020-11-02T18:57:46.232149Z"
    }
   },
   "outputs": [
    {
     "name": "stdout",
     "output_type": "stream",
     "text": [
      "69 6000000.000000005 49390228.128629655 723.1704688104935\n"
     ]
    }
   ],
   "source": [
    "for i,(y_test_i,y_pred_i,pct) in enumerate(zip(y1_test,y1_test_pred,pct_residuals1)):\n",
    "    if pct > 700:\n",
    "        print(i,np.exp(y_test_i),y_pred_i,pct)"
   ]
  },
  {
   "cell_type": "code",
   "execution_count": 38,
   "metadata": {
    "ExecuteTime": {
     "end_time": "2020-11-02T18:57:46.240593Z",
     "start_time": "2020-11-02T18:57:46.236746Z"
    }
   },
   "outputs": [
    {
     "data": {
      "text/plain": [
       "IMDB Score Org      6.800000\n",
       "RuntimeOrg        106.000000\n",
       "RuntimeSeq        114.000000\n",
       "deltaYears          7.052848\n",
       "MonthOrg            5.000000\n",
       "DOWOrg              4.000000\n",
       "DayOrg             25.000000\n",
       "MonthSeq            6.000000\n",
       "DOWSeq              4.000000\n",
       "DaySeq             14.000000\n",
       "LogBudgetOrg       19.231611\n",
       "LogGrossOrg        20.251704\n",
       "LogGrossSeq        19.352414\n",
       "Name: 69, dtype: float64"
      ]
     },
     "execution_count": 38,
     "metadata": {},
     "output_type": "execute_result"
    }
   ],
   "source": [
    "df_org.iloc[69,:]"
   ]
  },
  {
   "cell_type": "markdown",
   "metadata": {},
   "source": [
    "Overall, the framing of the question is much better in this case. "
   ]
  },
  {
   "cell_type": "markdown",
   "metadata": {},
   "source": [
    "### Modeling - Option 3"
   ]
  },
  {
   "cell_type": "markdown",
   "metadata": {},
   "source": [
    "Forgoing release times. Go straight to categorical ratings instead."
   ]
  },
  {
   "cell_type": "code",
   "execution_count": 39,
   "metadata": {
    "ExecuteTime": {
     "end_time": "2020-11-02T18:57:46.254582Z",
     "start_time": "2020-11-02T18:57:46.242246Z"
    }
   },
   "outputs": [
    {
     "data": {
      "text/html": [
       "<div>\n",
       "<style scoped>\n",
       "    .dataframe tbody tr th:only-of-type {\n",
       "        vertical-align: middle;\n",
       "    }\n",
       "\n",
       "    .dataframe tbody tr th {\n",
       "        vertical-align: top;\n",
       "    }\n",
       "\n",
       "    .dataframe thead th {\n",
       "        text-align: right;\n",
       "    }\n",
       "</style>\n",
       "<table border=\"1\" class=\"dataframe\">\n",
       "  <thead>\n",
       "    <tr style=\"text-align: right;\">\n",
       "      <th></th>\n",
       "      <th>IMDB Score Org</th>\n",
       "      <th>RuntimeOrg</th>\n",
       "      <th>RuntimeSeq</th>\n",
       "      <th>deltaYears</th>\n",
       "      <th>LogBudgetOrg</th>\n",
       "      <th>LogGrossOrg</th>\n",
       "      <th>LogGrossSeq</th>\n",
       "      <th>r_G</th>\n",
       "      <th>r_PG</th>\n",
       "      <th>r_PG-13</th>\n",
       "      <th>r_R</th>\n",
       "    </tr>\n",
       "  </thead>\n",
       "  <tbody>\n",
       "    <tr>\n",
       "      <th>0</th>\n",
       "      <td>7.3</td>\n",
       "      <td>121</td>\n",
       "      <td>127</td>\n",
       "      <td>2.160209</td>\n",
       "      <td>18.749984</td>\n",
       "      <td>20.530924</td>\n",
       "      <td>20.486247</td>\n",
       "      <td>0</td>\n",
       "      <td>0</td>\n",
       "      <td>1</td>\n",
       "      <td>0</td>\n",
       "    </tr>\n",
       "    <tr>\n",
       "      <th>1</th>\n",
       "      <td>8.7</td>\n",
       "      <td>136</td>\n",
       "      <td>138</td>\n",
       "      <td>4.123288</td>\n",
       "      <td>17.958645</td>\n",
       "      <td>19.958287</td>\n",
       "      <td>20.424653</td>\n",
       "      <td>0</td>\n",
       "      <td>0</td>\n",
       "      <td>0</td>\n",
       "      <td>1</td>\n",
       "    </tr>\n",
       "    <tr>\n",
       "      <th>2</th>\n",
       "      <td>8.8</td>\n",
       "      <td>178</td>\n",
       "      <td>179</td>\n",
       "      <td>0.996598</td>\n",
       "      <td>18.348110</td>\n",
       "      <td>20.604294</td>\n",
       "      <td>20.673243</td>\n",
       "      <td>0</td>\n",
       "      <td>0</td>\n",
       "      <td>1</td>\n",
       "      <td>0</td>\n",
       "    </tr>\n",
       "    <tr>\n",
       "      <th>3</th>\n",
       "      <td>8.9</td>\n",
       "      <td>201</td>\n",
       "      <td>169</td>\n",
       "      <td>8.994025</td>\n",
       "      <td>18.358805</td>\n",
       "      <td>20.856239</td>\n",
       "      <td>20.740126</td>\n",
       "      <td>0</td>\n",
       "      <td>0</td>\n",
       "      <td>1</td>\n",
       "      <td>0</td>\n",
       "    </tr>\n",
       "    <tr>\n",
       "      <th>4</th>\n",
       "      <td>7.8</td>\n",
       "      <td>161</td>\n",
       "      <td>144</td>\n",
       "      <td>1.010288</td>\n",
       "      <td>19.231611</td>\n",
       "      <td>20.680741</td>\n",
       "      <td>20.678289</td>\n",
       "      <td>0</td>\n",
       "      <td>0</td>\n",
       "      <td>1</td>\n",
       "      <td>0</td>\n",
       "    </tr>\n",
       "  </tbody>\n",
       "</table>\n",
       "</div>"
      ],
      "text/plain": [
       "   IMDB Score Org  RuntimeOrg  RuntimeSeq  deltaYears  LogBudgetOrg  \\\n",
       "0             7.3         121         127    2.160209     18.749984   \n",
       "1             8.7         136         138    4.123288     17.958645   \n",
       "2             8.8         178         179    0.996598     18.348110   \n",
       "3             8.9         201         169    8.994025     18.358805   \n",
       "4             7.8         161         144    1.010288     19.231611   \n",
       "\n",
       "   LogGrossOrg  LogGrossSeq  r_G  r_PG  r_PG-13  r_R  \n",
       "0    20.530924    20.486247    0     0        1    0  \n",
       "1    19.958287    20.424653    0     0        0    1  \n",
       "2    20.604294    20.673243    0     0        1    0  \n",
       "3    20.856239    20.740126    0     0        1    0  \n",
       "4    20.680741    20.678289    0     0        1    0  "
      ]
     },
     "execution_count": 39,
     "metadata": {},
     "output_type": "execute_result"
    }
   ],
   "source": [
    "X3 = pd.concat([X1, df_rating], axis=1)\n",
    "\n",
    "X3.head()"
   ]
  },
  {
   "cell_type": "code",
   "execution_count": 40,
   "metadata": {
    "ExecuteTime": {
     "end_time": "2020-11-02T18:57:46.260109Z",
     "start_time": "2020-11-02T18:57:46.256183Z"
    }
   },
   "outputs": [],
   "source": [
    "# Do the usual train test split\n",
    "X3_train, X3_test, y3_train, y3_test = train_test_split(X3, y, test_size=test_size, random_state=1234)"
   ]
  },
  {
   "cell_type": "code",
   "execution_count": 41,
   "metadata": {
    "ExecuteTime": {
     "end_time": "2020-11-02T18:57:46.266414Z",
     "start_time": "2020-11-02T18:57:46.261482Z"
    }
   },
   "outputs": [],
   "source": [
    "def split_and_merge_again(X_train,X_test):\n",
    "\n",
    "    # Now for some crazy gymnastics\n",
    "    # Doing this since I want to preserve the shuffling order of the target variables\n",
    "    # and to preserve the indexing\n",
    "    all_cols = list(X_train.columns)\n",
    "\n",
    "    cat_cols = []\n",
    "    num_cols = []\n",
    "\n",
    "    for col in all_cols:\n",
    "    \n",
    "        # Look for columns that start with r_ or g_ for ratings & genres\n",
    "        cat_temp = re.findall('^[rg]_*.+',col)   # Categorical\n",
    "        num_temp = re.findall('^[^rg]_*.+',col)  # Numerical\n",
    "        \n",
    "        if cat_temp:\n",
    "            cat_cols.extend(cat_temp)\n",
    "        \n",
    "        if num_temp:\n",
    "            num_cols.extend(num_temp)\n",
    "\n",
    "    # Extract numerical columns\n",
    "    X_train_num = X_train[num_cols]\n",
    "    X_test_num = X_test[num_cols]\n",
    "    \n",
    "    # Extract categorical columns\n",
    "    X_train_cat = X_train[cat_cols]\n",
    "    X_test_cat  = X_test[cat_cols]\n",
    "\n",
    "    # Standardize training and test data\n",
    "    scx = StandardScaler()\n",
    "\n",
    "    X_train_num_scaled = pd.DataFrame(scx.fit_transform(X_train_num),columns=X_train_num.columns,index=X_train_num.index.copy())\n",
    "    X_test_num_scaled  = pd.DataFrame(scx.transform(X_test_num), columns=X_test_num.columns,index=X_test_num.index.copy())\n",
    "\n",
    "    # Concatenate with numerical and categorical data\n",
    "    X_train_scaled = pd.concat([X_train_num_scaled, X_train_cat], axis=1)\n",
    "    X_test_scaled = pd.concat([X_test_num_scaled, X_test_cat], axis=1)\n",
    "    \n",
    "    return X_train_scaled,X_test_scaled"
   ]
  },
  {
   "cell_type": "code",
   "execution_count": 42,
   "metadata": {
    "ExecuteTime": {
     "end_time": "2020-11-02T18:57:46.279090Z",
     "start_time": "2020-11-02T18:57:46.268091Z"
    }
   },
   "outputs": [],
   "source": [
    "X3_train_scaled,X3_test_scaled = split_and_merge_again(X3_train,X3_test)\n"
   ]
  },
  {
   "cell_type": "code",
   "execution_count": null,
   "metadata": {
    "ExecuteTime": {
     "start_time": "2020-11-02T18:57:34.452Z"
    }
   },
   "outputs": [],
   "source": [
    "df_results_option_3 = model_training(X3_train_scaled,y3_train,3)\n",
    "\n",
    "df_results_option_3"
   ]
  },
  {
   "cell_type": "code",
   "execution_count": null,
   "metadata": {
    "ExecuteTime": {
     "start_time": "2020-11-02T18:57:34.455Z"
    }
   },
   "outputs": [],
   "source": [
    "model_select = BayesianRidge()\n",
    "\n",
    "params = {'alpha_1' : [1e-7,1e-6,1e-5,1e-4,1e-3,1e-2,1e-1,0,0.1,0.2,0.3],\n",
    "          'alpha_2' : [1e-7,1e-6,1e-5,1e-4,1e-3,1e-2,1e-1,0,0.1,0.2,0.3],\n",
    "          'lambda_1': [1e-7,1e-6,1e-5,1e-4,1e-3,1e-2,1e-1,0,0.1,0.2,0.3],\n",
    "          'lambda_2': [1e-7,1e-6,1e-5,1e-4,1e-3,1e-2,1e-1,0,0.1,0.2,0.3],\n",
    "          'fit_intercept' : [False,True],\n",
    "          'n_iter' : [100,200,300,400,500,600,700]\n",
    "         }\n",
    "\n",
    "model_best3 = opt_best_model(model_select,params,X3_train_scaled,y3_train)"
   ]
  },
  {
   "cell_type": "code",
   "execution_count": null,
   "metadata": {
    "ExecuteTime": {
     "start_time": "2020-11-02T18:57:34.457Z"
    }
   },
   "outputs": [],
   "source": [
    "model_coeffs3 = model_best_predict(model_best3,X3_train_scaled,X3_test_scaled,y3_train,y3_test)"
   ]
  },
  {
   "cell_type": "code",
   "execution_count": null,
   "metadata": {
    "ExecuteTime": {
     "start_time": "2020-11-02T18:57:34.459Z"
    }
   },
   "outputs": [],
   "source": [
    "option = 3\n",
    "\n",
    "plot_coefficients(X3_train,model_coeffs3,option)"
   ]
  },
  {
   "cell_type": "code",
   "execution_count": null,
   "metadata": {
    "ExecuteTime": {
     "start_time": "2020-11-02T18:57:34.461Z"
    }
   },
   "outputs": [],
   "source": [
    "#option = 2\n",
    "zoom = 'N'\n",
    "\n",
    "y_pred3 = plot_residuals(model_best3,X3_test_scaled,y3_test,option)"
   ]
  },
  {
   "cell_type": "code",
   "execution_count": null,
   "metadata": {
    "ExecuteTime": {
     "start_time": "2020-11-02T18:57:34.465Z"
    }
   },
   "outputs": [],
   "source": [
    "for i,v in enumerate(y3_test):\n",
    "    if (np.exp(v) > 50000000 and np.exp(v) < 52000000):\n",
    "        print(i,np.exp(v))"
   ]
  },
  {
   "cell_type": "markdown",
   "metadata": {
    "ExecuteTime": {
     "end_time": "2020-10-31T22:32:52.090815Z",
     "start_time": "2020-10-31T22:32:52.088754Z"
    }
   },
   "source": [
    "### Modeling - Option 4"
   ]
  },
  {
   "cell_type": "code",
   "execution_count": null,
   "metadata": {
    "ExecuteTime": {
     "start_time": "2020-11-02T18:57:34.510Z"
    }
   },
   "outputs": [],
   "source": [
    "X4 = pd.concat([X3, df_genres], axis=1)\n",
    "\n",
    "X4.head()"
   ]
  },
  {
   "cell_type": "code",
   "execution_count": null,
   "metadata": {
    "ExecuteTime": {
     "start_time": "2020-11-02T18:57:34.513Z"
    }
   },
   "outputs": [],
   "source": [
    "# Train-test split for Option 4\n",
    "X4_train, X4_test, y4_train, y4_test = train_test_split(X4, y, test_size=test_size, random_state=1234)\n",
    "\n",
    "X4_train_scaled,X4_test_scaled = split_and_merge_again(X4_train,X4_test)\n"
   ]
  },
  {
   "cell_type": "code",
   "execution_count": null,
   "metadata": {
    "ExecuteTime": {
     "start_time": "2020-11-02T18:57:34.515Z"
    }
   },
   "outputs": [],
   "source": [
    "option = 4\n",
    "\n",
    "df_results_option_4 = model_training(X4_train_scaled,y4_train,option)\n",
    "\n",
    "df_results_option_4"
   ]
  },
  {
   "cell_type": "code",
   "execution_count": null,
   "metadata": {
    "ExecuteTime": {
     "start_time": "2020-11-02T18:57:34.517Z"
    }
   },
   "outputs": [],
   "source": [
    "model_select = BayesianRidge()\n",
    "\n",
    "params = {'alpha_1' : [1e-7,1e-6,1e-5,1e-4,1e-3,1e-2,1e-1,0,0.1,0.2,0.3],\n",
    "          'alpha_2' : [1e-7,1e-6,1e-5,1e-4,1e-3,1e-2,1e-1,0,0.1,0.2,0.3],\n",
    "          'lambda_1': [1e-7,1e-6,1e-5,1e-4,1e-3,1e-2,1e-1,0,0.1,0.2,0.3],\n",
    "          'lambda_2': [1e-7,1e-6,1e-5,1e-4,1e-3,1e-2,1e-1,0,0.1,0.2,0.3],\n",
    "          'fit_intercept' : [False,True],\n",
    "          'n_iter' : [100,200,300,400,500,600,700,800,900,1000]\n",
    "         }\n",
    "\n",
    "model_best4 = opt_best_model(model_select,params,X4_train_scaled,y4_train)"
   ]
  },
  {
   "cell_type": "code",
   "execution_count": null,
   "metadata": {
    "ExecuteTime": {
     "start_time": "2020-11-02T18:57:34.519Z"
    }
   },
   "outputs": [],
   "source": [
    "model_coeffs4 = model_best_predict(model_best4,X4_train_scaled,X4_test_scaled,y4_train,y4_test)"
   ]
  },
  {
   "cell_type": "code",
   "execution_count": null,
   "metadata": {
    "ExecuteTime": {
     "start_time": "2020-11-02T18:57:34.520Z"
    }
   },
   "outputs": [],
   "source": [
    "option = 4\n",
    "\n",
    "plot_coefficients(X4_train,model_coeffs4,option,'h')"
   ]
  },
  {
   "cell_type": "code",
   "execution_count": null,
   "metadata": {
    "ExecuteTime": {
     "start_time": "2020-11-02T18:57:34.522Z"
    }
   },
   "outputs": [],
   "source": [
    "def ols_statsmodels(X,y):\n",
    "    \n",
    "    model_ols = sm.OLS(y, sm.add_constant(X)).fit()\n",
    "    \n",
    "    model_ols.summary()\n",
    "    \n",
    "    return(model_ols)"
   ]
  },
  {
   "cell_type": "code",
   "execution_count": null,
   "metadata": {
    "ExecuteTime": {
     "start_time": "2020-11-02T18:57:34.524Z"
    }
   },
   "outputs": [],
   "source": [
    "option = 4\n",
    "zoom = 'N'\n",
    "\n",
    "y4_test_pred,pct_residuals4,residuals4 = plot_residuals(model_best4,X4_test_scaled,y4_test,option)"
   ]
  },
  {
   "cell_type": "markdown",
   "metadata": {},
   "source": [
    "## Modeling with Statsmodel"
   ]
  },
  {
   "cell_type": "markdown",
   "metadata": {},
   "source": [
    "Get a little more extra details with StatsModels OLS"
   ]
  },
  {
   "cell_type": "markdown",
   "metadata": {},
   "source": [
    "### Modeling sm.OLS - Option 1"
   ]
  },
  {
   "cell_type": "code",
   "execution_count": null,
   "metadata": {
    "ExecuteTime": {
     "start_time": "2020-11-02T18:57:34.670Z"
    }
   },
   "outputs": [],
   "source": [
    "# Add intercept for OLS\n",
    "\n",
    "model_ols1 = sm.OLS(y1_train, sm.add_constant(X1_train_scaled)).fit()\n",
    "\n",
    "model_ols1.summary()\n",
    "\n",
    "#model_ols1 = ols_statsmodels(X1_train_scaled,y1_train)\n",
    "\n",
    "#model_ols1.summary()\n",
    "\n",
    "#X1_train_scaled.info()\n",
    "#y1_train.index"
   ]
  },
  {
   "cell_type": "code",
   "execution_count": null,
   "metadata": {
    "ExecuteTime": {
     "start_time": "2020-11-02T18:57:34.672Z"
    }
   },
   "outputs": [],
   "source": [
    "X1_train_scaled.drop(['deltaYears'],axis=1,inplace=True)"
   ]
  },
  {
   "cell_type": "code",
   "execution_count": null,
   "metadata": {
    "ExecuteTime": {
     "start_time": "2020-11-02T18:57:34.674Z"
    }
   },
   "outputs": [],
   "source": [
    "model_ols1x = ols_statsmodels(X1_train_scaled,y1_train)\n",
    "\n",
    "model_ols1x.summary()"
   ]
  },
  {
   "cell_type": "code",
   "execution_count": null,
   "metadata": {
    "ExecuteTime": {
     "start_time": "2020-11-02T18:57:34.676Z"
    }
   },
   "outputs": [],
   "source": [
    "model_ols4 = ols_statsmodels(X4_train_scaled,y4_train)\n",
    "\n",
    "model_ols4.summary()\n",
    "\n"
   ]
  },
  {
   "cell_type": "code",
   "execution_count": null,
   "metadata": {
    "ExecuteTime": {
     "start_time": "2020-11-02T18:57:34.677Z"
    }
   },
   "outputs": [],
   "source": [
    "#sm.OLS(endog = y3_train, exog = sm.add_constant(X3_train)).fit()  #endog = Y, exog = X_opt"
   ]
  },
  {
   "cell_type": "code",
   "execution_count": null,
   "metadata": {},
   "outputs": [],
   "source": []
  }
 ],
 "metadata": {
  "kernelspec": {
   "display_name": "Python 3",
   "language": "python",
   "name": "python3"
  },
  "language_info": {
   "codemirror_mode": {
    "name": "ipython",
    "version": 3
   },
   "file_extension": ".py",
   "mimetype": "text/x-python",
   "name": "python",
   "nbconvert_exporter": "python",
   "pygments_lexer": "ipython3",
   "version": "3.8.1"
  },
  "latex_envs": {
   "LaTeX_envs_menu_present": true,
   "autoclose": false,
   "autocomplete": true,
   "bibliofile": "biblio.bib",
   "cite_by": "apalike",
   "current_citInitial": 1,
   "eqLabelWithNumbers": true,
   "eqNumInitial": 1,
   "hotkeys": {
    "equation": "Ctrl-E",
    "itemize": "Ctrl-I"
   },
   "labels_anchors": false,
   "latex_user_defs": false,
   "report_style_numbering": false,
   "user_envs_cfg": false
  },
  "toc": {
   "base_numbering": 1,
   "nav_menu": {},
   "number_sections": true,
   "sideBar": true,
   "skip_h1_title": false,
   "title_cell": "Table of Contents",
   "title_sidebar": "Contents",
   "toc_cell": false,
   "toc_position": {
    "height": "calc(100% - 180px)",
    "left": "10px",
    "top": "150px",
    "width": "287.837px"
   },
   "toc_section_display": true,
   "toc_window_display": true
  }
 },
 "nbformat": 4,
 "nbformat_minor": 2
}
